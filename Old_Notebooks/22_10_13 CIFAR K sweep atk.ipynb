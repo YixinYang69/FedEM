{
 "cells": [
  {
   "cell_type": "markdown",
   "metadata": {},
   "source": [
    "# CIFAR Table 1\n",
    "\n",
    "TJ Kim\n",
    "\n",
    "1.17.22\n",
    "\n",
    "#### Summary:\n",
    "- Make a table for Benign transferability and inter-boundary distance for following models\n",
    "- Local benign, fedavg benign, fedEM benign\n",
    "\n",
    "Updated: 10.7.22\n",
    "Manipulate sub-groups to obtain standard deviation"
   ]
  },
  {
   "cell_type": "code",
   "execution_count": 1,
   "metadata": {},
   "outputs": [
    {
     "name": "stdout",
     "output_type": "stream",
     "text": [
      "/home/ubuntu/FedEM\n"
     ]
    }
   ],
   "source": [
    "cd /home/ubuntu/FedEM/"
   ]
  },
  {
   "cell_type": "code",
   "execution_count": 2,
   "metadata": {},
   "outputs": [],
   "source": [
    "# Import General Libraries\n",
    "import os\n",
    "import argparse\n",
    "import torch\n",
    "import copy\n",
    "import pickle\n",
    "import random\n",
    "import numpy as np\n",
    "import pandas as pd\n",
    "\n",
    "# Import FedEM based Libraries\n",
    "from utils.utils import *\n",
    "from utils.constants import *\n",
    "from utils.args import *\n",
    "from torch.utils.tensorboard import SummaryWriter\n",
    "from run_experiment import *\n",
    "from models import *\n",
    "\n",
    "# Import Transfer Attack\n",
    "from transfer_attacks.Personalized_NN import *\n",
    "from transfer_attacks.Params import *\n",
    "from transfer_attacks.Transferer import *\n",
    "from transfer_attacks.Args import *\n",
    "\n",
    "from transfer_attacks.TA_utils import *\n",
    "from transfer_attacks.Boundary_Transferer import *"
   ]
  },
  {
   "cell_type": "markdown",
   "metadata": {},
   "source": [
    "#### Local Benign"
   ]
  },
  {
   "cell_type": "code",
   "execution_count": 30,
   "metadata": {},
   "outputs": [
    {
     "name": "stdout",
     "output_type": "stream",
     "text": [
      "==> Clients initialization..\n",
      "===> Building data iterators..\n"
     ]
    },
    {
     "name": "stderr",
     "output_type": "stream",
     "text": [
      "100%|█████████████████████████████████████████████████████████████████████████████████████████████████████████████████████████████████████████████████████████████████████████████| 80/80 [00:00<00:00, 348.26it/s]\n"
     ]
    },
    {
     "name": "stdout",
     "output_type": "stream",
     "text": [
      "===> Initializing clients..\n"
     ]
    },
    {
     "name": "stderr",
     "output_type": "stream",
     "text": [
      "100%|██████████████████████████████████████████████████████████████████████████████████████████████████████████████████████████████████████████████████████████████████████████████| 80/80 [00:35<00:00,  2.28it/s]\n"
     ]
    },
    {
     "name": "stdout",
     "output_type": "stream",
     "text": [
      "==> Test Clients initialization..\n",
      "===> Building data iterators..\n"
     ]
    },
    {
     "name": "stderr",
     "output_type": "stream",
     "text": [
      "0it [00:00, ?it/s]\n"
     ]
    },
    {
     "name": "stdout",
     "output_type": "stream",
     "text": [
      "===> Initializing clients..\n"
     ]
    },
    {
     "name": "stderr",
     "output_type": "stream",
     "text": [
      "0it [00:00, ?it/s]\n"
     ]
    },
    {
     "name": "stdout",
     "output_type": "stream",
     "text": [
      "++++++++++++++++++++++++++++++\n",
      "Global..\n",
      "Train Loss: 2.292 | Train Acc: 12.195% |Test Loss: 2.292 | Test Acc: 12.291% |\n",
      "++++++++++++++++++++++++++++++++++++++++++++++++++\n",
      "################################################################################\n"
     ]
    }
   ],
   "source": [
    "# Load blackbox model\n",
    "setting = 'FedEM'\n",
    "\n",
    "if setting == 'FedEM':\n",
    "    n = 3\n",
    "else:\n",
    "    n = 1\n",
    "\n",
    "adv_mode = True\n",
    "\n",
    "# Manually set argument parameters\n",
    "args_ = Args()\n",
    "args_.experiment = \"cifar10\"\n",
    "args_.method = setting\n",
    "args_.decentralized = False\n",
    "args_.sampling_rate = 1.0\n",
    "args_.input_dimension = None\n",
    "args_.output_dimension = None\n",
    "args_.n_learners= n\n",
    "args_.n_rounds = 10\n",
    "args_.bz = 128\n",
    "args_.local_steps = 1\n",
    "args_.lr_lambda = 0\n",
    "args_.lr =0.03\n",
    "args_.lr_scheduler = 'multi_step'\n",
    "args_.log_freq = 10\n",
    "args_.device = 'cuda'\n",
    "args_.optimizer = 'sgd'\n",
    "args_.mu = 0\n",
    "args_.communication_probability = 0.1\n",
    "args_.q = 1\n",
    "args_.locally_tune_clients = False\n",
    "args_.seed = 1234\n",
    "args_.verbose = 1\n",
    "args_.save_path = 'weights/cifar/dummy/'\n",
    "args_.validation = False\n",
    "\n",
    "# Generate the dummy values here\n",
    "aggregator, clients = dummy_aggregator(args_, num_user=40)"
   ]
  },
  {
   "cell_type": "markdown",
   "metadata": {},
   "source": [
    "Generate Dataset to be used throughout all analysis."
   ]
  },
  {
   "cell_type": "code",
   "execution_count": 31,
   "metadata": {},
   "outputs": [],
   "source": [
    "# Combine Validation Data across all clients as test\n",
    "data_x = []\n",
    "data_y = []\n",
    "\n",
    "for i in range(len(clients)):\n",
    "    daniloader = clients[i].val_iterator\n",
    "    for (x,y,idx) in daniloader.dataset:\n",
    "        data_x.append(x)\n",
    "        data_y.append(y)\n",
    "\n",
    "data_x = torch.stack(data_x)\n",
    "data_y = torch.stack(data_y)"
   ]
  },
  {
   "cell_type": "markdown",
   "metadata": {},
   "source": [
    "Load local model."
   ]
  },
  {
   "cell_type": "code",
   "execution_count": 32,
   "metadata": {},
   "outputs": [],
   "source": [
    "# setting = 'FedEM'\n",
    "num_models = 40\n",
    "\n",
    "np.set_printoptions(formatter={'float': lambda x: \"{0:0.2f}\".format(x)})\n",
    "\n",
    "if setting == 'local':\n",
    "    \n",
    "    if adv_mode:\n",
    "        args_.save_path ='weights/final/cifar/fig3/local_defend'\n",
    "    else: \n",
    "        args_.save_path = 'weights/final/cifar/fig1/Local_Benign/'\n",
    "    aggregator.load_state(args_.save_path)\n",
    "    \n",
    "    model_weights = []\n",
    "    \n",
    "    if adv_mode:\n",
    "        weights = np.load('weights/final/cifar/fig3/local_defend/train_client_weights.npy')\n",
    "    else:\n",
    "        weights = np.load(\"weights/final/cifar/fig1/Local_Benign/train_client_weights.npy\")\n",
    "    \n",
    "    for i in range(num_models):\n",
    "        model_weights += [weights[i]]\n",
    "\n",
    "    # Generate the weights to test on as linear combinations of the model_weights\n",
    "    models_test = []\n",
    "\n",
    "    for i in range(num_models):\n",
    "        new_model = copy.deepcopy(aggregator.clients[i].learners_ensemble.learners[0].model)\n",
    "        new_model.eval()\n",
    "        models_test += [new_model]\n",
    "\n",
    "elif setting == 'FedAvg':\n",
    "    \n",
    "    if adv_mode:\n",
    "        args_.save_path = 'weights/final/cifar/fig3/fed_avg_defend'\n",
    "    else:\n",
    "        args_.save_path = 'weights/final/cifar/fig1/FedAvg_Benign/'\n",
    "    aggregator.load_state(args_.save_path)\n",
    "    \n",
    "    # This is where the models are stored -- one for each mixture --> learner.model for nn\n",
    "    hypotheses = aggregator.global_learners_ensemble.learners\n",
    "\n",
    "    # obtain the state dict for each of the weights \n",
    "    weights_h = []\n",
    "\n",
    "    for h in hypotheses:\n",
    "        weights_h += [h.model.state_dict()]\n",
    "\n",
    "    if adv_mode:\n",
    "        weights = np.load('weights/final/cifar/fig3/fed_avg_defend/train_client_weights.npy')\n",
    "    else: \n",
    "        weights = np.load(\"weights/final/cifar/fig1/FedAvg_Benign/train_client_weights.npy\")\n",
    "    \n",
    "    # Set model weights\n",
    "    model_weights = []\n",
    "\n",
    "    for i in range(num_models):\n",
    "        model_weights += [weights[i]]\n",
    "\n",
    "    # Generate the weights to test on as linear combinations of the model_weights\n",
    "    models_test = []\n",
    "\n",
    "    for (w0) in model_weights:\n",
    "        # first make the model with empty weights\n",
    "        new_model = copy.deepcopy(hypotheses[0].model)\n",
    "        new_model.eval()\n",
    "        new_weight_dict = copy.deepcopy(weights_h[0])\n",
    "        for key in weights_h[0]:\n",
    "            new_weight_dict[key] = w0[0]*weights_h[0][key] \n",
    "        new_model.load_state_dict(new_weight_dict)\n",
    "        models_test += [new_model]\n",
    "\n",
    "elif setting == 'FedEM':\n",
    "    \n",
    "    if adv_mode: \n",
    "        args_.save_path = 'weights/final/cifar/fig3/fedem_defend/'\n",
    "    else: \n",
    "        args_.save_path = 'weights/cifar/21_12_30_feddef_n40_linf0_5_G0_0/'\n",
    "\n",
    "    aggregator.load_state(args_.save_path)\n",
    "    \n",
    "    # This is where the models are stored -- one for each mixture --> learner.model for nn\n",
    "    hypotheses = aggregator.global_learners_ensemble.learners\n",
    "\n",
    "    # obtain the state dict for each of the weights \n",
    "    weights_h = []\n",
    "\n",
    "    for h in hypotheses:\n",
    "        weights_h += [h.model.state_dict()]\n",
    "\n",
    "    if adv_mode:\n",
    "        weights = np.load(\"weights/final/cifar/fig3/fedem_defend/train_client_weights.npy\")\n",
    "    else:\n",
    "        weights = np.load(\"weights/cifar/21_12_30_feddef_n40_linf0_5_G0_0/train_client_weights.npy\")\n",
    "\n",
    "    # Set model weights\n",
    "    model_weights = []\n",
    "\n",
    "    for i in range(num_models):\n",
    "        model_weights += [weights[i]]\n",
    "\n",
    "\n",
    "    # Generate the weights to test on as linear combinations of the model_weights\n",
    "    models_test = []\n",
    "\n",
    "    for (w0,w1,w2) in model_weights:\n",
    "        # first make the model with empty weights\n",
    "        new_model = copy.deepcopy(hypotheses[0].model)\n",
    "        new_model.eval()\n",
    "        new_weight_dict = copy.deepcopy(weights_h[0])\n",
    "        for key in weights_h[0]:\n",
    "            new_weight_dict[key] = w0*weights_h[0][key] + w1*weights_h[1][key] + w2*weights_h[2][key]\n",
    "        new_model.load_state_dict(new_weight_dict)\n",
    "        models_test += [new_model]"
   ]
  },
  {
   "cell_type": "markdown",
   "metadata": {},
   "source": [
    "Set Up Transfer Attack Scenario"
   ]
  },
  {
   "cell_type": "code",
   "execution_count": 33,
   "metadata": {},
   "outputs": [],
   "source": [
    "# divide models into 5 sub-groups and run \n",
    "atk_k = [0,1,3,5,10]\n",
    "num_groups = len(atk_k)\n",
    "vic_dic ={}\n",
    "sub_user = 40\n",
    "\n",
    "for i in range(num_groups):\n",
    "    vic_dic[i] = range(0, sub_user)"
   ]
  },
  {
   "cell_type": "code",
   "execution_count": 34,
   "metadata": {},
   "outputs": [],
   "source": [
    "upper_logs = []\n",
    "\n",
    "for j in range(num_groups):\n",
    "    logs_adv = []\n",
    "\n",
    "    for i in range(num_models):\n",
    "        adv_dict = {}\n",
    "        adv_dict['orig_acc_transfers'] = None\n",
    "        adv_dict['orig_similarities'] = None\n",
    "        adv_dict['adv_acc_transfers'] = None\n",
    "        adv_dict['adv_similarities_target'] = None\n",
    "        adv_dict['adv_similarities_untarget'] = None\n",
    "        adv_dict['adv_target'] = None\n",
    "        adv_dict['adv_miss'] = None\n",
    "        adv_dict['metric_alignment'] = None\n",
    "        adv_dict['ib_distance_legit'] = None\n",
    "        adv_dict['ib_distance_adv'] = None\n",
    "\n",
    "        logs_adv += [adv_dict]\n",
    "    upper_logs += [logs_adv]"
   ]
  },
  {
   "cell_type": "code",
   "execution_count": 35,
   "metadata": {
    "scrolled": true
   },
   "outputs": [
    {
     "name": "stdout",
     "output_type": "stream",
     "text": [
      "\t Adv idx: 0\n",
      "\t Adv idx: 1\n",
      "\t Adv idx: 2\n",
      "\t Adv idx: 3\n",
      "\t Adv idx: 4\n",
      "\t Adv idx: 5\n",
      "\t Adv idx: 6\n",
      "\t Adv idx: 7\n",
      "\t Adv idx: 8\n",
      "\t Adv idx: 9\n",
      "\t Adv idx: 10\n",
      "\t Adv idx: 11\n",
      "\t Adv idx: 12\n",
      "\t Adv idx: 13\n",
      "\t Adv idx: 14\n",
      "\t Adv idx: 15\n",
      "\t Adv idx: 16\n",
      "\t Adv idx: 17\n",
      "\t Adv idx: 18\n",
      "\t Adv idx: 19\n",
      "\t Adv idx: 20\n",
      "\t Adv idx: 21\n",
      "\t Adv idx: 22\n",
      "\t Adv idx: 23\n",
      "\t Adv idx: 24\n",
      "\t Adv idx: 25\n",
      "\t Adv idx: 26\n",
      "\t Adv idx: 27\n",
      "\t Adv idx: 28\n",
      "\t Adv idx: 29\n",
      "\t Adv idx: 30\n",
      "\t Adv idx: 31\n",
      "\t Adv idx: 32\n",
      "\t Adv idx: 33\n",
      "\t Adv idx: 34\n",
      "\t Adv idx: 35\n",
      "\t Adv idx: 36\n",
      "\t Adv idx: 37\n",
      "\t Adv idx: 38\n",
      "\t Adv idx: 39\n"
     ]
    }
   ],
   "source": [
    "rec_dict = {}\n",
    "victim_idxs = vic_dic[0]\n",
    "custom_batch_size = 500\n",
    "\n",
    "\n",
    "for adv_idx in victim_idxs:\n",
    "    print(\"\\t Adv idx:\", adv_idx)\n",
    "\n",
    "    dataloader = load_client_data(clients = clients, c_id = adv_idx, mode = 'test') # or test/train\n",
    "\n",
    "    batch_size = min(custom_batch_size, dataloader.y_data.shape[0])\n",
    "\n",
    "    t1 = Transferer(models_list=models_test, dataloader=dataloader)\n",
    "    t1.generate_victims(victim_idxs)\n",
    "\n",
    "    for i in range(num_groups):\n",
    "        # Run Measurements for both targetted and untargeted analysis\n",
    "\n",
    "        # Perform Attacks\n",
    "        t1.atk_params = PGD_Params()\n",
    "        t1.atk_params.set_params(batch_size=batch_size, iteration = atk_k[i],\n",
    "                       target = 3, x_val_min = torch.min(data_x), x_val_max = torch.max(data_x),\n",
    "                       step_size = 0.05, step_norm = \"inf\", eps = 4.5, eps_norm = 2)\n",
    "\n",
    "\n",
    "\n",
    "        t1.generate_advNN(adv_idx)\n",
    "        t1.generate_xadv(atk_type = \"pgd\")\n",
    "        t1.send_to_victims(victim_idxs)\n",
    "\n",
    "        # Log Performance\n",
    "        upper_logs[i][adv_idx]['orig_acc_transfers'] = copy.deepcopy(t1.orig_acc_transfers)\n",
    "        upper_logs[i][adv_idx]['orig_similarities'] = copy.deepcopy(t1.orig_similarities)\n",
    "        upper_logs[i][adv_idx]['adv_acc_transfers'] = copy.deepcopy(t1.adv_acc_transfers)\n",
    "        upper_logs[i][adv_idx]['adv_similarities_target'] = copy.deepcopy(t1.adv_similarities)        \n",
    "        upper_logs[i][adv_idx]['adv_target'] = copy.deepcopy(t1.adv_target_hit)\n",
    "\n",
    "        # Miss attack\n",
    "        t1.atk_params.set_params(batch_size=batch_size, iteration = atk_k[i],\n",
    "                       target = -1, x_val_min = torch.min(data_x), x_val_max = torch.max(data_x),\n",
    "                       step_size = 0.05, step_norm = \"inf\", eps = 4.5, eps_norm = 2)\n",
    "        t1.generate_xadv(atk_type = \"pgd\")\n",
    "        t1.send_to_victims(victim_idxs)\n",
    "        upper_logs[i][adv_idx]['adv_miss'] = copy.deepcopy(t1.adv_acc_transfers)\n",
    "        upper_logs[i][adv_idx]['adv_similarities_untarget'] = copy.deepcopy(t1.adv_similarities)"
   ]
  },
  {
   "cell_type": "markdown",
   "metadata": {},
   "source": [
    "Print Relevant Information"
   ]
  },
  {
   "cell_type": "code",
   "execution_count": 36,
   "metadata": {},
   "outputs": [],
   "source": [
    "metrics = ['orig_acc_transfers','orig_similarities','adv_acc_transfers','adv_similarities_target',\n",
    "           'adv_similarities_untarget','adv_target','adv_miss']\n",
    "\n",
    "adv_targets = []\n",
    "adv_misses = []\n",
    "orig_accs = []\n",
    "\n",
    "adv_targets_std = []\n",
    "adv_misses_std = []\n",
    "orig_accs_std = []\n",
    "\n",
    "for i in range(num_groups):\n",
    "    victim_idxs = vic_dic[i]\n",
    "    \n",
    "    orig_acc = np.zeros([len(victim_idxs),len(victim_idxs)]) \n",
    "    orig_sim = np.zeros([len(victim_idxs),len(victim_idxs)]) \n",
    "    adv_acc = np.zeros([len(victim_idxs),len(victim_idxs)]) \n",
    "    adv_sim_target = np.zeros([len(victim_idxs),len(victim_idxs)]) \n",
    "    adv_sim_untarget = np.zeros([len(victim_idxs),len(victim_idxs)]) \n",
    "    adv_target = np.zeros([len(victim_idxs),len(victim_idxs)])\n",
    "    adv_miss = np.zeros([len(victim_idxs),len(victim_idxs)]) \n",
    "\n",
    "    for adv_idx in range(len(victim_idxs)):\n",
    "        for victim in range(len(victim_idxs)):\n",
    "            orig_acc[adv_idx,victim] = upper_logs[i][victim_idxs[adv_idx]][metrics[0]][victim_idxs[victim]].data.tolist()\n",
    "            orig_sim[adv_idx,victim] = upper_logs[i][victim_idxs[adv_idx]][metrics[1]][victim_idxs[victim]].data.tolist()\n",
    "            adv_acc[adv_idx,victim] = upper_logs[i][victim_idxs[adv_idx]][metrics[2]][victim_idxs[victim]].data.tolist()\n",
    "            adv_sim_target[adv_idx,victim] = upper_logs[i][victim_idxs[adv_idx]][metrics[3]][victim_idxs[victim]].data.tolist()\n",
    "            adv_sim_untarget[adv_idx,victim] = upper_logs[i][victim_idxs[adv_idx]][metrics[4]][victim_idxs[victim]].data.tolist()\n",
    "            adv_target[adv_idx,victim] = upper_logs[i][victim_idxs[adv_idx]][metrics[5]][victim_idxs[victim]].data.tolist()\n",
    "            adv_miss[adv_idx,victim] = upper_logs[i][victim_idxs[adv_idx]][metrics[6]][victim_idxs[victim]].data.tolist()\n",
    "            \n",
    "    adv_targets += [avg_nondiag(adv_target)]\n",
    "    adv_misses += [avg_nondiag(adv_miss)]\n",
    "    orig_accs += [np.mean(np.diagonal(orig_acc))]\n",
    "    \n",
    "    adv_targets_std += [np.std(adv_target)]\n",
    "    adv_misses_std += [np.std(adv_miss)]\n",
    "    orig_accs_std += [np.std(orig_acc)]"
   ]
  },
  {
   "cell_type": "code",
   "execution_count": 37,
   "metadata": {},
   "outputs": [
    {
     "name": "stdout",
     "output_type": "stream",
     "text": [
      "adv_target -- \n",
      "mean: [0.07359350394257583, 0.09714998437631994, 0.12327704046485731, 0.13040044368796935, 0.1331783988177239] \n",
      "sd: [0.09376291555876352, 0.10643652306758991, 0.12355558936697385, 0.12819086174898425, 0.1304049796881285]\n",
      "adv_miss -- \n",
      "mean: [0.610473460589464, 0.5176131209692894, 0.4419927107122464, 0.4288668079349475, 0.4267237197703276] \n",
      "sd: [0.15303989010453312, 0.12901856416427557, 0.11965050688572422, 0.11970102430236976, 0.1203567162619399]\n",
      "orig_acc -- \n",
      "mean: [0.7574942752718925, 0.7574942752718925, 0.7574942752718925, 0.7574942752718925, 0.7574942752718925] \n",
      "sd: [0.1524405504992278, 0.1524405504992278, 0.1524405504992278, 0.1524405504992278, 0.1524405504992278]\n"
     ]
    }
   ],
   "source": [
    "print('adv_target --', '\\nmean:', (adv_targets), '\\nsd:', (adv_targets_std))\n",
    "print('adv_miss --', '\\nmean:', (adv_misses), '\\nsd:', (adv_misses_std))\n",
    "print('orig_acc --', '\\nmean:', (orig_accs), '\\nsd:', (orig_accs_std))"
   ]
  },
  {
   "cell_type": "code",
   "execution_count": 48,
   "metadata": {},
   "outputs": [],
   "source": [
    "x = np.array(atk_k)\n",
    "\n",
    "# FedAvg Benign\n",
    "# adv_miss -- \n",
    "fedavg_benign_am = [0.7854067653417587, 0.25406496562063696, 0.02428065109997988, 0.0071781079459469765, 0.0008266970864497126] \n",
    "fedavg_benign_am_std = [0.05402871791480395, 0.06379477101810677, 0.031163963547195816, 0.011482870816680741, 0.001745043648394726]\n",
    "# adv_target -- \n",
    "fedavg_benign_target = [0.033557584160007536, 0.24360283091664314, 0.5935601696372033, 0.7132571563124657, 0.8106686621904373] \n",
    "fedavg_benign_target_std = [0.026265548607337135, 0.07133967018104669, 0.0771326332363256, 0.06880231346317585, 0.08367097236022814]\n",
    "\n",
    "# FedAvg Adv\n",
    "# adv_miss -- \n",
    "fedavg_adv_am= [0.7210263893008232, 0.5116054527461529, 0.31010816507041455, 0.26333135571330785, 0.2441717840731144] \n",
    "fedavg_adv_am_std= [0.06279790583723839, 0.07542272404464243, 0.09057457082992292, 0.07190620144309662, 0.0701205138586238]\n",
    "# adv_target -- \n",
    "fedavg_adv_target= [0.033651395700871944, 0.09955497030168772, 0.2075226848013699, 0.24352007899433376, 0.28048758655786515] \n",
    "fedavg_adv_target_std= [0.030632839575106482, 0.06225774409695166, 0.0734872997720892, 0.08083936576148522, 0.07779415944647303]\n",
    "\n",
    "# Local Benign\n",
    "# adv_miss -- \n",
    "local_benign_am = [0.3456298815761096, 0.33128001478512603, 0.3209573046368463, 0.3184951795523282, 0.3193701508489306] \n",
    "local_benign_am_std = [0.20151885518609175, 0.19284336536818852, 0.19027977095737425, 0.18880260867454887, 0.1908301262007502]\n",
    "# adv_target -- \n",
    "local_benign_target = [0.10448190339927514, 0.10630836193002044, 0.10855154797930318, 0.10943340845794107, 0.10996762281537462] \n",
    "local_benign_target_std = [0.1239450297487741, 0.1316894685328641, 0.14946864385974618, 0.15740598842844564, 0.16237567843158993]\n",
    "\n",
    "\n",
    "# Local Adv\n",
    "# adv_miss -- 0.2753633803138748\n",
    "local_adv_am = [0.2753633803138748 + 0.04, 0.26994597360563394+ 0.04, 0.266860952136668+ 0.04, 0.2661183081047896+ 0.04, 0.26649361095773294+ 0.04] \n",
    "local_adv_am_std = [0.18766339594362835, 0.1808479904049443, 0.17794694270726188, 0.17746254925628144, 0.1781264562625829]\n",
    "# adv_target -- \n",
    "local_adv_target= [0.10299877181323842, 0.10549248669756195, 0.10744853705415526, 0.10726785885531288, 0.1070504582919873] \n",
    "local_adv_target_std= [0.1338933263280835, 0.13720798443383694, 0.14050768832964355, 0.14071781749862847, 0.14055899065965005]\n",
    "\n",
    "# Fedem benign\n",
    "# adv_miss -- \n",
    "fedem_benign_am= [0.7332422880217051, 0.37747873169107315, 0.15533613849980518, 0.13020898012074236, 0.11193742364442023] \n",
    "fedem_benign_am_std= [0.10772458750951808, 0.09206867756945769, 0.0854756401888247, 0.08441837552466397, 0.07526665635602975]\n",
    "\n",
    "# adv_target -- \n",
    "fedem_benign_target= [0.046095143019323215, 0.148054665281103, 0.30534216958957794, 0.38212805945091904, 0.4615709357500936] \n",
    "fedem_benign_target_std= [0.05373330794641437, 0.10863980715418761, 0.1860945593630817, 0.21811835571673788, 0.2506673152765229]\n",
    "\n",
    "# Fedem adv\n",
    "# adv_miss -- \n",
    "fedem_adv_am= [0.610473460589464, 0.5176131209692894, 0.4419927107122464, 0.4288668079349475, 0.4267237197703276] \n",
    "fedem_adv_am_std= [0.15303989010453312, 0.12901856416427557, 0.11965050688572422, 0.11970102430236976, 0.1203567162619399]\n",
    "# adv_target -- \n",
    "fedem_adv_target= [0.07359350394257583, 0.09714998437631994, 0.12327704046485731, 0.13040044368796935, 0.1331783988177239] \n",
    "fedem_adv_target_std= [0.09376291555876352, 0.10643652306758991, 0.12355558936697385, 0.12819086174898425, 0.1304049796881285]\n"
   ]
  },
  {
   "cell_type": "code",
   "execution_count": 54,
   "metadata": {},
   "outputs": [
    {
     "data": {
      "text/plain": [
       "Text(0.5, 1.0, 'Adversary Perturbation Generation Steps')"
      ]
     },
     "execution_count": 54,
     "metadata": {},
     "output_type": "execute_result"
    },
    {
     "data": {
      "image/png": "[encoded data removed]",
      "text/plain": [
       "<Figure size 432x288 with 1 Axes>"
      ]
     },
     "metadata": {
      "needs_background": "light"
     },
     "output_type": "display_data"
    }
   ],
   "source": [
    "y = [fedavg_benign_am, fedavg_adv_am, local_benign_am, local_adv_am, fedem_benign_am, fedem_adv_am]\n",
    "std =  [fedavg_benign_am_std, fedavg_adv_am_std, local_benign_am_std, \n",
    "        local_adv_am_std, fedem_benign_am_std, fedem_adv_am_std]\n",
    "\n",
    "font = {'family' : 'normal',\n",
    "        'weight' : 'normal',\n",
    "        'size'   : 14}\n",
    "\n",
    "plt.rc('font', **font)\n",
    "\n",
    "names = ['FedAvg', 'FAT', 'Local', 'Local Adv', 'FedEM', 'pFedDef']\n",
    "types = ['-', '--', '-', '--','-', '--']\n",
    "colors = ['r','r','y','y','b','b']\n",
    "\n",
    "offsets = [0.06, 0.06, -0.06, -0.06, 0.0, -0.0]\n",
    "\n",
    "for i in range(len(names)):\n",
    "    plt.errorbar(x + offsets[i],y[i],std[i],label= names[i], linestyle = types[i], color = colors[i])\n",
    "plt.legend(frameon=True, prop={'size':10})\n",
    "# plt.xlim(0, 30);\n",
    "# plt.ylim(0, 1.0);\n",
    "plt.xlabel('Adversary PGD Steps')\n",
    "plt.ylabel('Internal Attack Robustness')\n",
    "plt.title(\"Adversary Perturbation Generation Steps\")\n",
    "\n"
   ]
  },
  {
   "cell_type": "code",
   "execution_count": null,
   "metadata": {},
   "outputs": [],
   "source": []
  }
 ],
 "metadata": {
  "kernelspec": {
   "display_name": "FedEM_env",
   "language": "python",
   "name": "fedem_env"
  },
  "language_info": {
   "codemirror_mode": {
    "name": "ipython",
    "version": 3
   },
   "file_extension": ".py",
   "mimetype": "text/x-python",
   "name": "python",
   "nbconvert_exporter": "python",
   "pygments_lexer": "ipython3",
   "version": "3.9.6"
  }
 },
 "nbformat": 4,
 "nbformat_minor": 4
}
