{
 "cells": [
  {
   "cell_type": "code",
   "execution_count": 1,
   "metadata": {},
   "outputs": [
    {
     "name": "stdout",
     "output_type": "stream",
     "text": [
      "/home/ubuntu/FedEM\n"
     ]
    }
   ],
   "source": [
    "cd /home/ubuntu/FedEM/"
   ]
  },
  {
   "cell_type": "code",
   "execution_count": 2,
   "metadata": {},
   "outputs": [],
   "source": [
    "# Import General Libraries\n",
    "import os\n",
    "import argparse\n",
    "import torch\n",
    "import copy\n",
    "import pickle\n",
    "import random\n",
    "import numpy as np\n",
    "import pandas as pd\n",
    "\n",
    "# Import FedEM based Libraries\n",
    "from utils.utils import *\n",
    "from utils.constants import *\n",
    "from utils.args import *\n",
    "from torch.utils.tensorboard import SummaryWriter\n",
    "from run_experiment import *\n",
    "from models import *\n",
    "\n",
    "# Import Transfer Attack\n",
    "from transfer_attacks.Personalized_NN import *\n",
    "from transfer_attacks.Params import *\n",
    "from transfer_attacks.Transferer import *\n",
    "from transfer_attacks.Args import *\n",
    "\n",
    "from transfer_attacks.TA_utils import *\n",
    "from transfer_attacks.Boundary_Transferer import *"
   ]
  },
  {
   "cell_type": "code",
   "execution_count": 7,
   "metadata": {},
   "outputs": [
    {
     "name": "stdout",
     "output_type": "stream",
     "text": [
      "==> Clients initialization..\n",
      "===> Building data iterators..\n"
     ]
    },
    {
     "name": "stderr",
     "output_type": "stream",
     "text": [
      "100%|██████████████████████████████████████████| 80/80 [00:00<00:00, 270.38it/s]\n"
     ]
    },
    {
     "name": "stdout",
     "output_type": "stream",
     "text": [
      "===> Initializing clients..\n"
     ]
    },
    {
     "name": "stderr",
     "output_type": "stream",
     "text": [
      "100%|███████████████████████████████████████████| 80/80 [00:45<00:00,  1.74it/s]\n"
     ]
    },
    {
     "name": "stdout",
     "output_type": "stream",
     "text": [
      "==> Test Clients initialization..\n",
      "===> Building data iterators..\n"
     ]
    },
    {
     "name": "stderr",
     "output_type": "stream",
     "text": [
      "0it [00:00, ?it/s]\n"
     ]
    },
    {
     "name": "stdout",
     "output_type": "stream",
     "text": [
      "===> Initializing clients..\n"
     ]
    },
    {
     "name": "stderr",
     "output_type": "stream",
     "text": [
      "0it [00:00, ?it/s]\n"
     ]
    },
    {
     "name": "stdout",
     "output_type": "stream",
     "text": [
      "++++++++++++++++++++++++++++++\n",
      "Global..\n",
      "Train Loss: 2.292 | Train Acc: 12.195% |Test Loss: 2.292 | Test Acc: 12.291% |\n",
      "++++++++++++++++++++++++++++++++++++++++++++++++++\n",
      "################################################################################\n"
     ]
    }
   ],
   "source": [
    "# Manually set argument parameters\n",
    "args_ = Args()\n",
    "args_.experiment = \"cifar10\"\n",
    "args_.method = \"FedEM_adv\"\n",
    "args_.decentralized = False\n",
    "args_.sampling_rate = 1.0\n",
    "args_.input_dimension = None\n",
    "args_.output_dimension = None\n",
    "args_.n_learners= 3\n",
    "args_.n_rounds = 10\n",
    "args_.bz = 128\n",
    "args_.local_steps = 1\n",
    "args_.lr_lambda = 0\n",
    "args_.lr =0.03\n",
    "args_.lr_scheduler = 'multi_step'\n",
    "args_.log_freq = 10\n",
    "args_.device = 'cuda'\n",
    "args_.optimizer = 'sgd'\n",
    "args_.mu = 0\n",
    "args_.communication_probability = 0.1\n",
    "args_.q = 1\n",
    "args_.locally_tune_clients = False\n",
    "args_.seed = 1234\n",
    "args_.verbose = 1\n",
    "args_.save_path = 'weights/cifar/22_01_09_fedavg_n80_benign/'\n",
    "args_.validation = False\n",
    "args_.num_user = 40\n",
    "\n",
    "# Generate the dummy values here\n",
    "aggregator, clients = dummy_aggregator(args_, num_user=args_.num_user)"
   ]
  },
  {
   "cell_type": "code",
   "execution_count": 8,
   "metadata": {},
   "outputs": [],
   "source": [
    "# Combine Validation Data across all clients as test\n",
    "data_x = []\n",
    "data_y = []\n",
    "\n",
    "for i in range(len(clients)):\n",
    "    daniloader = clients[i].val_iterator\n",
    "    for (x,y,idx) in daniloader.dataset:\n",
    "        data_x.append(x)\n",
    "        data_y.append(y)\n",
    "\n",
    "data_x = torch.stack(data_x)\n",
    "data_y = torch.stack(data_y)\n",
    "\n",
    "# Create dataloader from validation dataset that allows for diverse batch size\n",
    "dataloader = Custom_Dataloader(data_x, data_y)"
   ]
  },
  {
   "cell_type": "code",
   "execution_count": 19,
   "metadata": {},
   "outputs": [],
   "source": [
    "exp_names = ['weights/neurips/cifar/client_count/fedavg_adv/c5/',\n",
    "             'weights/neurips/cifar/client_count/fedavg_adv/c10/',\n",
    "             'weights/neurips/cifar/client_count/fedavg_adv/c20/',\n",
    "             'weights/neurips/cifar/client_count/fedavg_adv/c30/',\n",
    "             'weights/neurips/cifar/client_count/fedavg_adv/c40/',\n",
    "            'weights/neurips/cifar/client_count/fedavg_adv/c50/']\n",
    "\n",
    "exp_names = ['weights/neurips/cifar/client_count/fedavg_adv/c50/']\n",
    "\n",
    "train_item = 'train_client_weights.npy'\n",
    "\n",
    "# cc = [5,10,20,30,40]\n",
    "cc = [50]"
   ]
  },
  {
   "cell_type": "code",
   "execution_count": 20,
   "metadata": {},
   "outputs": [
    {
     "name": "stdout",
     "output_type": "stream",
     "text": [
      "==> Clients initialization..\n",
      "===> Building data iterators..\n"
     ]
    },
    {
     "name": "stderr",
     "output_type": "stream",
     "text": [
      "100%|██████████████████████████████████████████| 80/80 [00:00<00:00, 352.92it/s]\n"
     ]
    },
    {
     "name": "stdout",
     "output_type": "stream",
     "text": [
      "===> Initializing clients..\n"
     ]
    },
    {
     "name": "stderr",
     "output_type": "stream",
     "text": [
      "100%|███████████████████████████████████████████| 80/80 [00:43<00:00,  1.85it/s]\n"
     ]
    },
    {
     "name": "stdout",
     "output_type": "stream",
     "text": [
      "==> Test Clients initialization..\n",
      "===> Building data iterators..\n"
     ]
    },
    {
     "name": "stderr",
     "output_type": "stream",
     "text": [
      "0it [00:00, ?it/s]\n"
     ]
    },
    {
     "name": "stdout",
     "output_type": "stream",
     "text": [
      "===> Initializing clients..\n"
     ]
    },
    {
     "name": "stderr",
     "output_type": "stream",
     "text": [
      "0it [00:00, ?it/s]\n"
     ]
    },
    {
     "name": "stdout",
     "output_type": "stream",
     "text": [
      "++++++++++++++++++++++++++++++\n",
      "Global..\n",
      "Train Loss: 2.292 | Train Acc: 12.177% |Test Loss: 2.292 | Test Acc: 12.219% |\n",
      "++++++++++++++++++++++++++++++++++++++++++++++++++\n",
      "################################################################################\n",
      "processing file weights/neurips/cifar/client_count/fedavg_adv/c50/ ...\n",
      "\t Adv idx: 0\n",
      "\t Adv idx: 1\n",
      "\t Adv idx: 2\n",
      "\t Adv idx: 3\n",
      "\t Adv idx: 4\n",
      "\t Adv idx: 5\n",
      "\t Adv idx: 6\n",
      "\t Adv idx: 7\n",
      "\t Adv idx: 8\n",
      "\t Adv idx: 9\n",
      "\t Adv idx: 10\n",
      "\t Adv idx: 11\n",
      "\t Adv idx: 12\n",
      "\t Adv idx: 13\n",
      "\t Adv idx: 14\n",
      "\t Adv idx: 15\n",
      "\t Adv idx: 16\n",
      "\t Adv idx: 17\n",
      "\t Adv idx: 18\n",
      "\t Adv idx: 19\n",
      "\t Adv idx: 20\n",
      "\t Adv idx: 21\n",
      "\t Adv idx: 22\n",
      "\t Adv idx: 23\n",
      "\t Adv idx: 24\n",
      "\t Adv idx: 25\n",
      "\t Adv idx: 26\n",
      "\t Adv idx: 27\n",
      "\t Adv idx: 28\n",
      "\t Adv idx: 29\n",
      "\t Adv idx: 30\n",
      "\t Adv idx: 31\n",
      "\t Adv idx: 32\n",
      "\t Adv idx: 33\n",
      "\t Adv idx: 34\n",
      "\t Adv idx: 35\n",
      "\t Adv idx: 36\n",
      "\t Adv idx: 37\n",
      "\t Adv idx: 38\n",
      "\t Adv idx: 39\n",
      "\t Adv idx: 40\n",
      "\t Adv idx: 41\n",
      "\t Adv idx: 42\n",
      "\t Adv idx: 43\n",
      "\t Adv idx: 44\n",
      "\t Adv idx: 45\n",
      "\t Adv idx: 46\n",
      "\t Adv idx: 47\n",
      "\t Adv idx: 48\n",
      "\t Adv idx: 49\n"
     ]
    }
   ],
   "source": [
    "# Inter Boundary Distance Metric\n",
    "custom_batch_size = 500\n",
    "\n",
    "exp_logs = {}\n",
    "num_exp = len(exp_names)\n",
    "\n",
    "for j in range(num_exp):\n",
    "    \n",
    "    aggregator, clients = dummy_aggregator(args_, num_user=cc[j])\n",
    "    num_victims = cc[j]\n",
    "    \n",
    "    # Set Up Dictionaries -- list holds the adversary idx\n",
    "\n",
    "\n",
    "    logs_adv = []\n",
    "\n",
    "    for i in range(num_victims):\n",
    "        adv_dict = {}\n",
    "        adv_dict['orig_acc_transfers'] = None\n",
    "        adv_dict['orig_similarities'] = None\n",
    "        adv_dict['adv_acc_transfers'] = None\n",
    "        adv_dict['adv_similarities_target'] = None\n",
    "        adv_dict['adv_similarities_untarget'] = None\n",
    "        adv_dict['adv_target'] = None\n",
    "        adv_dict['adv_miss'] = None\n",
    "        adv_dict['metric_alignment'] = None\n",
    "        adv_dict['ib_distance_legit'] = None\n",
    "        adv_dict['ib_distance_adv'] = None\n",
    "\n",
    "        logs_adv += [adv_dict]\n",
    "\n",
    "    exp_logs[j] = copy.deepcopy(logs_adv)\n",
    "\n",
    "    \n",
    "    \n",
    "    print('processing file', exp_names[j], '...')\n",
    "    \n",
    "    # Change name if need be\n",
    "    args_.save_path = exp_names[j]\n",
    "\n",
    "    # Import weights for aggregator\n",
    "    aggregator.load_state(args_.save_path)\n",
    "\n",
    "    # This is where the models are stored -- one for each mixture --> learner.model for nn\n",
    "    hypotheses = aggregator.global_learners_ensemble.learners\n",
    "\n",
    "    # obtain the state dict for each of the weights \n",
    "    weights_h = []\n",
    "\n",
    "    for h in hypotheses:\n",
    "        weights_h += [h.model.state_dict()]\n",
    "        \n",
    "    weight_name = args_.save_path + train_item\n",
    "    weights = np.load(weight_name)\n",
    "    np.set_printoptions(formatter={'float': lambda x: \"{0:0.2f}\".format(x)})\n",
    "\n",
    "    # Set model weights\n",
    "    model_weights = []\n",
    "    num_models = num_victims\n",
    "\n",
    "    for i in range(num_models):\n",
    "        model_weights += [weights[i]]\n",
    "\n",
    "\n",
    "    # Generate the weights to test on as linear combinations of the model_weights\n",
    "    models_test = []\n",
    "\n",
    "    for (w0,w1,w2) in model_weights:\n",
    "        # first make the model with empty weights\n",
    "        new_model = copy.deepcopy(hypotheses[0].model)\n",
    "        new_model.eval()\n",
    "        new_weight_dict = copy.deepcopy(weights_h[0])\n",
    "        for key in weights_h[0]:\n",
    "            new_weight_dict[key] = w0*weights_h[0][key]  + w1*weights_h[1][key] +w2*weights_h[2][key] \n",
    "        new_model.load_state_dict(new_weight_dict)\n",
    "        models_test += [new_model]\n",
    "    \n",
    "\n",
    "    victim_idxs = range(num_victims)\n",
    "\n",
    "    for adv_idx in victim_idxs:\n",
    "        print(\"\\t Adv idx:\", adv_idx)\n",
    "        # Perform Attacks\n",
    "        dataloader = load_client_data(clients = clients, c_id = adv_idx, mode = 'test') # or test/train\n",
    "        batch_size = min(custom_batch_size, dataloader.y_data.shape[0])\n",
    "        \n",
    "        t1 = Transferer(models_list=models_test, dataloader=dataloader)\n",
    "        t1.generate_victims(victim_idxs)\n",
    "        \n",
    "        t1.atk_params = PGD_Params()\n",
    "        t1.atk_params.set_params(batch_size=batch_size, iteration = 10,\n",
    "                       target = 3, x_val_min = torch.min(data_x), x_val_max = torch.max(data_x),\n",
    "                       step_size = 0.05, step_norm = \"inf\", eps = 4, eps_norm = 2)\n",
    "\n",
    "        t1.generate_advNN(adv_idx)\n",
    "        t1.generate_xadv(atk_type = \"pgd\")\n",
    "        t1.send_to_victims(victim_idxs)\n",
    "        # t1.check_empirical_metrics(orig_flag = True)\n",
    "\n",
    "        # Log Performance\n",
    "        exp_logs[j][adv_idx]['orig_acc_transfers'] = copy.deepcopy(t1.orig_acc_transfers)\n",
    "        exp_logs[j][adv_idx]['orig_similarities'] = copy.deepcopy(t1.orig_similarities)\n",
    "        exp_logs[j][adv_idx]['adv_acc_transfers'] = copy.deepcopy(t1.adv_acc_transfers)\n",
    "        exp_logs[j][adv_idx]['adv_similarities_target'] = copy.deepcopy(t1.adv_similarities)        \n",
    "        exp_logs[j][adv_idx]['adv_target'] = copy.deepcopy(t1.adv_target_hit)\n",
    "\n",
    "        # Miss attack\n",
    "        t1.atk_params.set_params(batch_size=batch_size, iteration = 10,\n",
    "                       target = -1, x_val_min = torch.min(data_x), x_val_max = torch.max(data_x),\n",
    "                       step_size = 0.05, step_norm = \"inf\", eps = 4, eps_norm = 2)\n",
    "        t1.generate_xadv(atk_type = \"pgd\")\n",
    "        t1.send_to_victims(victim_idxs)\n",
    "        exp_logs[j][adv_idx]['adv_miss'] = copy.deepcopy(t1.adv_acc_transfers)\n",
    "        exp_logs[j][adv_idx]['adv_similarities_untarget'] = copy.deepcopy(t1.adv_similarities)\n",
    "\n",
    "\n",
    "    del models_test"
   ]
  },
  {
   "cell_type": "markdown",
   "metadata": {},
   "source": [
    "Organizing and plotting data"
   ]
  },
  {
   "cell_type": "code",
   "execution_count": 21,
   "metadata": {},
   "outputs": [],
   "source": [
    "metrics = ['orig_acc_transfers','orig_similarities','adv_acc_transfers','adv_similarities_target',\n",
    "           'adv_similarities_untarget','adv_target','adv_miss'] #,'metric_alignment']\n",
    "\n",
    "\n",
    "orig_acc = []\n",
    "orig_sim = []\n",
    "adv_acc = []\n",
    "adv_sim_target = []\n",
    "adv_sim_untarget = []\n",
    "adv_target = []\n",
    "adv_miss = []\n",
    "\n",
    "for i in range(len(exp_names)):\n",
    "    victim_idxs = range(cc[i])\n",
    "    \n",
    "    orig_acc += [np.zeros([len(victim_idxs),len(victim_idxs)])]\n",
    "    orig_sim += [np.zeros([len(victim_idxs),len(victim_idxs)])]\n",
    "    adv_acc += [np.zeros([len(victim_idxs),len(victim_idxs)]) ]\n",
    "    adv_sim_target += [np.zeros([len(victim_idxs),len(victim_idxs)]) ]\n",
    "    adv_sim_untarget += [np.zeros([len(victim_idxs),len(victim_idxs)]) ]\n",
    "    adv_target += [np.zeros([len(victim_idxs),len(victim_idxs)])]\n",
    "    adv_miss += [np.zeros([len(victim_idxs),len(victim_idxs)]) ]\n",
    "    \n",
    "    for adv_idx in range(len(victim_idxs)):\n",
    "        for victim in range(len(victim_idxs)):\n",
    "            orig_acc[i][adv_idx,victim] = exp_logs[i][victim_idxs[adv_idx]][metrics[0]][victim_idxs[victim]].data.tolist()\n",
    "            orig_sim[i][adv_idx,victim] = exp_logs[i][victim_idxs[adv_idx]][metrics[1]][victim_idxs[victim]].data.tolist()\n",
    "            adv_acc[i][adv_idx,victim] = exp_logs[i][victim_idxs[adv_idx]][metrics[2]][victim_idxs[victim]].data.tolist()\n",
    "            adv_sim_target[i][adv_idx,victim] = exp_logs[i][victim_idxs[adv_idx]][metrics[3]][victim_idxs[victim]].data.tolist()\n",
    "            adv_sim_untarget[i][adv_idx,victim] = exp_logs[i][victim_idxs[adv_idx]][metrics[4]][victim_idxs[victim]].data.tolist()\n",
    "            adv_target[i][adv_idx,victim] = exp_logs[i][victim_idxs[adv_idx]][metrics[5]][victim_idxs[victim]].data.tolist()\n",
    "            adv_miss[i][adv_idx,victim] = exp_logs[i][victim_idxs[adv_idx]][metrics[6]][victim_idxs[victim]].data.tolist()"
   ]
  },
  {
   "cell_type": "code",
   "execution_count": 3,
   "metadata": {},
   "outputs": [
    {
     "ename": "NameError",
     "evalue": "name 'exp_names' is not defined",
     "output_type": "error",
     "traceback": [
      "\u001b[0;31m---------------------------------------------------------------------------\u001b[0m",
      "\u001b[0;31mNameError\u001b[0m                                 Traceback (most recent call last)",
      "\u001b[0;32m/tmp/ipykernel_17392/4106769124.py\u001b[0m in \u001b[0;36m<module>\u001b[0;34m\u001b[0m\n\u001b[1;32m      5\u001b[0m \u001b[0my_robust\u001b[0m \u001b[0;34m=\u001b[0m \u001b[0;34m[\u001b[0m\u001b[0;34m]\u001b[0m\u001b[0;34m\u001b[0m\u001b[0;34m\u001b[0m\u001b[0m\n\u001b[1;32m      6\u001b[0m \u001b[0my_target\u001b[0m \u001b[0;34m=\u001b[0m \u001b[0;34m[\u001b[0m\u001b[0;34m]\u001b[0m\u001b[0;34m\u001b[0m\u001b[0;34m\u001b[0m\u001b[0m\n\u001b[0;32m----> 7\u001b[0;31m \u001b[0;32mfor\u001b[0m \u001b[0mi\u001b[0m \u001b[0;32min\u001b[0m \u001b[0mrange\u001b[0m\u001b[0;34m(\u001b[0m\u001b[0mlen\u001b[0m\u001b[0;34m(\u001b[0m\u001b[0mexp_names\u001b[0m\u001b[0;34m)\u001b[0m\u001b[0;34m)\u001b[0m\u001b[0;34m:\u001b[0m\u001b[0;34m\u001b[0m\u001b[0;34m\u001b[0m\u001b[0m\n\u001b[0m\u001b[1;32m      8\u001b[0m     \u001b[0my_acc\u001b[0m \u001b[0;34m+=\u001b[0m \u001b[0;34m[\u001b[0m\u001b[0mnp\u001b[0m\u001b[0;34m.\u001b[0m\u001b[0mmean\u001b[0m\u001b[0;34m(\u001b[0m\u001b[0mnp\u001b[0m\u001b[0;34m.\u001b[0m\u001b[0mdiagonal\u001b[0m\u001b[0;34m(\u001b[0m\u001b[0morig_acc\u001b[0m\u001b[0;34m[\u001b[0m\u001b[0mi\u001b[0m\u001b[0;34m]\u001b[0m\u001b[0;34m)\u001b[0m\u001b[0;34m)\u001b[0m\u001b[0;34m]\u001b[0m\u001b[0;34m\u001b[0m\u001b[0;34m\u001b[0m\u001b[0m\n\u001b[1;32m      9\u001b[0m     \u001b[0my_robust\u001b[0m \u001b[0;34m+=\u001b[0m \u001b[0;34m[\u001b[0m\u001b[0mavg_nondiag\u001b[0m\u001b[0;34m(\u001b[0m\u001b[0madv_miss\u001b[0m\u001b[0;34m[\u001b[0m\u001b[0mi\u001b[0m\u001b[0;34m]\u001b[0m\u001b[0;34m)\u001b[0m\u001b[0;34m]\u001b[0m\u001b[0;34m\u001b[0m\u001b[0;34m\u001b[0m\u001b[0m\n",
      "\u001b[0;31mNameError\u001b[0m: name 'exp_names' is not defined"
     ]
    }
   ],
   "source": [
    "# Edit desired data\n",
    "x = [5,10,20,30,40]\n",
    "# Acc\n",
    "y_acc = []\n",
    "y_robust = []\n",
    "y_target = []\n",
    "for i in range(len(exp_names)):\n",
    "    y_acc += [np.mean(np.diagonal(orig_acc[i]))]\n",
    "    y_robust += [avg_nondiag(adv_miss[i])]\n",
    "    y_target += [avg_nondiag(adv_target[i])]\n",
    "    \n",
    "print('y_acc', y_acc)\n",
    "print('y_robust', y_robust)\n",
    "print('y_target', y_target)\n",
    "\n",
    "y = [y_acc, y_robust, y_target]"
   ]
  },
  {
   "cell_type": "code",
   "execution_count": 7,
   "metadata": {},
   "outputs": [
    {
     "data": {
      "text/plain": [
       "Text(0.5, 1.0, 'CIFAR-10 Federated Client Count')"
      ]
     },
     "execution_count": 7,
     "metadata": {},
     "output_type": "execute_result"
    },
    {
     "data": {
      "image/png": "[encoded data removed]",
      "text/plain": [
       "<Figure size 432x288 with 1 Axes>"
      ]
     },
     "metadata": {
      "needs_background": "light"
     },
     "output_type": "display_data"
    }
   ],
   "source": [
    "# FedEM\n",
    "\n",
    "y_acc_em = [0.5722180128097534, 0.7006797969341279, 0.7358092129230499, 0.7670415421326955, 0.7750437930226326]\n",
    "y_robust_em = [0.24796236674301325, 0.23465417706304126, 0.2199729625331728, 0.2742298354533897, 0.26429708641117966]\n",
    "y_target_em = [0.22085739336907864, 0.23588742127435075, 0.2739750834206413, 0.22835284584715707, 0.23743950701885833]\n",
    "\n",
    "y_acc_av = [0.6066538453102112, 0.6298102021217347, 0.6297393187880516, 0.6570374349753062, 0.6666932433843613]\n",
    "y_robust_av = [0.02157036941498518, 0.028887269971892237, 0.01820086215157062, 0.023810313455760478, 0.02859352631494403]\n",
    "y_target_av = [0.7828806042671204, 0.715470939874649, 0.7728841304779053, 0.7350193679332733, 0.7162542462348938]\n",
    "\n",
    "\n",
    "y1 = [y_acc_em, y_robust_em, y_target_em]\n",
    "y2 = [y_acc_av, y_robust_av, y_target_av]\n",
    "\n",
    "font = {'family' : 'normal',\n",
    "        'weight' : 'normal',\n",
    "        'size'   : 14}\n",
    "\n",
    "plt.rc('font', **font)\n",
    "\n",
    "\n",
    "names1 = ['FedEM Test Acc.', 'FedEM Adv. Acc.']\n",
    "names2 = ['FedAvg Test Acc.', 'FedAvg Adv. Acc.']\n",
    "colors = ['b','r']\n",
    "types = ['-', '--']\n",
    "\n",
    "\n",
    "for i in range(len(names1)):\n",
    "    plt.plot(x,y1[i],label= names1[i], linestyle = types[i], color = colors[0])\n",
    "for i in range(len(names2)):\n",
    "    plt.plot(x,y2[i],label= names2[i], linestyle = types[i], color = colors[1])\n",
    "    \n",
    "plt.legend(frameon=True, loc = (0.44, 0.37))\n",
    "plt.xlim(3, 43);\n",
    "# plt.ylim(0, 1.0);\n",
    "plt.xlabel('Number of Clients Participating in Learning')\n",
    "plt.ylabel('Accuracy')\n",
    "plt.title(\"CIFAR-10 Federated Client Count\")\n",
    "\n"
   ]
  },
  {
   "cell_type": "code",
   "execution_count": null,
   "metadata": {},
   "outputs": [],
   "source": []
  }
 ],
 "metadata": {
  "kernelspec": {
   "display_name": "FedEM_env",
   "language": "python",
   "name": "fedem_env"
  },
  "language_info": {
   "codemirror_mode": {
    "name": "ipython",
    "version": 3
   },
   "file_extension": ".py",
   "mimetype": "text/x-python",
   "name": "python",
   "nbconvert_exporter": "python",
   "pygments_lexer": "ipython3",
   "version": "3.9.6"
  }
 },
 "nbformat": 4,
 "nbformat_minor": 4
}
