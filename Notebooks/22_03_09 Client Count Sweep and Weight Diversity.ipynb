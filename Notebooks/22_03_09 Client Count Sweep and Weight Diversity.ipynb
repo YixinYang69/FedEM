{
 "cells": [
  {
   "cell_type": "code",
   "execution_count": 1,
   "metadata": {},
   "outputs": [
    {
     "name": "stdout",
     "output_type": "stream",
     "text": [
      "/home/ubuntu/FedEM\n"
     ]
    }
   ],
   "source": [
    "cd /home/ubuntu/FedEM/"
   ]
  },
  {
   "cell_type": "code",
   "execution_count": 2,
   "metadata": {},
   "outputs": [],
   "source": [
    "# Import General Libraries\n",
    "import os\n",
    "import argparse\n",
    "import torch\n",
    "import copy\n",
    "import pickle\n",
    "import random\n",
    "import numpy as np\n",
    "import pandas as pd\n",
    "\n",
    "# Import FedEM based Libraries\n",
    "from utils.utils import *\n",
    "from utils.constants import *\n",
    "from utils.args import *\n",
    "from run_experiment import *\n",
    "from models import *\n",
    "\n",
    "# Import Transfer Attack\n",
    "from transfer_attacks.Personalized_NN import *\n",
    "from transfer_attacks.Params import *\n",
    "from transfer_attacks.Transferer import *\n",
    "from transfer_attacks.Args import *\n",
    "from transfer_attacks.TA_utils import *\n",
    "from transfer_attacks.Boundary_Transferer import *\n",
    "\n",
    "np.set_printoptions(formatter={'float': lambda x: \"{0:0.2f}\".format(x)})\n"
   ]
  },
  {
   "cell_type": "code",
   "execution_count": 3,
   "metadata": {},
   "outputs": [
    {
     "name": "stdout",
     "output_type": "stream",
     "text": [
      "==> Clients initialization..\n",
      "===> Building data iterators..\n"
     ]
    },
    {
     "name": "stderr",
     "output_type": "stream",
     "text": [
      "100%|████████████████████████████████████████████████████████████████| 80/80 [00:00<00:00, 209.45it/s]\n"
     ]
    },
    {
     "name": "stdout",
     "output_type": "stream",
     "text": [
      "===> Initializing clients..\n"
     ]
    },
    {
     "name": "stderr",
     "output_type": "stream",
     "text": [
      "100%|█████████████████████████████████████████████████████████████████| 80/80 [00:33<00:00,  2.41it/s]\n"
     ]
    },
    {
     "name": "stdout",
     "output_type": "stream",
     "text": [
      "==> Test Clients initialization..\n",
      "===> Building data iterators..\n"
     ]
    },
    {
     "name": "stderr",
     "output_type": "stream",
     "text": [
      "0it [00:00, ?it/s]\n"
     ]
    },
    {
     "name": "stdout",
     "output_type": "stream",
     "text": [
      "===> Initializing clients..\n"
     ]
    },
    {
     "name": "stderr",
     "output_type": "stream",
     "text": [
      "0it [00:00, ?it/s]\n"
     ]
    },
    {
     "name": "stdout",
     "output_type": "stream",
     "text": [
      "++++++++++++++++++++++++++++++\n",
      "Global..\n",
      "Train Loss: 2.292 | Train Acc: 12.195% |Test Loss: 2.292 | Test Acc: 12.291% |\n",
      "++++++++++++++++++++++++++++++++++++++++++++++++++\n",
      "################################################################################\n"
     ]
    }
   ],
   "source": [
    "# Generating Empty Aggregator to be loaded \n",
    "\n",
    "setting = 'FedEM'\n",
    "\n",
    "if setting == 'FedEM':\n",
    "    nL = 3\n",
    "else:\n",
    "    nL = 1\n",
    "    \n",
    "# Manually set argument parameters\n",
    "args_ = Args()\n",
    "args_.experiment = \"cifar10\"\n",
    "args_.method = setting\n",
    "args_.decentralized = False\n",
    "args_.sampling_rate = 1.0\n",
    "args_.input_dimension = None\n",
    "args_.output_dimension = None\n",
    "args_.n_learners= nL\n",
    "args_.n_rounds = 10\n",
    "args_.bz = 128\n",
    "args_.local_steps = 1\n",
    "args_.lr_lambda = 0\n",
    "args_.lr =0.03\n",
    "args_.lr_scheduler = 'multi_step'\n",
    "args_.log_freq = 10\n",
    "args_.device = 'cuda'\n",
    "args_.optimizer = 'sgd'\n",
    "args_.mu = 0\n",
    "args_.communication_probability = 0.1\n",
    "args_.q = 1\n",
    "args_.locally_tune_clients = False\n",
    "args_.seed = 1234\n",
    "args_.verbose = 1\n",
    "args_.save_path = 'weights/cifar/dummy/'\n",
    "args_.validation = False\n",
    "\n",
    "# Generate the dummy values here\n",
    "try:\n",
    "    aggregator\n",
    "except:\n",
    "    aggregator, clients = dummy_aggregator(args_, num_user=40)\n",
    "\n",
    "try:\n",
    "    dataloader\n",
    "except:\n",
    "    # Compiling Dataset from Clients\n",
    "    # Combine Validation Data across all clients as test\n",
    "    data_x = []\n",
    "    data_y = []\n",
    "\n",
    "    for i in range(len(clients)):\n",
    "        daniloader = clients[i].test_iterator\n",
    "        for (x,y,idx) in daniloader.dataset:\n",
    "            data_x.append(x)\n",
    "            data_y.append(y)\n",
    "\n",
    "    data_x = torch.stack(data_x)\n",
    "    try:\n",
    "        data_y = torch.stack(data_y)        \n",
    "    except:\n",
    "        data_y = torch.FloatTensor(data_y) \n",
    "\n",
    "    dataloader = Custom_Dataloader(data_x, data_y)\n",
    "    global_dataloader = copy.deepcopy(dataloader)\n",
    "    \n",
    "del aggregator, clients"
   ]
  },
  {
   "cell_type": "code",
   "execution_count": 4,
   "metadata": {},
   "outputs": [],
   "source": [
    "def get_models_test(directory_name, num_models):\n",
    "    # Generate the dummy values here\n",
    "    aggregator, clients = dummy_aggregator(args_, num_user=num_models)\n",
    "    \n",
    "    # Combined version\n",
    "    args_.save_path = directory_name\n",
    "    weights = np.load(directory_name+'train_client_weights.npy')\n",
    "    aggregator.load_state(args_.save_path)\n",
    "    \n",
    "    # This is where the models are stored -- one for each mixture --> learner.model for nn\n",
    "    hypotheses = aggregator.global_learners_ensemble.learners\n",
    "\n",
    "    # obtain the state dict for each of the weights \n",
    "    weights_h = []\n",
    "    \n",
    "    for h in hypotheses:\n",
    "        weights_h += [h.model.state_dict()]\n",
    "\n",
    "    # Set model weights\n",
    "    model_weights = []\n",
    "\n",
    "    for i in range(num_models):\n",
    "        model_weights += [weights[i]]\n",
    "\n",
    "    # Generate the weights to test on as linear combinations of the model_weights\n",
    "    models_test = []\n",
    "\n",
    "    for (w0,w1,w2) in model_weights:\n",
    "        # first make the model with empty weights\n",
    "        new_model = copy.deepcopy(hypotheses[0].model)\n",
    "        new_model.eval()\n",
    "        new_weight_dict = copy.deepcopy(weights_h[0])\n",
    "        for key in weights_h[0]:\n",
    "            new_weight_dict[key] = w0*weights_h[0][key] + w1*weights_h[1][key] + w2*weights_h[2][key]\n",
    "        new_model.load_state_dict(new_weight_dict)\n",
    "        models_test += [new_model]\n",
    "        \n",
    "    # For h_s\n",
    "    model_weights = [(1,0,0), (0,1,0), (0,0,1)]\n",
    "    h_s = []\n",
    "    for (w0,w1,w2) in model_weights:\n",
    "        # first make the model with empty weights\n",
    "        new_model = copy.deepcopy(hypotheses[0].model)\n",
    "        new_model.eval()\n",
    "        new_weight_dict = copy.deepcopy(weights_h[0])\n",
    "        for key in weights_h[0]:\n",
    "            new_weight_dict[key] = w0*weights_h[0][key] + w1*weights_h[1][key] + w2*weights_h[2][key]\n",
    "        new_model.load_state_dict(new_weight_dict)\n",
    "        h_s += [new_model]\n",
    "    \n",
    "    del aggregator\n",
    "    \n",
    "    return weights, models_test, h_s, clients\n",
    "\n",
    "def generate_empty_logs_adv(num_models):\n",
    "    \n",
    "    # Here we will make a dictionary that will hold results\n",
    "    logs_adv = []\n",
    "\n",
    "    for i in range(num_models):\n",
    "        adv_dict = {}\n",
    "        adv_dict['orig_acc_transfers'] = None\n",
    "        adv_dict['orig_similarities'] = None\n",
    "        adv_dict['adv_acc_transfers'] = None\n",
    "        adv_dict['adv_similarities_target'] = None\n",
    "        adv_dict['adv_similarities_untarget'] = None\n",
    "        adv_dict['adv_target'] = None\n",
    "        adv_dict['adv_miss'] = None\n",
    "        adv_dict['metric_alignment'] = None\n",
    "        adv_dict['ib_distance_legit'] = None\n",
    "        adv_dict['ib_distance_adv'] = None\n",
    "\n",
    "        logs_adv += [adv_dict]\n",
    "    \n",
    "    return logs_adv\n",
    "        \n",
    "# Perform transfer attack from one client to another and record stats\n",
    "\n",
    "def adv_atk(models_test, num_models, clients, custom_batch_size = 500):\n",
    "    \n",
    "    # Run Measurements for both targetted and untargeted analysis\n",
    "    new_num_models = len(models_test)\n",
    "    victim_idxs = range(new_num_models)\n",
    "    custom_batch_size = 500\n",
    "    eps = 4.5\n",
    "    \n",
    "    # Record number of batch sizes\n",
    "    batch_size_recs = np.ones([num_models,num_models])\n",
    "    victim_idxs = range(num_models)\n",
    "    logs_adv = generate_empty_logs_adv(num_models)\n",
    "    \n",
    "    print(\"Running Adv Attack\")\n",
    "    for adv_idx in victim_idxs:\n",
    "        print(\"\\t Adv idx:\", adv_idx)\n",
    "\n",
    "        dataloader = load_client_data(clients = clients, c_id = adv_idx, mode = 'test') # or test/train\n",
    "        batch_size = min(custom_batch_size, dataloader.y_data.shape[0])\n",
    "        batch_size_recs[adv_idx,:] *= batch_size\n",
    "\n",
    "        t1 = Transferer(models_list=models_test, dataloader=dataloader)\n",
    "        t1.generate_victims(victim_idxs)\n",
    "\n",
    "        # Perform Attacks Targeted\n",
    "        t1.atk_params = PGD_Params()\n",
    "        t1.atk_params.set_params(batch_size=batch_size, iteration = 10,\n",
    "                       target = 3, x_val_min = torch.min(data_x), x_val_max = torch.max(data_x),\n",
    "                       step_size = 0.01, step_norm = \"inf\", eps = eps, eps_norm = 2)\n",
    "\n",
    "\n",
    "\n",
    "        t1.generate_advNN(adv_idx)\n",
    "        t1.generate_xadv(atk_type = \"pgd\")\n",
    "        t1.send_to_victims(victim_idxs)\n",
    "\n",
    "        # Log Performance\n",
    "        logs_adv[adv_idx]['orig_acc_transfers'] = copy.deepcopy(t1.orig_acc_transfers)\n",
    "        logs_adv[adv_idx]['orig_similarities'] = copy.deepcopy(t1.orig_similarities)\n",
    "        logs_adv[adv_idx]['adv_acc_transfers'] = copy.deepcopy(t1.adv_acc_transfers)\n",
    "        logs_adv[adv_idx]['adv_similarities_target'] = copy.deepcopy(t1.adv_similarities)        \n",
    "        logs_adv[adv_idx]['adv_target'] = copy.deepcopy(t1.adv_target_hit)\n",
    "\n",
    "        # Miss attack Untargeted\n",
    "        t1.atk_params.set_params(batch_size=batch_size, iteration = 10,\n",
    "                       target = -1, x_val_min = torch.min(data_x), x_val_max = torch.max(data_x),\n",
    "                       step_size = 0.01, step_norm = \"inf\", eps = eps, eps_norm = 2)\n",
    "        t1.generate_xadv(atk_type = \"pgd\")\n",
    "        t1.send_to_victims(victim_idxs)\n",
    "        logs_adv[adv_idx]['adv_miss'] = copy.deepcopy(t1.adv_acc_transfers)\n",
    "        logs_adv[adv_idx]['adv_similarities_untarget'] = copy.deepcopy(t1.adv_similarities)\n",
    "        \n",
    "    return logs_adv\n",
    "\n",
    "def logs_adv_analysis(logs_adv):\n",
    "    \n",
    "    logs_analyzed_dict = {}\n",
    "    \n",
    "    new_num_models = len(logs_adv)\n",
    "    num_models = len(logs_adv)\n",
    "    \n",
    "    metrics = ['orig_acc_transfers','orig_similarities','adv_acc_transfers','adv_similarities_target',\n",
    "           'adv_similarities_untarget','adv_target','adv_miss'] #,'metric_alignment']\n",
    "\n",
    "    orig_acc = np.zeros([new_num_models, new_num_models]) \n",
    "    orig_sim = np.zeros([new_num_models, new_num_models]) \n",
    "    adv_acc = np.zeros([new_num_models, new_num_models]) \n",
    "    adv_sim_target = np.zeros([new_num_models, new_num_models]) \n",
    "    adv_sim_untarget = np.zeros([new_num_models, new_num_models]) \n",
    "    adv_target = np.zeros([new_num_models, new_num_models])\n",
    "    adv_miss = np.zeros([new_num_models, new_num_models]) \n",
    "\n",
    "    for adv_idx in range(num_models):\n",
    "        for victim in range(num_models):\n",
    "            orig_acc[adv_idx,victim] = logs_adv[adv_idx][metrics[0]][victim].data.tolist()\n",
    "            orig_sim[adv_idx,victim] = logs_adv[adv_idx][metrics[1]][victim].data.tolist()\n",
    "            adv_acc[adv_idx,victim] = logs_adv[adv_idx][metrics[2]][victim].data.tolist()\n",
    "            adv_sim_target[adv_idx,victim] = logs_adv[adv_idx][metrics[3]][victim].data.tolist()\n",
    "            adv_sim_untarget[adv_idx,victim] = logs_adv[adv_idx][metrics[4]][victim].data.tolist()\n",
    "            adv_target[adv_idx,victim] = logs_adv[adv_idx][metrics[5]][victim].data.tolist()\n",
    "            adv_miss[adv_idx,victim] = logs_adv[adv_idx][metrics[6]][victim].data.tolist()\n",
    "            \n",
    "        \n",
    "    logs_analyzed_dict['orig_acc'] = orig_acc\n",
    "    logs_analyzed_dict['orig_sim'] = orig_sim\n",
    "    logs_analyzed_dict['adv_acc'] = adv_acc\n",
    "    logs_analyzed_dict['adv_sim_target'] = adv_sim_target\n",
    "    logs_analyzed_dict['adv_sim_target'] = adv_sim_untarget\n",
    "    logs_analyzed_dict['adv_target'] = adv_target\n",
    "    logs_analyzed_dict['adv_miss'] = adv_miss\n",
    "    \n",
    "    return logs_analyzed_dict\n",
    "\n",
    "def measure_IB(models_test, dataloader, num_trials = 20, batch_size = 300):\n",
    "    \n",
    "    print(\"IB TEST\")\n",
    "    dists_measure_legit = np.zeros([len(models_test),num_trials, len(models_test)])\n",
    "    dists_measure_adv = np.zeros([len(models_test),num_trials, len(models_test)])\n",
    "\n",
    "    # attack parameters -- hard wired for now\n",
    "    eps = 4.5\n",
    "    iteration = 10\n",
    "    target = -1\n",
    "    eps_norm = 2\n",
    "    step_size = 0.01\n",
    "\n",
    "    t1 = Boundary_Transferer(models_list=models_test, dataloader=dataloader)\n",
    "\n",
    "    for j in range(len(models_test)):\n",
    "\n",
    "        for i in range(num_trials):\n",
    "            print(\"basemodel:\", j, \"IB num_trial:\", i)\n",
    "            t1.base_nn_idx = j\n",
    "            t1.victim_idx = range(len(models_test))\n",
    "\n",
    "            t1.atk_params = IFSGM_Params()\n",
    "            t1.atk_params.set_params(batch_size=1, eps=0.1, alpha=0.01, iteration = 30,\n",
    "                               target = -1, x_val_min = torch.min(data_x), x_val_max = torch.max(data_x))\n",
    "\n",
    "            t1.set_adv_NN(t1.base_nn_idx)\n",
    "\n",
    "            base_ep_legit, victim_eps_legit = t1.legitimate_direction(batch_size=batch_size, ep_granularity = 0.1, \n",
    "                                                                      rep_padding = 1000, new_point = True,print_res = False)\n",
    "\n",
    "            base_ep_adv, victim_eps_adv = t1.adversarial_direction(ep_granularity = 0.1, \n",
    "                                                                      rep_padding = 1000, new_point = False,print_res = False)\n",
    "\n",
    "            idx = 0\n",
    "            for key, value in victim_eps_legit.items():\n",
    "                dists_measure_legit[j,i,idx] = np.abs(base_ep_legit-value)\n",
    "                idx+=1\n",
    "\n",
    "            idx = 0\n",
    "            for key, value in victim_eps_adv.items():\n",
    "                dists_measure_adv[j,i,idx] = np.abs(base_ep_adv - value)\n",
    "                idx+=1\n",
    "    \n",
    "    # Post filtering\n",
    "    # Filter data for adv and legit\n",
    "\n",
    "    for i in range(len(models_test)):\n",
    "        for j in range(dists_measure_legit[i].shape[0]):\n",
    "            if dists_measure_legit[i][j][i] > 0:\n",
    "                dists_measure_legit[i][j][i] = 0\n",
    "        for j in range(dists_measure_legit[i].shape[0]):\n",
    "            if dists_measure_adv[i][j][i] > 0:\n",
    "                dists_measure_adv[i][j][i] = 0\n",
    "\n",
    "#     ib_legit = np.mean(filtered_dists_measure_legit,axis=0)\n",
    "#     ib_adv = np.mean(filtered_dists_measure_adv,axis=0)\n",
    "    return dists_measure_legit, dists_measure_adv"
   ]
  },
  {
   "cell_type": "code",
   "execution_count": 5,
   "metadata": {},
   "outputs": [],
   "source": [
    "base_name = 'weights/cifar10/client_count/'\n",
    "directory_names = ['fedEM_c2/','fedEM_c4/','fedEM_c8/',\n",
    "                   #'fedEM_c10/', 'fedEM_c20/', 'fedEM_c40/',\n",
    "                   'fedEM_adv_c2/', 'fedEM_adv_c4/', 'fedEM_adv_c8/',\n",
    "                   #'fedEM_adv_c10/', 'fedEM_adv_c20/', 'fedEM_adv_c40/',\n",
    "                   'fedEM_dverge_c2/', 'fedEM_dverge_c4/', 'fedEM_dverge_c8/']\n",
    "                   #,'fedEM_dverge_c10/', 'fedEM_dverge_c20/', 'fedEM_dverge_c40/']\n",
    "\n",
    "num_models_list = [2,4,8,2,4,8,2,4,8]\n",
    "\n",
    "# IB test parameters\n",
    "ib_model_threshold = 10 # Number of models to use for IB analysis\n",
    "num_trials = 10\n",
    "batch_size = 200\n",
    "\n",
    "# Store values\n",
    "var_dict = {}\n",
    "orig_acc_dict = {}\n",
    "adv_miss_dict = {}\n",
    "ib_dist_dict = {}\n",
    "ib_dist_dict_compressed = {}"
   ]
  },
  {
   "cell_type": "code",
   "execution_count": 6,
   "metadata": {},
   "outputs": [
    {
     "name": "stdout",
     "output_type": "stream",
     "text": [
      "EXP: fedEM_c2\n",
      "==> Clients initialization..\n",
      "===> Building data iterators..\n"
     ]
    },
    {
     "name": "stderr",
     "output_type": "stream",
     "text": [
      "100%|████████████████████████████████████████████████████████████████| 80/80 [00:00<00:00, 346.86it/s]\n"
     ]
    },
    {
     "name": "stdout",
     "output_type": "stream",
     "text": [
      "===> Initializing clients..\n"
     ]
    },
    {
     "name": "stderr",
     "output_type": "stream",
     "text": [
      "100%|█████████████████████████████████████████████████████████████████| 80/80 [00:27<00:00,  2.89it/s]\n"
     ]
    },
    {
     "name": "stdout",
     "output_type": "stream",
     "text": [
      "==> Test Clients initialization..\n",
      "===> Building data iterators..\n"
     ]
    },
    {
     "name": "stderr",
     "output_type": "stream",
     "text": [
      "0it [00:00, ?it/s]\n"
     ]
    },
    {
     "name": "stdout",
     "output_type": "stream",
     "text": [
      "===> Initializing clients..\n"
     ]
    },
    {
     "name": "stderr",
     "output_type": "stream",
     "text": [
      "0it [00:00, ?it/s]\n"
     ]
    },
    {
     "name": "stdout",
     "output_type": "stream",
     "text": [
      "++++++++++++++++++++++++++++++\n",
      "Global..\n",
      "Train Loss: 2.292 | Train Acc: 12.048% |Test Loss: 2.304 | Test Acc: 10.400% |\n",
      "++++++++++++++++++++++++++++++++++++++++++++++++++\n",
      "################################################################################\n",
      "Running Adv Attack\n",
      "\t Adv idx: 0\n",
      "\t Adv idx: 1\n",
      "IB TEST\n",
      "basemodel: 0 IB num_trial: 0\n",
      "basemodel: 0 IB num_trial: 1\n",
      "basemodel: 0 IB num_trial: 2\n",
      "basemodel: 0 IB num_trial: 3\n",
      "basemodel: 1 IB num_trial: 0\n",
      "basemodel: 1 IB num_trial: 1\n",
      "basemodel: 1 IB num_trial: 2\n",
      "basemodel: 1 IB num_trial: 3\n",
      "basemodel: 2 IB num_trial: 0\n",
      "basemodel: 2 IB num_trial: 1\n",
      "basemodel: 2 IB num_trial: 2\n",
      "basemodel: 2 IB num_trial: 3\n",
      "EXP: fedEM_c4\n",
      "==> Clients initialization..\n",
      "===> Building data iterators..\n"
     ]
    },
    {
     "name": "stderr",
     "output_type": "stream",
     "text": [
      "100%|████████████████████████████████████████████████████████████████| 80/80 [00:00<00:00, 346.05it/s]\n"
     ]
    },
    {
     "name": "stdout",
     "output_type": "stream",
     "text": [
      "===> Initializing clients..\n"
     ]
    },
    {
     "name": "stderr",
     "output_type": "stream",
     "text": [
      "100%|█████████████████████████████████████████████████████████████████| 80/80 [00:28<00:00,  2.85it/s]\n"
     ]
    },
    {
     "name": "stdout",
     "output_type": "stream",
     "text": [
      "==> Test Clients initialization..\n",
      "===> Building data iterators..\n"
     ]
    },
    {
     "name": "stderr",
     "output_type": "stream",
     "text": [
      "0it [00:00, ?it/s]\n"
     ]
    },
    {
     "name": "stdout",
     "output_type": "stream",
     "text": [
      "===> Initializing clients..\n"
     ]
    },
    {
     "name": "stderr",
     "output_type": "stream",
     "text": [
      "0it [00:00, ?it/s]\n"
     ]
    },
    {
     "name": "stdout",
     "output_type": "stream",
     "text": [
      "++++++++++++++++++++++++++++++\n",
      "Global..\n",
      "Train Loss: 2.293 | Train Acc: 11.519% |Test Loss: 2.298 | Test Acc: 10.396% |\n",
      "++++++++++++++++++++++++++++++++++++++++++++++++++\n",
      "################################################################################\n",
      "Running Adv Attack\n",
      "\t Adv idx: 0\n",
      "\t Adv idx: 1\n",
      "\t Adv idx: 2\n",
      "\t Adv idx: 3\n",
      "IB TEST\n",
      "basemodel: 0 IB num_trial: 0\n",
      "basemodel: 0 IB num_trial: 1\n",
      "basemodel: 0 IB num_trial: 2\n",
      "basemodel: 0 IB num_trial: 3\n",
      "basemodel: 1 IB num_trial: 0\n",
      "basemodel: 1 IB num_trial: 1\n",
      "basemodel: 1 IB num_trial: 2\n",
      "basemodel: 1 IB num_trial: 3\n",
      "basemodel: 2 IB num_trial: 0\n",
      "basemodel: 2 IB num_trial: 1\n",
      "basemodel: 2 IB num_trial: 2\n",
      "basemodel: 2 IB num_trial: 3\n",
      "EXP: fedEM_c8\n",
      "==> Clients initialization..\n",
      "===> Building data iterators..\n"
     ]
    },
    {
     "name": "stderr",
     "output_type": "stream",
     "text": [
      "100%|████████████████████████████████████████████████████████████████| 80/80 [00:00<00:00, 344.76it/s]\n"
     ]
    },
    {
     "name": "stdout",
     "output_type": "stream",
     "text": [
      "===> Initializing clients..\n"
     ]
    },
    {
     "name": "stderr",
     "output_type": "stream",
     "text": [
      "100%|█████████████████████████████████████████████████████████████████| 80/80 [00:27<00:00,  2.88it/s]\n"
     ]
    },
    {
     "name": "stdout",
     "output_type": "stream",
     "text": [
      "==> Test Clients initialization..\n",
      "===> Building data iterators..\n"
     ]
    },
    {
     "name": "stderr",
     "output_type": "stream",
     "text": [
      "0it [00:00, ?it/s]\n"
     ]
    },
    {
     "name": "stdout",
     "output_type": "stream",
     "text": [
      "===> Initializing clients..\n"
     ]
    },
    {
     "name": "stderr",
     "output_type": "stream",
     "text": [
      "0it [00:00, ?it/s]\n"
     ]
    },
    {
     "name": "stdout",
     "output_type": "stream",
     "text": [
      "++++++++++++++++++++++++++++++\n",
      "Global..\n",
      "Train Loss: 2.296 | Train Acc: 11.976% |Test Loss: 2.299 | Test Acc: 11.081% |\n",
      "++++++++++++++++++++++++++++++++++++++++++++++++++\n",
      "################################################################################\n",
      "Running Adv Attack\n",
      "\t Adv idx: 0\n",
      "\t Adv idx: 1\n",
      "\t Adv idx: 2\n",
      "\t Adv idx: 3\n",
      "\t Adv idx: 4\n",
      "\t Adv idx: 5\n",
      "\t Adv idx: 6\n",
      "\t Adv idx: 7\n",
      "IB TEST\n",
      "basemodel: 0 IB num_trial: 0\n",
      "basemodel: 0 IB num_trial: 1\n",
      "basemodel: 0 IB num_trial: 2\n",
      "basemodel: 0 IB num_trial: 3\n",
      "basemodel: 1 IB num_trial: 0\n",
      "basemodel: 1 IB num_trial: 1\n",
      "basemodel: 1 IB num_trial: 2\n",
      "basemodel: 1 IB num_trial: 3\n",
      "basemodel: 2 IB num_trial: 0\n",
      "basemodel: 2 IB num_trial: 1\n",
      "basemodel: 2 IB num_trial: 2\n",
      "basemodel: 2 IB num_trial: 3\n",
      "EXP: fedEM_adv_c2\n",
      "==> Clients initialization..\n",
      "===> Building data iterators..\n"
     ]
    },
    {
     "name": "stderr",
     "output_type": "stream",
     "text": [
      "100%|████████████████████████████████████████████████████████████████| 80/80 [00:00<00:00, 339.09it/s]\n"
     ]
    },
    {
     "name": "stdout",
     "output_type": "stream",
     "text": [
      "===> Initializing clients..\n"
     ]
    },
    {
     "name": "stderr",
     "output_type": "stream",
     "text": [
      "100%|█████████████████████████████████████████████████████████████████| 80/80 [00:27<00:00,  2.89it/s]\n"
     ]
    },
    {
     "name": "stdout",
     "output_type": "stream",
     "text": [
      "==> Test Clients initialization..\n",
      "===> Building data iterators..\n"
     ]
    },
    {
     "name": "stderr",
     "output_type": "stream",
     "text": [
      "0it [00:00, ?it/s]\n"
     ]
    },
    {
     "name": "stdout",
     "output_type": "stream",
     "text": [
      "===> Initializing clients..\n"
     ]
    },
    {
     "name": "stderr",
     "output_type": "stream",
     "text": [
      "0it [00:00, ?it/s]\n"
     ]
    },
    {
     "name": "stdout",
     "output_type": "stream",
     "text": [
      "++++++++++++++++++++++++++++++\n",
      "Global..\n",
      "Train Loss: 2.292 | Train Acc: 12.048% |Test Loss: 2.304 | Test Acc: 10.400% |\n",
      "++++++++++++++++++++++++++++++++++++++++++++++++++\n",
      "################################################################################\n",
      "Running Adv Attack\n",
      "\t Adv idx: 0\n",
      "\t Adv idx: 1\n",
      "IB TEST\n",
      "basemodel: 0 IB num_trial: 0\n",
      "basemodel: 0 IB num_trial: 1\n",
      "basemodel: 0 IB num_trial: 2\n",
      "basemodel: 0 IB num_trial: 3\n",
      "basemodel: 1 IB num_trial: 0\n",
      "basemodel: 1 IB num_trial: 1\n",
      "basemodel: 1 IB num_trial: 2\n",
      "basemodel: 1 IB num_trial: 3\n",
      "basemodel: 2 IB num_trial: 0\n",
      "basemodel: 2 IB num_trial: 1\n",
      "basemodel: 2 IB num_trial: 2\n",
      "basemodel: 2 IB num_trial: 3\n",
      "EXP: fedEM_adv_c4\n",
      "==> Clients initialization..\n",
      "===> Building data iterators..\n"
     ]
    },
    {
     "name": "stderr",
     "output_type": "stream",
     "text": [
      "100%|████████████████████████████████████████████████████████████████| 80/80 [00:00<00:00, 348.55it/s]\n"
     ]
    },
    {
     "name": "stdout",
     "output_type": "stream",
     "text": [
      "===> Initializing clients..\n"
     ]
    },
    {
     "name": "stderr",
     "output_type": "stream",
     "text": [
      "100%|█████████████████████████████████████████████████████████████████| 80/80 [00:27<00:00,  2.88it/s]\n"
     ]
    },
    {
     "name": "stdout",
     "output_type": "stream",
     "text": [
      "==> Test Clients initialization..\n",
      "===> Building data iterators..\n"
     ]
    },
    {
     "name": "stderr",
     "output_type": "stream",
     "text": [
      "0it [00:00, ?it/s]\n"
     ]
    },
    {
     "name": "stdout",
     "output_type": "stream",
     "text": [
      "===> Initializing clients..\n"
     ]
    },
    {
     "name": "stderr",
     "output_type": "stream",
     "text": [
      "0it [00:00, ?it/s]\n"
     ]
    },
    {
     "name": "stdout",
     "output_type": "stream",
     "text": [
      "++++++++++++++++++++++++++++++\n",
      "Global..\n",
      "Train Loss: 2.293 | Train Acc: 11.519% |Test Loss: 2.298 | Test Acc: 10.396% |\n",
      "++++++++++++++++++++++++++++++++++++++++++++++++++\n",
      "################################################################################\n",
      "Running Adv Attack\n",
      "\t Adv idx: 0\n",
      "\t Adv idx: 1\n",
      "\t Adv idx: 2\n",
      "\t Adv idx: 3\n",
      "IB TEST\n",
      "basemodel: 0 IB num_trial: 0\n",
      "basemodel: 0 IB num_trial: 1\n",
      "basemodel: 0 IB num_trial: 2\n",
      "basemodel: 0 IB num_trial: 3\n",
      "basemodel: 1 IB num_trial: 0\n",
      "basemodel: 1 IB num_trial: 1\n",
      "basemodel: 1 IB num_trial: 2\n",
      "basemodel: 1 IB num_trial: 3\n",
      "basemodel: 2 IB num_trial: 0\n",
      "basemodel: 2 IB num_trial: 1\n",
      "basemodel: 2 IB num_trial: 2\n",
      "basemodel: 2 IB num_trial: 3\n",
      "EXP: fedEM_adv_c8\n",
      "==> Clients initialization..\n",
      "===> Building data iterators..\n"
     ]
    },
    {
     "name": "stderr",
     "output_type": "stream",
     "text": [
      "100%|████████████████████████████████████████████████████████████████| 80/80 [00:00<00:00, 340.62it/s]\n"
     ]
    },
    {
     "name": "stdout",
     "output_type": "stream",
     "text": [
      "===> Initializing clients..\n"
     ]
    },
    {
     "name": "stderr",
     "output_type": "stream",
     "text": [
      "100%|█████████████████████████████████████████████████████████████████| 80/80 [00:27<00:00,  2.86it/s]\n"
     ]
    },
    {
     "name": "stdout",
     "output_type": "stream",
     "text": [
      "==> Test Clients initialization..\n",
      "===> Building data iterators..\n"
     ]
    },
    {
     "name": "stderr",
     "output_type": "stream",
     "text": [
      "0it [00:00, ?it/s]\n"
     ]
    },
    {
     "name": "stdout",
     "output_type": "stream",
     "text": [
      "===> Initializing clients..\n"
     ]
    },
    {
     "name": "stderr",
     "output_type": "stream",
     "text": [
      "0it [00:00, ?it/s]\n"
     ]
    },
    {
     "name": "stdout",
     "output_type": "stream",
     "text": [
      "++++++++++++++++++++++++++++++\n",
      "Global..\n",
      "Train Loss: 2.296 | Train Acc: 11.976% |Test Loss: 2.299 | Test Acc: 11.081% |\n",
      "++++++++++++++++++++++++++++++++++++++++++++++++++\n",
      "################################################################################\n",
      "Running Adv Attack\n",
      "\t Adv idx: 0\n",
      "\t Adv idx: 1\n",
      "\t Adv idx: 2\n",
      "\t Adv idx: 3\n",
      "\t Adv idx: 4\n",
      "\t Adv idx: 5\n",
      "\t Adv idx: 6\n",
      "\t Adv idx: 7\n",
      "IB TEST\n",
      "basemodel: 0 IB num_trial: 0\n",
      "basemodel: 0 IB num_trial: 1\n",
      "basemodel: 0 IB num_trial: 2\n",
      "basemodel: 0 IB num_trial: 3\n",
      "basemodel: 1 IB num_trial: 0\n",
      "basemodel: 1 IB num_trial: 1\n",
      "basemodel: 1 IB num_trial: 2\n",
      "basemodel: 1 IB num_trial: 3\n",
      "basemodel: 2 IB num_trial: 0\n",
      "basemodel: 2 IB num_trial: 1\n",
      "basemodel: 2 IB num_trial: 2\n",
      "basemodel: 2 IB num_trial: 3\n",
      "EXP: fedEM_dverge_c2\n",
      "==> Clients initialization..\n",
      "===> Building data iterators..\n"
     ]
    },
    {
     "name": "stderr",
     "output_type": "stream",
     "text": [
      "100%|████████████████████████████████████████████████████████████████| 80/80 [00:00<00:00, 341.65it/s]\n"
     ]
    },
    {
     "name": "stdout",
     "output_type": "stream",
     "text": [
      "===> Initializing clients..\n"
     ]
    },
    {
     "name": "stderr",
     "output_type": "stream",
     "text": [
      "100%|█████████████████████████████████████████████████████████████████| 80/80 [00:27<00:00,  2.87it/s]\n"
     ]
    },
    {
     "name": "stdout",
     "output_type": "stream",
     "text": [
      "==> Test Clients initialization..\n",
      "===> Building data iterators..\n"
     ]
    },
    {
     "name": "stderr",
     "output_type": "stream",
     "text": [
      "0it [00:00, ?it/s]\n"
     ]
    },
    {
     "name": "stdout",
     "output_type": "stream",
     "text": [
      "===> Initializing clients..\n"
     ]
    },
    {
     "name": "stderr",
     "output_type": "stream",
     "text": [
      "0it [00:00, ?it/s]\n"
     ]
    },
    {
     "name": "stdout",
     "output_type": "stream",
     "text": [
      "++++++++++++++++++++++++++++++\n",
      "Global..\n",
      "Train Loss: 2.292 | Train Acc: 12.048% |Test Loss: 2.304 | Test Acc: 10.400% |\n",
      "++++++++++++++++++++++++++++++++++++++++++++++++++\n",
      "################################################################################\n",
      "Running Adv Attack\n",
      "\t Adv idx: 0\n",
      "\t Adv idx: 1\n",
      "IB TEST\n",
      "basemodel: 0 IB num_trial: 0\n",
      "basemodel: 0 IB num_trial: 1\n",
      "basemodel: 0 IB num_trial: 2\n",
      "basemodel: 0 IB num_trial: 3\n",
      "basemodel: 1 IB num_trial: 0\n",
      "basemodel: 1 IB num_trial: 1\n",
      "basemodel: 1 IB num_trial: 2\n",
      "basemodel: 1 IB num_trial: 3\n",
      "basemodel: 2 IB num_trial: 0\n",
      "basemodel: 2 IB num_trial: 1\n",
      "basemodel: 2 IB num_trial: 2\n",
      "basemodel: 2 IB num_trial: 3\n",
      "EXP: fedEM_dverge_c4\n",
      "==> Clients initialization..\n",
      "===> Building data iterators..\n"
     ]
    },
    {
     "name": "stderr",
     "output_type": "stream",
     "text": [
      "100%|████████████████████████████████████████████████████████████████| 80/80 [00:00<00:00, 345.51it/s]\n"
     ]
    },
    {
     "name": "stdout",
     "output_type": "stream",
     "text": [
      "===> Initializing clients..\n"
     ]
    },
    {
     "name": "stderr",
     "output_type": "stream",
     "text": [
      "100%|█████████████████████████████████████████████████████████████████| 80/80 [00:27<00:00,  2.87it/s]\n"
     ]
    },
    {
     "name": "stdout",
     "output_type": "stream",
     "text": [
      "==> Test Clients initialization..\n",
      "===> Building data iterators..\n"
     ]
    },
    {
     "name": "stderr",
     "output_type": "stream",
     "text": [
      "0it [00:00, ?it/s]\n"
     ]
    },
    {
     "name": "stdout",
     "output_type": "stream",
     "text": [
      "===> Initializing clients..\n"
     ]
    },
    {
     "name": "stderr",
     "output_type": "stream",
     "text": [
      "0it [00:00, ?it/s]\n"
     ]
    },
    {
     "name": "stdout",
     "output_type": "stream",
     "text": [
      "++++++++++++++++++++++++++++++\n",
      "Global..\n",
      "Train Loss: 2.293 | Train Acc: 11.519% |Test Loss: 2.298 | Test Acc: 10.396% |\n",
      "++++++++++++++++++++++++++++++++++++++++++++++++++\n",
      "################################################################################\n",
      "Running Adv Attack\n",
      "\t Adv idx: 0\n",
      "\t Adv idx: 1\n",
      "\t Adv idx: 2\n",
      "\t Adv idx: 3\n",
      "IB TEST\n",
      "basemodel: 0 IB num_trial: 0\n",
      "basemodel: 0 IB num_trial: 1\n",
      "basemodel: 0 IB num_trial: 2\n",
      "basemodel: 0 IB num_trial: 3\n",
      "basemodel: 1 IB num_trial: 0\n",
      "basemodel: 1 IB num_trial: 1\n",
      "basemodel: 1 IB num_trial: 2\n",
      "basemodel: 1 IB num_trial: 3\n",
      "basemodel: 2 IB num_trial: 0\n",
      "basemodel: 2 IB num_trial: 1\n",
      "basemodel: 2 IB num_trial: 2\n",
      "basemodel: 2 IB num_trial: 3\n",
      "EXP: fedEM_dverge_c8\n",
      "==> Clients initialization..\n",
      "===> Building data iterators..\n"
     ]
    },
    {
     "name": "stderr",
     "output_type": "stream",
     "text": [
      "100%|████████████████████████████████████████████████████████████████| 80/80 [00:00<00:00, 345.04it/s]\n"
     ]
    },
    {
     "name": "stdout",
     "output_type": "stream",
     "text": [
      "===> Initializing clients..\n"
     ]
    },
    {
     "name": "stderr",
     "output_type": "stream",
     "text": [
      "100%|█████████████████████████████████████████████████████████████████| 80/80 [00:27<00:00,  2.87it/s]\n"
     ]
    },
    {
     "name": "stdout",
     "output_type": "stream",
     "text": [
      "==> Test Clients initialization..\n",
      "===> Building data iterators..\n"
     ]
    },
    {
     "name": "stderr",
     "output_type": "stream",
     "text": [
      "0it [00:00, ?it/s]\n"
     ]
    },
    {
     "name": "stdout",
     "output_type": "stream",
     "text": [
      "===> Initializing clients..\n"
     ]
    },
    {
     "name": "stderr",
     "output_type": "stream",
     "text": [
      "0it [00:00, ?it/s]\n"
     ]
    },
    {
     "name": "stdout",
     "output_type": "stream",
     "text": [
      "++++++++++++++++++++++++++++++\n",
      "Global..\n",
      "Train Loss: 2.296 | Train Acc: 11.976% |Test Loss: 2.299 | Test Acc: 11.081% |\n",
      "++++++++++++++++++++++++++++++++++++++++++++++++++\n",
      "################################################################################\n",
      "Running Adv Attack\n",
      "\t Adv idx: 0\n",
      "\t Adv idx: 1\n",
      "\t Adv idx: 2\n",
      "\t Adv idx: 3\n",
      "\t Adv idx: 4\n",
      "\t Adv idx: 5\n",
      "\t Adv idx: 6\n",
      "\t Adv idx: 7\n",
      "IB TEST\n",
      "basemodel: 0 IB num_trial: 0\n",
      "basemodel: 0 IB num_trial: 1\n",
      "basemodel: 0 IB num_trial: 2\n",
      "basemodel: 0 IB num_trial: 3\n",
      "basemodel: 1 IB num_trial: 0\n",
      "basemodel: 1 IB num_trial: 1\n",
      "basemodel: 1 IB num_trial: 2\n",
      "basemodel: 1 IB num_trial: 3\n",
      "basemodel: 2 IB num_trial: 0\n",
      "basemodel: 2 IB num_trial: 1\n",
      "basemodel: 2 IB num_trial: 2\n",
      "basemodel: 2 IB num_trial: 3\n"
     ]
    }
   ],
   "source": [
    "logs_dict = {}\n",
    "for i in range(len(directory_names)):\n",
    "     \n",
    "    print(\"EXP:\", directory_names[i][:-1])\n",
    "    weights, models_test, h_s, clients = get_models_test(base_name+directory_names[i], num_models_list[i])\n",
    "    logs_adv = adv_atk(models_test, num_models_list[i], clients, custom_batch_size = 500)\n",
    "    logs_dict[directory_names[i][:-1]] = logs_adv_analysis(logs_adv)\n",
    "    \n",
    "#     Interboundary dist\n",
    "    ib_leg, ib_adv = measure_IB(h_s, dataloader, num_trials=4)\n",
    "    \n",
    "    # Extract Values of Relevance\n",
    "    orig_acc = logs_dict[directory_names[i][:-1]]['orig_acc']\n",
    "    orig_acc_dict[directory_names[i][:-1]] = np.mean(np.diagonal(orig_acc))\n",
    "    \n",
    "    adv_miss = logs_dict[directory_names[i][:-1]]['adv_miss']\n",
    "    adv_miss_dict[directory_names[i][:-1]] = np.mean(np.diagonal(adv_miss))\n",
    "    \n",
    "    var = np.var(weights, axis=0)\n",
    "    var_dict[directory_names[i][:-1]] = var\n",
    "\n",
    "    ib_dist_dict[directory_names[i][:-1]] = (np.mean(ib_leg, axis=1), np.mean(ib_adv,axis=1))\n",
    "    ib_dist_dict_compressed[directory_names[i][:-1]] = (np.mean(ib_leg), np.mean(ib_adv))"
   ]
  },
  {
   "cell_type": "code",
   "execution_count": 7,
   "metadata": {},
   "outputs": [
    {
     "data": {
      "text/plain": [
       "{'fedEM_c2': array([0.02, 0.02, 0.00]),\n",
       " 'fedEM_c4': array([0.08, 0.14, 0.14]),\n",
       " 'fedEM_c8': array([0.06, 0.01, 0.06]),\n",
       " 'fedEM_adv_c2': array([0.07, 0.04, 0.21]),\n",
       " 'fedEM_adv_c4': array([0.01, 0.09, 0.09]),\n",
       " 'fedEM_adv_c8': array([0.10, 0.07, 0.09]),\n",
       " 'fedEM_dverge_c2': array([0.03, 0.10, 0.25]),\n",
       " 'fedEM_dverge_c4': array([0.13, 0.18, 0.17]),\n",
       " 'fedEM_dverge_c8': array([0.12, 0.02, 0.15])}"
      ]
     },
     "execution_count": 7,
     "metadata": {},
     "output_type": "execute_result"
    }
   ],
   "source": [
    "var_dict"
   ]
  },
  {
   "cell_type": "code",
   "execution_count": 8,
   "metadata": {},
   "outputs": [
    {
     "name": "stdout",
     "output_type": "stream",
     "text": [
      "fedEM_c2 0.012120423027619983\n",
      "fedEM_c4 0.11916620859581954\n",
      "fedEM_c8 0.04615369889412826\n",
      "fedEM_adv_c2 0.10653277883678443\n",
      "fedEM_adv_c4 0.06446358950596244\n",
      "fedEM_adv_c8 0.08710256224998035\n",
      "fedEM_dverge_c2 0.128052900635663\n",
      "fedEM_dverge_c4 0.15885228362816342\n",
      "fedEM_dverge_c8 0.0959907979883603\n"
     ]
    }
   ],
   "source": [
    "for key in var_dict:\n",
    "    var_mean = np.mean(var_dict[key])\n",
    "    print(key, var_mean)\n"
   ]
  },
  {
   "cell_type": "code",
   "execution_count": 9,
   "metadata": {},
   "outputs": [
    {
     "data": {
      "text/plain": [
       "{'fedEM_c2': 0.5136268436908722,\n",
       " 'fedEM_c4': 0.5865550339221954,\n",
       " 'fedEM_c8': 0.6471852213144302,\n",
       " 'fedEM_adv_c2': 0.5180817544460297,\n",
       " 'fedEM_adv_c4': 0.5889028608798981,\n",
       " 'fedEM_adv_c8': 0.6620176061987877,\n",
       " 'fedEM_dverge_c2': 0.510613203048706,\n",
       " 'fedEM_dverge_c4': 0.6381966173648834,\n",
       " 'fedEM_dverge_c8': 0.658050037920475}"
      ]
     },
     "execution_count": 9,
     "metadata": {},
     "output_type": "execute_result"
    }
   ],
   "source": [
    "orig_acc_dict"
   ]
  },
  {
   "cell_type": "code",
   "execution_count": 10,
   "metadata": {},
   "outputs": [
    {
     "data": {
      "text/plain": [
       "{'fedEM_c2': 0.0,\n",
       " 'fedEM_c4': 0.017491707112640142,\n",
       " 'fedEM_c8': 0.015436114044860005,\n",
       " 'fedEM_adv_c2': 0.06053459271788597,\n",
       " 'fedEM_adv_c4': 0.06645644828677177,\n",
       " 'fedEM_adv_c8': 0.09695293242111802,\n",
       " 'fedEM_dverge_c2': 0.0486111119389534,\n",
       " 'fedEM_dverge_c4': 0.08063446264714003,\n",
       " 'fedEM_dverge_c8': 0.1228195782750845}"
      ]
     },
     "execution_count": 10,
     "metadata": {},
     "output_type": "execute_result"
    }
   ],
   "source": [
    "adv_miss_dict"
   ]
  },
  {
   "cell_type": "code",
   "execution_count": 11,
   "metadata": {},
   "outputs": [
    {
     "data": {
      "text/plain": [
       "{'fedEM_c2': (10.725000000000001, 11.425),\n",
       " 'fedEM_c4': (4.9750000000000005, 3.313888888888888),\n",
       " 'fedEM_c8': (4.9638888888888895, 4.122222222222223),\n",
       " 'fedEM_adv_c2': (9.988888888888889, 16.79444444444444),\n",
       " 'fedEM_adv_c4': (8.416666666666668, 19.03611111111111),\n",
       " 'fedEM_adv_c8': (8.241666666666667, 16.34444444444445),\n",
       " 'fedEM_dverge_c2': (4.827777777777778, 7.319444444444446),\n",
       " 'fedEM_dverge_c4': (7.769444444444444, 12.66388888888889),\n",
       " 'fedEM_dverge_c8': (5.591666666666668, 12.355555555555556)}"
      ]
     },
     "execution_count": 11,
     "metadata": {},
     "output_type": "execute_result"
    }
   ],
   "source": [
    "ib_dist_dict_compressed"
   ]
  },
  {
   "cell_type": "raw",
   "metadata": {},
   "source": [
    "# Record 3/11/22\n",
    "\n",
    "Vardict1\n",
    "{'fedEM_c10': array([0.10, 0.15, 0.08]),\n",
    " 'fedEM_c20': array([0.09, 0.17, 0.16]),\n",
    " 'fedEM_c40': array([0.16, 0.15, 0.10]),\n",
    " 'fedEM_adv_c10': array([0.11, 0.12, 0.16]),\n",
    " 'fedEM_adv_c20': array([0.09, 0.17, 0.17]),\n",
    " 'fedEM_adv_c40': array([0.14, 0.13, 0.10]),\n",
    " 'fedEM_dverge_c10': array([0.12, 0.13, 0.13]),\n",
    " 'fedEM_dverge_c20': array([0.09, 0.17, 0.16]),\n",
    " 'fedEM_dverge_c40': array([0.16, 0.17, 0.09])}\n",
    " \n",
    "Varmean\n",
    "fedEM_c10 0.11091712214913102\n",
    "fedEM_c20 0.14044704184051118\n",
    "fedEM_c40 0.13535510162854417\n",
    "fedEM_adv_c10 0.1299319213709912\n",
    "fedEM_adv_c20 0.14132851128824472\n",
    "fedEM_adv_c40 0.12373265287349992\n",
    "fedEM_dverge_c10 0.12412294655660198\n",
    "fedEM_dverge_c20 0.14182730269054986\n",
    "fedEM_dverge_c40 0.14144587596495903\n",
    "\n",
    "Orig Acc Dict\n",
    "{'fedEM_c10': 0.6676077246665955,\n",
    " 'fedEM_c20': 0.708212499320507,\n",
    " 'fedEM_c40': 0.7658463157713413,\n",
    " 'fedEM_adv_c10': 0.6763512253761291,\n",
    " 'fedEM_adv_c20': 0.702548885345459,\n",
    " 'fedEM_adv_c40': 0.7629684820771218,\n",
    " 'fedEM_dverge_c10': 0.6762413501739502,\n",
    " 'fedEM_dverge_c20': 0.7255666673183441,\n",
    " 'fedEM_dverge_c40': 0.7856924161314964}\n",
    " \n",
    "ADV MISS DICT\n",
    "{'fedEM_c10': 0.02308926680125296,\n",
    " 'fedEM_c20': 0.033576675131917,\n",
    " 'fedEM_c40': 0.05476918548811227,\n",
    " 'fedEM_adv_c10': 0.17590833827853203,\n",
    " 'fedEM_adv_c20': 0.2162064477801323,\n",
    " 'fedEM_adv_c40': 0.2595894459635019,\n",
    " 'fedEM_dverge_c10': 0.16942888572812081,\n",
    " 'fedEM_dverge_c20': 0.18112774081528188,\n",
    " 'fedEM_dverge_c40': 0.249871364235878}\n",
    " \n",
    "IB Dict Compressed\n",
    "{'fedEM_c10': (5.927777777777777, 5.677777777777778),\n",
    " 'fedEM_c20': (8.158333333333333, 2.2472222222222227),\n",
    " 'fedEM_c40': (8.758333333333333, 4.130555555555556),\n",
    " 'fedEM_adv_c10': (11.163888888888888, 16.15555555555555),\n",
    " 'fedEM_adv_c20': (16.663888888888888, 21.03055555555556),\n",
    " 'fedEM_adv_c40': (12.569444444444445, 15.519444444444446),\n",
    " 'fedEM_dverge_c10': (5.691666666666666, 14.363888888888889),\n",
    " 'fedEM_dverge_c20': (11.216666666666667, 14.161111111111113),\n",
    " 'fedEM_dverge_c40': (14.555555555555555, 11.85277777777778)}"
   ]
  }
 ],
 "metadata": {
  "kernelspec": {
   "display_name": "FedEM_env",
   "language": "python",
   "name": "fedem_env"
  },
  "language_info": {
   "codemirror_mode": {
    "name": "ipython",
    "version": 3
   },
   "file_extension": ".py",
   "mimetype": "text/x-python",
   "name": "python",
   "nbconvert_exporter": "python",
   "pygments_lexer": "ipython3",
   "version": "3.9.6"
  }
 },
 "nbformat": 4,
 "nbformat_minor": 4
}
