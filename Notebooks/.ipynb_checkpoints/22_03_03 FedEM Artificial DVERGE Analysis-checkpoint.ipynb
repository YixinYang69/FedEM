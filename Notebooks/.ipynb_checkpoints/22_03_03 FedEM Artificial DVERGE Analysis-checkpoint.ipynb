{
 "cells": [
  {
   "cell_type": "code",
   "execution_count": 1,
   "metadata": {},
   "outputs": [
    {
     "name": "stdout",
     "output_type": "stream",
     "text": [
      "/home/ubuntu/FedEM\n"
     ]
    }
   ],
   "source": [
    "cd /home/ubuntu/FedEM/"
   ]
  },
  {
   "cell_type": "code",
   "execution_count": 2,
   "metadata": {},
   "outputs": [],
   "source": [
    "# Import General Libraries\n",
    "import os\n",
    "import argparse\n",
    "import torch\n",
    "import copy\n",
    "import pickle\n",
    "import random\n",
    "import numpy as np\n",
    "import pandas as pd\n",
    "\n",
    "# Import FedEM based Libraries\n",
    "from utils.utils import *\n",
    "from utils.constants import *\n",
    "from utils.args import *\n",
    "from run_experiment import *\n",
    "from models import *\n",
    "\n",
    "# Import Transfer Attack\n",
    "from transfer_attacks.Personalized_NN import *\n",
    "from transfer_attacks.Params import *\n",
    "from transfer_attacks.Transferer import *\n",
    "from transfer_attacks.Args import *\n",
    "from transfer_attacks.TA_utils import *\n",
    "from transfer_attacks.Boundary_Transferer import *"
   ]
  },
  {
   "cell_type": "code",
   "execution_count": 3,
   "metadata": {},
   "outputs": [
    {
     "name": "stdout",
     "output_type": "stream",
     "text": [
      "==> Clients initialization..\n",
      "===> Building data iterators..\n"
     ]
    },
    {
     "name": "stderr",
     "output_type": "stream",
     "text": [
      "100%|██████████████████████████████████████████| 80/80 [00:00<00:00, 262.70it/s]\n"
     ]
    },
    {
     "name": "stdout",
     "output_type": "stream",
     "text": [
      "===> Initializing clients..\n"
     ]
    },
    {
     "name": "stderr",
     "output_type": "stream",
     "text": [
      "100%|███████████████████████████████████████████| 80/80 [00:30<00:00,  2.66it/s]\n"
     ]
    },
    {
     "name": "stdout",
     "output_type": "stream",
     "text": [
      "==> Test Clients initialization..\n",
      "===> Building data iterators..\n"
     ]
    },
    {
     "name": "stderr",
     "output_type": "stream",
     "text": [
      "0it [00:00, ?it/s]\n"
     ]
    },
    {
     "name": "stdout",
     "output_type": "stream",
     "text": [
      "===> Initializing clients..\n"
     ]
    },
    {
     "name": "stderr",
     "output_type": "stream",
     "text": [
      "0it [00:00, ?it/s]\n"
     ]
    },
    {
     "name": "stdout",
     "output_type": "stream",
     "text": [
      "++++++++++++++++++++++++++++++\n",
      "Global..\n",
      "Train Loss: 2.292 | Train Acc: 12.195% |Test Loss: 2.292 | Test Acc: 12.291% |\n",
      "++++++++++++++++++++++++++++++++++++++++++++++++++\n",
      "################################################################################\n"
     ]
    }
   ],
   "source": [
    "# Generating Empty Aggregator to be loaded \n",
    "\n",
    "setting = 'FedEM'\n",
    "\n",
    "if setting == 'FedEM':\n",
    "    nL = 3\n",
    "else:\n",
    "    nL = 1\n",
    "    \n",
    "# Manually set argument parameters\n",
    "args_ = Args()\n",
    "args_.experiment = \"cifar10\"\n",
    "args_.method = setting\n",
    "args_.decentralized = False\n",
    "args_.sampling_rate = 1.0\n",
    "args_.input_dimension = None\n",
    "args_.output_dimension = None\n",
    "args_.n_learners= nL\n",
    "args_.n_rounds = 10\n",
    "args_.bz = 128\n",
    "args_.local_steps = 1\n",
    "args_.lr_lambda = 0\n",
    "args_.lr =0.03\n",
    "args_.lr_scheduler = 'multi_step'\n",
    "args_.log_freq = 10\n",
    "args_.device = 'cuda'\n",
    "args_.optimizer = 'sgd'\n",
    "args_.mu = 0\n",
    "args_.communication_probability = 0.1\n",
    "args_.q = 1\n",
    "args_.locally_tune_clients = False\n",
    "args_.seed = 1234\n",
    "args_.verbose = 1\n",
    "args_.save_path = 'weights/cifar/dummy/'\n",
    "args_.validation = False\n",
    "\n",
    "# Generate the dummy values here\n",
    "aggregator, clients = dummy_aggregator(args_, num_user=40)"
   ]
  },
  {
   "cell_type": "code",
   "execution_count": 4,
   "metadata": {},
   "outputs": [],
   "source": [
    "# Compiling Dataset from Clients\n",
    "# Combine Validation Data across all clients as test\n",
    "data_x = []\n",
    "data_y = []\n",
    "\n",
    "for i in range(len(clients)):\n",
    "    daniloader = clients[i].test_iterator\n",
    "    for (x,y,idx) in daniloader.dataset:\n",
    "        data_x.append(x)\n",
    "        data_y.append(y)\n",
    "\n",
    "data_x = torch.stack(data_x)\n",
    "try:\n",
    "    data_y = torch.stack(data_y)        \n",
    "except:\n",
    "    data_y = torch.FloatTensor(data_y) \n",
    "    \n",
    "dataloader = Custom_Dataloader(data_x, data_y)"
   ]
  },
  {
   "cell_type": "code",
   "execution_count": 35,
   "metadata": {},
   "outputs": [],
   "source": [
    "# Import Model Weights\n",
    "num_models = 40\n",
    "\n",
    "adv_mode = False\n",
    "Dverge_mode = False\n",
    "\n",
    "np.set_printoptions(formatter={'float': lambda x: \"{0:0.2f}\".format(x)})\n",
    "\n",
    "if adv_mode:\n",
    "    if Dverge_mode:\n",
    "        args_.save_path = 'weights/cifar10/DVERGE/fedEM_dverge/'\n",
    "        weights = np.load('weights/cifar10/DVERGE/fedEM_dverge/train_client_weights.npy')\n",
    "    else:\n",
    "        args_.save_path = 'weights/final/cifar/fig3/fedem_defend/'\n",
    "        weights = np.load('weights/final/cifar/fig3/fedem_defend/train_client_weights.npy')\n",
    "else:\n",
    "    args_.save_path = 'weights/cifar/21_12_30_feddef_n40_linf0_5_G0_0/'\n",
    "    weights = np.load('weights/cifar/21_12_30_feddef_n40_linf0_5_G0_0/train_client_weights.npy')\n",
    "aggregator.load_state(args_.save_path)\n",
    "\n",
    "# This is where the models are stored -- one for each mixture --> learner.model for nn\n",
    "hypotheses = aggregator.global_learners_ensemble.learners\n",
    "\n",
    "# obtain the state dict for each of the weights \n",
    "weights_h = []\n",
    "\n",
    "for h in hypotheses:\n",
    "    weights_h += [h.model.state_dict()]\n",
    "\n",
    "# Set model weights\n",
    "model_weights = [(1,0,0), (0,1,0), (0,0,1),\n",
    "                 (0,0.5,0.5), (0.5,0,0.5), (0.5,0.5,0),\n",
    "                 (0.33,0.33,0.34)]\n",
    "\n",
    "# Generate the weights to test on as linear combinations of the model_weights\n",
    "models_test = []\n",
    "\n",
    "for (w0,w1,w2) in model_weights:\n",
    "    # first make the model with empty weights\n",
    "    new_model = copy.deepcopy(hypotheses[0].model)\n",
    "    new_model.eval()\n",
    "    new_weight_dict = copy.deepcopy(weights_h[0])\n",
    "    for key in weights_h[0]:\n",
    "        new_weight_dict[key] = w0*weights_h[0][key] + w1*weights_h[1][key] + w2*weights_h[2][key]\n",
    "    new_model.load_state_dict(new_weight_dict)\n",
    "    models_test += [new_model]"
   ]
  },
  {
   "cell_type": "code",
   "execution_count": 36,
   "metadata": {},
   "outputs": [],
   "source": [
    "# Here we will make a dictionary that will hold results\n",
    "logs_adv = []\n",
    "\n",
    "for i in range(num_models):\n",
    "    adv_dict = {}\n",
    "    adv_dict['orig_acc_transfers'] = None\n",
    "    adv_dict['orig_similarities'] = None\n",
    "    adv_dict['adv_acc_transfers'] = None\n",
    "    adv_dict['adv_similarities_target'] = None\n",
    "    adv_dict['adv_similarities_untarget'] = None\n",
    "    adv_dict['adv_target'] = None\n",
    "    adv_dict['adv_miss'] = None\n",
    "    adv_dict['metric_alignment'] = None\n",
    "    adv_dict['ib_distance_legit'] = None\n",
    "    adv_dict['ib_distance_adv'] = None\n",
    "\n",
    "    logs_adv += [adv_dict]\n",
    "    "
   ]
  },
  {
   "cell_type": "code",
   "execution_count": 37,
   "metadata": {},
   "outputs": [
    {
     "name": "stdout",
     "output_type": "stream",
     "text": [
      "\t Adv idx: 0\n",
      "\t Adv idx: 1\n",
      "\t Adv idx: 2\n",
      "\t Adv idx: 3\n",
      "\t Adv idx: 4\n",
      "\t Adv idx: 5\n",
      "\t Adv idx: 6\n"
     ]
    }
   ],
   "source": [
    "# Perform transfer attack from one client to another and record stats\n",
    "\n",
    "# Run Measurements for both targetted and untargeted analysis\n",
    "new_num_models = len(models_test)\n",
    "victim_idxs = range(new_num_models)\n",
    "custom_batch_size = 500\n",
    "eps = 4.5\n",
    "\n",
    "\n",
    "# Record number of batch sizes\n",
    "batch_size_recs = np.ones([new_num_models,new_num_models])\n",
    "\n",
    "for adv_idx in victim_idxs:\n",
    "    print(\"\\t Adv idx:\", adv_idx)\n",
    "    \n",
    "    # dataloader = load_client_data(clients = clients, c_id = adv_idx, mode = 'test') # or test/train\n",
    "    \n",
    "    batch_size = min(custom_batch_size, dataloader.y_data.shape[0])\n",
    "    batch_size_recs[adv_idx,:] *= batch_size\n",
    "    \n",
    "    t1 = Transferer(models_list=models_test, dataloader=dataloader)\n",
    "    t1.generate_victims(victim_idxs)\n",
    "    \n",
    "    # Perform Attacks Targeted\n",
    "    t1.atk_params = PGD_Params()\n",
    "    t1.atk_params.set_params(batch_size=batch_size, iteration = 10,\n",
    "                   target = 3, x_val_min = torch.min(data_x), x_val_max = torch.max(data_x),\n",
    "                   step_size = 0.01, step_norm = \"inf\", eps = eps, eps_norm = 2)\n",
    "    \n",
    "    \n",
    "    \n",
    "    t1.generate_advNN(adv_idx)\n",
    "    t1.generate_xadv(atk_type = \"pgd\")\n",
    "    t1.send_to_victims(victim_idxs)\n",
    "\n",
    "    # Log Performance\n",
    "    logs_adv[adv_idx]['orig_acc_transfers'] = copy.deepcopy(t1.orig_acc_transfers)\n",
    "    logs_adv[adv_idx]['orig_similarities'] = copy.deepcopy(t1.orig_similarities)\n",
    "    logs_adv[adv_idx]['adv_acc_transfers'] = copy.deepcopy(t1.adv_acc_transfers)\n",
    "    logs_adv[adv_idx]['adv_similarities_target'] = copy.deepcopy(t1.adv_similarities)        \n",
    "    logs_adv[adv_idx]['adv_target'] = copy.deepcopy(t1.adv_target_hit)\n",
    "\n",
    "    # Miss attack Untargeted\n",
    "    t1.atk_params.set_params(batch_size=batch_size, iteration = 10,\n",
    "                   target = -1, x_val_min = torch.min(data_x), x_val_max = torch.max(data_x),\n",
    "                   step_size = 0.01, step_norm = \"inf\", eps = eps, eps_norm = 2)\n",
    "    t1.generate_xadv(atk_type = \"pgd\")\n",
    "    t1.send_to_victims(victim_idxs)\n",
    "    logs_adv[adv_idx]['adv_miss'] = copy.deepcopy(t1.adv_acc_transfers)\n",
    "    logs_adv[adv_idx]['adv_similarities_untarget'] = copy.deepcopy(t1.adv_similarities)"
   ]
  },
  {
   "cell_type": "code",
   "execution_count": 38,
   "metadata": {},
   "outputs": [],
   "source": [
    "metrics = ['orig_acc_transfers','orig_similarities','adv_acc_transfers','adv_similarities_target',\n",
    "           'adv_similarities_untarget','adv_target','adv_miss'] #,'metric_alignment']\n",
    "\n",
    "orig_acc = np.zeros([new_num_models, new_num_models]) \n",
    "orig_sim = np.zeros([new_num_models, new_num_models]) \n",
    "adv_acc = np.zeros([new_num_models, new_num_models]) \n",
    "adv_sim_target = np.zeros([new_num_models, new_num_models]) \n",
    "adv_sim_untarget = np.zeros([new_num_models, new_num_models]) \n",
    "adv_target = np.zeros([new_num_models, new_num_models])\n",
    "adv_miss = np.zeros([new_num_models, new_num_models]) \n",
    "\n",
    "for adv_idx in range(new_num_models):\n",
    "    for victim in range(new_num_models):\n",
    "        orig_acc[adv_idx,victim] = logs_adv[victim_idxs[adv_idx]][metrics[0]][victim_idxs[victim]].data.tolist()\n",
    "        orig_sim[adv_idx,victim] = logs_adv[victim_idxs[adv_idx]][metrics[1]][victim_idxs[victim]].data.tolist()\n",
    "        adv_acc[adv_idx,victim] = logs_adv[victim_idxs[adv_idx]][metrics[2]][victim_idxs[victim]].data.tolist()\n",
    "        adv_sim_target[adv_idx,victim] = logs_adv[victim_idxs[adv_idx]][metrics[3]][victim_idxs[victim]].data.tolist()\n",
    "        adv_sim_untarget[adv_idx,victim] = logs_adv[victim_idxs[adv_idx]][metrics[4]][victim_idxs[victim]].data.tolist()\n",
    "        adv_target[adv_idx,victim] = logs_adv[victim_idxs[adv_idx]][metrics[5]][victim_idxs[victim]].data.tolist()\n",
    "        adv_miss[adv_idx,victim] = logs_adv[victim_idxs[adv_idx]][metrics[6]][victim_idxs[victim]].data.tolist()"
   ]
  },
  {
   "cell_type": "code",
   "execution_count": 39,
   "metadata": {},
   "outputs": [
    {
     "data": {
      "text/plain": [
       "array([[0.72, 0.68, 0.72, 0.71, 0.74, 0.75, 0.74],\n",
       "       [0.68, 0.68, 0.74, 0.71, 0.76, 0.74, 0.76],\n",
       "       [0.69, 0.70, 0.76, 0.72, 0.74, 0.74, 0.74],\n",
       "       [0.69, 0.67, 0.74, 0.69, 0.76, 0.72, 0.75],\n",
       "       [0.66, 0.69, 0.75, 0.70, 0.74, 0.76, 0.74],\n",
       "       [0.68, 0.70, 0.77, 0.70, 0.76, 0.72, 0.73],\n",
       "       [0.71, 0.69, 0.74, 0.70, 0.77, 0.75, 0.76]])"
      ]
     },
     "execution_count": 39,
     "metadata": {},
     "output_type": "execute_result"
    }
   ],
   "source": [
    "orig_acc"
   ]
  },
  {
   "cell_type": "code",
   "execution_count": 40,
   "metadata": {},
   "outputs": [
    {
     "data": {
      "text/plain": [
       "array([[0.03, 0.36, 0.40, 0.35, 0.14, 0.12, 0.18],\n",
       "       [0.34, 0.04, 0.33, 0.14, 0.35, 0.16, 0.19],\n",
       "       [0.33, 0.33, 0.02, 0.16, 0.15, 0.35, 0.21],\n",
       "       [0.24, 0.11, 0.09, 0.04, 0.10, 0.12, 0.06],\n",
       "       [0.09, 0.22, 0.09, 0.10, 0.03, 0.10, 0.06],\n",
       "       [0.12, 0.10, 0.27, 0.13, 0.13, 0.03, 0.08],\n",
       "       [0.14, 0.14, 0.11, 0.07, 0.07, 0.08, 0.04]])"
      ]
     },
     "execution_count": 40,
     "metadata": {},
     "output_type": "execute_result"
    }
   ],
   "source": [
    "adv_miss"
   ]
  },
  {
   "cell_type": "code",
   "execution_count": 41,
   "metadata": {},
   "outputs": [
    {
     "data": {
      "text/plain": [
       "array([[0.74, 0.09, 0.09, 0.04, 0.45, 0.48, 0.29],\n",
       "       [0.28, 0.59, 0.09, 0.11, 0.23, 0.40, 0.24],\n",
       "       [0.30, 0.06, 0.67, 0.11, 0.39, 0.19, 0.21],\n",
       "       [0.32, 0.22, 0.31, 0.39, 0.43, 0.39, 0.45],\n",
       "       [0.52, 0.08, 0.28, 0.10, 0.64, 0.40, 0.44],\n",
       "       [0.61, 0.22, 0.09, 0.07, 0.42, 0.69, 0.43],\n",
       "       [0.51, 0.15, 0.21, 0.18, 0.57, 0.55, 0.55]])"
      ]
     },
     "execution_count": 41,
     "metadata": {},
     "output_type": "execute_result"
    }
   ],
   "source": [
    "adv_target"
   ]
  },
  {
   "cell_type": "raw",
   "metadata": {},
   "source": [
    "# 7 Clients of following order\n",
    "[(1,0,0),(0,1,0),(0,0,1),\n",
    " (0,1,1),(1,0,1),(1,1,0),\n",
    " (1,1,1)]\n",
    " \n",
    "# Benign\n",
    "Orig Acc\n",
    "array([[0.72, 0.68, 0.72, 0.71, 0.74, 0.75, 0.74],\n",
    "       [0.68, 0.68, 0.74, 0.71, 0.76, 0.74, 0.76],\n",
    "       [0.69, 0.70, 0.76, 0.72, 0.74, 0.74, 0.74],\n",
    "       [0.69, 0.67, 0.74, 0.69, 0.76, 0.72, 0.75],\n",
    "       [0.66, 0.69, 0.75, 0.70, 0.74, 0.76, 0.74],\n",
    "       [0.68, 0.70, 0.77, 0.70, 0.76, 0.72, 0.73],\n",
    "       [0.71, 0.69, 0.74, 0.70, 0.77, 0.75, 0.76]])\n",
    "\n",
    "Adv Miss\n",
    "array([[0.03, 0.36, 0.40, 0.35, 0.14, 0.12, 0.18],\n",
    "       [0.34, 0.04, 0.33, 0.14, 0.35, 0.16, 0.19],\n",
    "       [0.33, 0.33, 0.02, 0.16, 0.15, 0.35, 0.21],\n",
    "       [0.24, 0.11, 0.09, 0.04, 0.10, 0.12, 0.06],\n",
    "       [0.09, 0.22, 0.09, 0.10, 0.03, 0.10, 0.06],\n",
    "       [0.12, 0.10, 0.27, 0.13, 0.13, 0.03, 0.08],\n",
    "       [0.14, 0.14, 0.11, 0.07, 0.07, 0.08, 0.04]])\n",
    "       \n",
    "Adv Target\n",
    "array([[0.74, 0.09, 0.09, 0.04, 0.45, 0.48, 0.29],\n",
    "       [0.28, 0.59, 0.09, 0.11, 0.23, 0.40, 0.24],\n",
    "       [0.30, 0.06, 0.67, 0.11, 0.39, 0.19, 0.21],\n",
    "       [0.32, 0.22, 0.31, 0.39, 0.43, 0.39, 0.45],\n",
    "       [0.52, 0.08, 0.28, 0.10, 0.64, 0.40, 0.44],\n",
    "       [0.61, 0.22, 0.09, 0.07, 0.42, 0.69, 0.43],\n",
    "       [0.51, 0.15, 0.21, 0.18, 0.57, 0.55, 0.55]])\n",
    "\n",
    "# pFedDef G = 0.5\n",
    "Orig Acc\n",
    "array([[0.56, 0.58, 0.66, 0.60, 0.66, 0.62, 0.65],\n",
    "       [0.54, 0.52, 0.64, 0.55, 0.65, 0.60, 0.62],\n",
    "       [0.58, 0.54, 0.63, 0.55, 0.66, 0.63, 0.67],\n",
    "       [0.57, 0.56, 0.65, 0.56, 0.69, 0.61, 0.62],\n",
    "       [0.55, 0.54, 0.70, 0.58, 0.63, 0.60, 0.61],\n",
    "       [0.59, 0.55, 0.65, 0.57, 0.68, 0.61, 0.65],\n",
    "       [0.56, 0.57, 0.68, 0.57, 0.69, 0.62, 0.64]])\n",
    "\n",
    "Adv Miss\n",
    "array([[0.22, 0.50, 0.59, 0.50, 0.52, 0.49, 0.53],\n",
    "       [0.50, 0.22, 0.60, 0.43, 0.58, 0.48, 0.51],\n",
    "       [0.50, 0.46, 0.28, 0.42, 0.45, 0.54, 0.48],\n",
    "       [0.50, 0.42, 0.51, 0.27, 0.47, 0.50, 0.40],\n",
    "       [0.46, 0.49, 0.56, 0.47, 0.32, 0.51, 0.45],\n",
    "       [0.45, 0.42, 0.59, 0.45, 0.50, 0.24, 0.43],\n",
    "       [0.43, 0.39, 0.54, 0.35, 0.36, 0.36, 0.24]])\n",
    "       \n",
    "Adv Target\n",
    "array([[0.49, 0.02, 0.01, 0.00, 0.12, 0.20, 0.07],\n",
    "       [0.22, 0.23, 0.01, 0.01, 0.12, 0.21, 0.09],\n",
    "       [0.22, 0.03, 0.15, 0.01, 0.14, 0.14, 0.06],\n",
    "       [0.22, 0.03, 0.01, 0.04, 0.15, 0.19, 0.13],\n",
    "       [0.27, 0.02, 0.02, 0.00, 0.34, 0.21, 0.13],\n",
    "       [0.23, 0.04, 0.01, 0.00, 0.14, 0.37, 0.10],\n",
    "       [0.25, 0.02, 0.01, 0.00, 0.19, 0.23, 0.20]])\n",
    "       \n",
    "\n",
    "# Dverge + pFedDef G = 0.5\n",
    "Orig Acc\n",
    "array([[0.65, 0.65, 0.59, 0.63, 0.65, 0.69, 0.68],\n",
    "       [0.65, 0.65, 0.61, 0.65, 0.67, 0.73, 0.69],\n",
    "       [0.64, 0.66, 0.65, 0.66, 0.68, 0.71, 0.71],\n",
    "       [0.61, 0.62, 0.61, 0.62, 0.66, 0.67, 0.67],\n",
    "       [0.66, 0.63, 0.59, 0.64, 0.67, 0.68, 0.68],\n",
    "       [0.63, 0.64, 0.65, 0.66, 0.68, 0.70, 0.71],\n",
    "       [0.67, 0.66, 0.66, 0.67, 0.72, 0.69, 0.72]])\n",
    "       \n",
    "Adv Miss\n",
    "array([[0.05, 0.58, 0.48, 0.54, 0.30, 0.37, 0.41],\n",
    "       [0.53, 0.07, 0.50, 0.32, 0.50, 0.31, 0.39],\n",
    "       [0.54, 0.54, 0.04, 0.36, 0.32, 0.57, 0.43],\n",
    "       [0.47, 0.33, 0.29, 0.06, 0.34, 0.34, 0.15],\n",
    "       [0.27, 0.54, 0.26, 0.37, 0.05, 0.35, 0.18],\n",
    "       [0.27, 0.24, 0.47, 0.30, 0.34, 0.06, 0.16],\n",
    "       [0.36, 0.40, 0.37, 0.20, 0.21, 0.22, 0.08]])\n",
    "       \n",
    "Adv Target\n",
    "array([[0.76, 0.00, 0.04, 0.01, 0.31, 0.23, 0.13],\n",
    "       [0.16, 0.41, 0.03, 0.05, 0.16, 0.24, 0.15],\n",
    "       [0.19, 0.01, 0.65, 0.04, 0.31, 0.13, 0.13],\n",
    "       [0.21, 0.06, 0.09, 0.37, 0.27, 0.23, 0.35],\n",
    "       [0.38, 0.01, 0.16, 0.02, 0.69, 0.22, 0.30],\n",
    "       [0.42, 0.05, 0.03, 0.04, 0.29, 0.64, 0.33],\n",
    "       [0.29, 0.03, 0.07, 0.13, 0.41, 0.38, 0.53]])"
   ]
  }
 ],
 "metadata": {
  "kernelspec": {
   "display_name": "FedEM_env",
   "language": "python",
   "name": "fedem_env"
  },
  "language_info": {
   "codemirror_mode": {
    "name": "ipython",
    "version": 3
   },
   "file_extension": ".py",
   "mimetype": "text/x-python",
   "name": "python",
   "nbconvert_exporter": "python",
   "pygments_lexer": "ipython3",
   "version": "3.9.6"
  }
 },
 "nbformat": 4,
 "nbformat_minor": 4
}
