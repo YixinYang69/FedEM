{
 "cells": [
  {
   "cell_type": "code",
   "execution_count": 31,
   "metadata": {},
   "outputs": [
    {
     "name": "stdout",
     "output_type": "stream",
     "text": [
      "/home/ubuntu/FedEM\n"
     ]
    }
   ],
   "source": [
    "cd /home/ubuntu/FedEM/"
   ]
  },
  {
   "cell_type": "code",
   "execution_count": 32,
   "metadata": {},
   "outputs": [],
   "source": [
    "# Import General Libraries\n",
    "import os\n",
    "import argparse\n",
    "import torch\n",
    "import copy\n",
    "import pickle\n",
    "import random\n",
    "import numpy as np\n",
    "import pandas as pd\n",
    "\n",
    "# Import FedEM based Libraries\n",
    "from utils.utils import *\n",
    "from utils.constants import *\n",
    "from utils.args import *\n",
    "from run_experiment import *\n",
    "from models import *\n",
    "\n",
    "# Import Transfer Attack\n",
    "from transfer_attacks.Personalized_NN import *\n",
    "from transfer_attacks.Params import *\n",
    "from transfer_attacks.Transferer import *\n",
    "from transfer_attacks.Args import *\n",
    "from transfer_attacks.TA_utils import *\n",
    "from transfer_attacks.Boundary_Transferer import *"
   ]
  },
  {
   "cell_type": "code",
   "execution_count": 33,
   "metadata": {},
   "outputs": [
    {
     "name": "stdout",
     "output_type": "stream",
     "text": [
      "==> Clients initialization..\n",
      "===> Building data iterators..\n"
     ]
    },
    {
     "name": "stderr",
     "output_type": "stream",
     "text": [
      "100%|█████████████████████████████████████████████████████████████████████████████████████████████████████████████████████████████████████████████████████████████████████████████| 80/80 [00:00<00:00, 342.57it/s]\n"
     ]
    },
    {
     "name": "stdout",
     "output_type": "stream",
     "text": [
      "===> Initializing clients..\n"
     ]
    },
    {
     "name": "stderr",
     "output_type": "stream",
     "text": [
      "100%|██████████████████████████████████████████████████████████████████████████████████████████████████████████████████████████████████████████████████████████████████████████████| 80/80 [00:50<00:00,  1.59it/s]\n"
     ]
    },
    {
     "name": "stdout",
     "output_type": "stream",
     "text": [
      "==> Test Clients initialization..\n",
      "===> Building data iterators..\n"
     ]
    },
    {
     "name": "stderr",
     "output_type": "stream",
     "text": [
      "0it [00:00, ?it/s]\n"
     ]
    },
    {
     "name": "stdout",
     "output_type": "stream",
     "text": [
      "===> Initializing clients..\n"
     ]
    },
    {
     "name": "stderr",
     "output_type": "stream",
     "text": [
      "0it [00:00, ?it/s]\n"
     ]
    },
    {
     "name": "stdout",
     "output_type": "stream",
     "text": [
      "++++++++++++++++++++++++++++++\n",
      "Global..\n",
      "Train Loss: 2.292 | Train Acc: 12.207% |Test Loss: 2.291 | Test Acc: 12.396% |\n",
      "++++++++++++++++++++++++++++++++++++++++++++++++++\n",
      "################################################################################\n"
     ]
    }
   ],
   "source": [
    "# Manually set argument parameters\n",
    "args_ = Args()\n",
    "args_.experiment = \"cifar10\"\n",
    "args_.method = \"FedEM_adv\"\n",
    "args_.decentralized = False\n",
    "args_.sampling_rate = 1.0\n",
    "args_.input_dimension = None\n",
    "args_.output_dimension = None\n",
    "args_.n_learners= 3\n",
    "args_.n_rounds = 10\n",
    "args_.bz = 128\n",
    "args_.local_steps = 1\n",
    "args_.lr_lambda = 0\n",
    "args_.lr =0.03\n",
    "args_.lr_scheduler = 'multi_step'\n",
    "args_.log_freq = 10\n",
    "args_.device = 'cuda'\n",
    "args_.optimizer = 'sgd'\n",
    "args_.mu = 0\n",
    "args_.communication_probability = 0.1\n",
    "args_.q = 1\n",
    "args_.locally_tune_clients = False\n",
    "args_.seed = 1234\n",
    "args_.verbose = 1\n",
    "args_.save_path = 'weights/cifar/22_01_09_fedavg_n80_benign/'\n",
    "args_.validation = False\n",
    "args_.num_user = 40\n",
    "\n",
    "# Generate the dummy values here\n",
    "aggregator, clients = dummy_aggregator(args_, num_user=40)"
   ]
  },
  {
   "cell_type": "code",
   "execution_count": 34,
   "metadata": {},
   "outputs": [],
   "source": [
    "# Combine Validation Data across all clients as test\n",
    "data_x = []\n",
    "data_y = []\n",
    "\n",
    "for i in range(len(clients)):\n",
    "    daniloader = clients[i].val_iterator\n",
    "    for (x,y,idx) in daniloader.dataset:\n",
    "        data_x.append(x)\n",
    "        data_y.append(y)\n",
    "\n",
    "data_x = torch.stack(data_x)\n",
    "data_y = torch.stack(data_y)\n",
    "\n",
    "# Create dataloader from validation dataset that allows for diverse batch size\n",
    "dataloader = Custom_Dataloader(data_x, data_y)"
   ]
  },
  {
   "cell_type": "code",
   "execution_count": 35,
   "metadata": {},
   "outputs": [],
   "source": [
    "# str_val = '2'\n",
    "\n",
    "# exp_names = ['weights/neurips/cifar10/alpha/'+str_val+'/FedAvg_adv/',\n",
    "#              'weights/neurips/cifar10/alpha/'+str_val+'/FedEM_adv/']\n",
    "\n",
    "\n",
    "# exp_names = ['weights/aistats/cifar10/alpha/fed_avg_beta_0_3/',\n",
    "#              'weights/aistats/cifar10/alpha/fedem_beta_0_3/']\n",
    "\n",
    "exp_names = ['weights/aistats/cifar10/alpha/fed_avg_beta_2/',\n",
    "             'weights/aistats/cifar10/alpha/fedem_beta_2/']\n",
    "\n",
    "\n",
    "exp_modes = ['FedAvg', 'FedEM']\n",
    "\n",
    "train_item = 'train_client_weights.npy'"
   ]
  },
  {
   "cell_type": "code",
   "execution_count": 36,
   "metadata": {},
   "outputs": [],
   "source": [
    "num_victims = 40\n",
    "num_exp = len(exp_names)\n",
    "# Set Up Dictionaries -- list holds the adversary idx\n",
    "exp_logs = {}\n",
    "\n",
    "for j in range(num_exp):\n",
    "    logs_adv = []\n",
    "\n",
    "    for i in range(num_victims):\n",
    "        adv_dict = {}\n",
    "        adv_dict['orig_acc_transfers'] = None\n",
    "        adv_dict['orig_similarities'] = None\n",
    "        adv_dict['adv_acc_transfers'] = None\n",
    "        adv_dict['adv_similarities_target'] = None\n",
    "        adv_dict['adv_similarities_untarget'] = None\n",
    "        adv_dict['adv_target'] = None\n",
    "        adv_dict['adv_miss'] = None\n",
    "        adv_dict['metric_alignment'] = None\n",
    "        adv_dict['ib_distance_legit'] = None\n",
    "        adv_dict['ib_distance_adv'] = None\n",
    "        \n",
    "        logs_adv += [adv_dict]\n",
    "    \n",
    "    exp_logs[j] = copy.deepcopy(logs_adv)\n"
   ]
  },
  {
   "cell_type": "code",
   "execution_count": 37,
   "metadata": {},
   "outputs": [
    {
     "name": "stdout",
     "output_type": "stream",
     "text": [
      "processing file weights/aistats/cifar10/alpha/fed_avg_beta_2/ ...\n",
      "==> Clients initialization..\n",
      "===> Building data iterators..\n"
     ]
    },
    {
     "name": "stderr",
     "output_type": "stream",
     "text": [
      "100%|█████████████████████████████████████████████████████████████████████████████████████████████████████████████████████████████████████████████████████████████████████████████| 80/80 [00:00<00:00, 343.43it/s]\n"
     ]
    },
    {
     "name": "stdout",
     "output_type": "stream",
     "text": [
      "===> Initializing clients..\n"
     ]
    },
    {
     "name": "stderr",
     "output_type": "stream",
     "text": [
      "100%|██████████████████████████████████████████████████████████████████████████████████████████████████████████████████████████████████████████████████████████████████████████████| 80/80 [00:11<00:00,  6.73it/s]\n"
     ]
    },
    {
     "name": "stdout",
     "output_type": "stream",
     "text": [
      "==> Test Clients initialization..\n",
      "===> Building data iterators..\n"
     ]
    },
    {
     "name": "stderr",
     "output_type": "stream",
     "text": [
      "0it [00:00, ?it/s]\n"
     ]
    },
    {
     "name": "stdout",
     "output_type": "stream",
     "text": [
      "===> Initializing clients..\n"
     ]
    },
    {
     "name": "stderr",
     "output_type": "stream",
     "text": [
      "0it [00:00, ?it/s]\n"
     ]
    },
    {
     "name": "stdout",
     "output_type": "stream",
     "text": [
      "++++++++++++++++++++++++++++++\n",
      "Global..\n",
      "Train Loss: 2.298 | Train Acc: 10.694% |Test Loss: 2.296 | Test Acc: 10.276% |\n",
      "++++++++++++++++++++++++++++++++++++++++++++++++++\n",
      "################################################################################\n",
      "\t Adv idx: 0\n",
      "\t Adv idx: 1\n",
      "\t Adv idx: 2\n",
      "\t Adv idx: 3\n",
      "\t Adv idx: 4\n",
      "\t Adv idx: 5\n",
      "\t Adv idx: 6\n",
      "\t Adv idx: 7\n",
      "\t Adv idx: 8\n",
      "\t Adv idx: 9\n",
      "\t Adv idx: 10\n",
      "\t Adv idx: 11\n",
      "\t Adv idx: 12\n",
      "\t Adv idx: 13\n",
      "\t Adv idx: 14\n",
      "\t Adv idx: 15\n",
      "\t Adv idx: 16\n",
      "\t Adv idx: 17\n",
      "\t Adv idx: 18\n",
      "\t Adv idx: 19\n",
      "\t Adv idx: 20\n",
      "\t Adv idx: 21\n",
      "\t Adv idx: 22\n",
      "\t Adv idx: 23\n",
      "\t Adv idx: 24\n",
      "\t Adv idx: 25\n",
      "\t Adv idx: 26\n",
      "\t Adv idx: 27\n",
      "\t Adv idx: 28\n",
      "\t Adv idx: 29\n",
      "\t Adv idx: 30\n",
      "\t Adv idx: 31\n",
      "\t Adv idx: 32\n",
      "\t Adv idx: 33\n",
      "\t Adv idx: 34\n",
      "\t Adv idx: 35\n",
      "\t Adv idx: 36\n",
      "\t Adv idx: 37\n",
      "\t Adv idx: 38\n",
      "\t Adv idx: 39\n",
      "processing file weights/aistats/cifar10/alpha/fedem_beta_2/ ...\n",
      "==> Clients initialization..\n",
      "===> Building data iterators..\n"
     ]
    },
    {
     "name": "stderr",
     "output_type": "stream",
     "text": [
      "100%|█████████████████████████████████████████████████████████████████████████████████████████████████████████████████████████████████████████████████████████████████████████████| 80/80 [00:00<00:00, 341.44it/s]\n"
     ]
    },
    {
     "name": "stdout",
     "output_type": "stream",
     "text": [
      "===> Initializing clients..\n"
     ]
    },
    {
     "name": "stderr",
     "output_type": "stream",
     "text": [
      "100%|██████████████████████████████████████████████████████████████████████████████████████████████████████████████████████████████████████████████████████████████████████████████| 80/80 [00:35<00:00,  2.26it/s]\n"
     ]
    },
    {
     "name": "stdout",
     "output_type": "stream",
     "text": [
      "==> Test Clients initialization..\n",
      "===> Building data iterators..\n"
     ]
    },
    {
     "name": "stderr",
     "output_type": "stream",
     "text": [
      "0it [00:00, ?it/s]\n"
     ]
    },
    {
     "name": "stdout",
     "output_type": "stream",
     "text": [
      "===> Initializing clients..\n"
     ]
    },
    {
     "name": "stderr",
     "output_type": "stream",
     "text": [
      "0it [00:00, ?it/s]\n"
     ]
    },
    {
     "name": "stdout",
     "output_type": "stream",
     "text": [
      "++++++++++++++++++++++++++++++\n",
      "Global..\n",
      "Train Loss: 2.292 | Train Acc: 12.207% |Test Loss: 2.291 | Test Acc: 12.396% |\n",
      "++++++++++++++++++++++++++++++++++++++++++++++++++\n",
      "################################################################################\n",
      "\t Adv idx: 0\n",
      "\t Adv idx: 1\n",
      "\t Adv idx: 2\n",
      "\t Adv idx: 3\n",
      "\t Adv idx: 4\n",
      "\t Adv idx: 5\n",
      "\t Adv idx: 6\n",
      "\t Adv idx: 7\n",
      "\t Adv idx: 8\n",
      "\t Adv idx: 9\n",
      "\t Adv idx: 10\n",
      "\t Adv idx: 11\n",
      "\t Adv idx: 12\n",
      "\t Adv idx: 13\n",
      "\t Adv idx: 14\n",
      "\t Adv idx: 15\n",
      "\t Adv idx: 16\n",
      "\t Adv idx: 17\n",
      "\t Adv idx: 18\n",
      "\t Adv idx: 19\n",
      "\t Adv idx: 20\n",
      "\t Adv idx: 21\n",
      "\t Adv idx: 22\n",
      "\t Adv idx: 23\n",
      "\t Adv idx: 24\n",
      "\t Adv idx: 25\n",
      "\t Adv idx: 26\n",
      "\t Adv idx: 27\n",
      "\t Adv idx: 28\n",
      "\t Adv idx: 29\n",
      "\t Adv idx: 30\n",
      "\t Adv idx: 31\n",
      "\t Adv idx: 32\n",
      "\t Adv idx: 33\n",
      "\t Adv idx: 34\n",
      "\t Adv idx: 35\n",
      "\t Adv idx: 36\n",
      "\t Adv idx: 37\n",
      "\t Adv idx: 38\n",
      "\t Adv idx: 39\n"
     ]
    }
   ],
   "source": [
    "# Inter Boundary Distance Metric\n",
    "custom_batch_size = 500\n",
    "\n",
    "\n",
    "for j in range(num_exp):\n",
    "    print('processing file', exp_names[j], '...')\n",
    "    setting = exp_modes[j]\n",
    "    \n",
    "    if setting == 'FedAvg':\n",
    "\n",
    "        args_.method = 'FedAvg'\n",
    "#         args_.n_learners= 3\n",
    "        args_.n_learners = 1\n",
    "\n",
    "        aggregator, clients = dummy_aggregator(args_, num_user=40)\n",
    "\n",
    "        args_.save_path = exp_names[j]\n",
    "        aggregator.load_state(args_.save_path)\n",
    "\n",
    "        # This is where the models are stored -- one for each mixture --> learner.model for nn\n",
    "        hypotheses = aggregator.global_learners_ensemble.learners\n",
    "\n",
    "        # obtain the state dict for each of the weights \n",
    "        weights_h = []\n",
    "\n",
    "        for h in hypotheses:\n",
    "            weights_h += [h.model.state_dict()]\n",
    "\n",
    "        weight_name = args_.save_path + train_item\n",
    "        weights = np.load(weight_name)\n",
    "\n",
    "        # Set model weights\n",
    "        model_weights = []\n",
    "        num_models = num_victims\n",
    "\n",
    "        for i in range(num_models):\n",
    "            model_weights += [weights[i]]\n",
    "\n",
    "        # Generate the weights to test on as linear combinations of the model_weights\n",
    "        models_test = []\n",
    "\n",
    "        if args_.n_learners == 3:\n",
    "            for (w0,w1,w2) in model_weights:\n",
    "                # first make the model with empty weights\n",
    "                new_model = copy.deepcopy(hypotheses[0].model)\n",
    "                new_model.eval()\n",
    "                new_weight_dict = copy.deepcopy(weights_h[0])\n",
    "                for key in weights_h[0]:\n",
    "                    new_weight_dict[key] = w0*weights_h[0][key]  + w1*weights_h[1][key] +w2*weights_h[2][key] \n",
    "                new_model.load_state_dict(new_weight_dict)\n",
    "                models_test += [new_model]\n",
    "        elif args_.n_learners == 1:\n",
    "\n",
    "            for (w0) in model_weights:\n",
    "                # first make the model with empty weights\n",
    "                new_model = copy.deepcopy(hypotheses[0].model)\n",
    "                new_model.eval()\n",
    "                new_weight_dict = copy.deepcopy(weights_h[0])\n",
    "                for key in weights_h[0]:\n",
    "                    new_weight_dict[key] = w0[0]*weights_h[0][key]\n",
    "                new_model.load_state_dict(new_weight_dict)\n",
    "                models_test += [new_model]\n",
    "\n",
    "\n",
    "    elif setting == 'FedEM':\n",
    "\n",
    "        args_.method = 'FedEM'\n",
    "        args_.n_learners= 3\n",
    "\n",
    "        aggregator, clients = dummy_aggregator(args_, num_user=40)\n",
    "\n",
    "        args_.save_path = exp_names[j]\n",
    "\n",
    "        aggregator.load_state(args_.save_path)\n",
    "\n",
    "        # This is where the models are stored -- one for each mixture --> learner.model for nn\n",
    "        hypotheses = aggregator.global_learners_ensemble.learners\n",
    "\n",
    "        # obtain the state dict for each of the weights \n",
    "        weights_h = []\n",
    "\n",
    "        for h in hypotheses:\n",
    "            weights_h += [h.model.state_dict()]\n",
    "\n",
    "        weight_name = args_.save_path + train_item\n",
    "        weights = np.load(weight_name)\n",
    "\n",
    "        # Set model weights\n",
    "        model_weights = []\n",
    "        num_models = num_victims\n",
    "\n",
    "        for i in range(num_models):\n",
    "            model_weights += [weights[i]]\n",
    "\n",
    "        # Generate the weights to test on as linear combinations of the model_weights\n",
    "        models_test = []\n",
    "\n",
    "        for (w0,w1,w2) in model_weights:\n",
    "            # first make the model with empty weights\n",
    "            new_model = copy.deepcopy(hypotheses[0].model)\n",
    "            new_model.eval()\n",
    "            new_weight_dict = copy.deepcopy(weights_h[0])\n",
    "            for key in weights_h[0]:\n",
    "                new_weight_dict[key] = w0*weights_h[0][key] + w1*weights_h[1][key] + w2*weights_h[2][key]\n",
    "            new_model.load_state_dict(new_weight_dict)\n",
    "            models_test += [new_model]    \n",
    "\n",
    "    victim_idxs = range(num_victims)\n",
    "\n",
    "    for adv_idx in victim_idxs:\n",
    "        print(\"\\t Adv idx:\", adv_idx)\n",
    "        # Perform Attacks\n",
    "        dataloader = load_client_data(clients = clients, c_id = adv_idx, mode = 'test') # or test/train\n",
    "        batch_size = min(custom_batch_size, dataloader.y_data.shape[0])\n",
    "        \n",
    "        t1 = Transferer(models_list=models_test, dataloader=dataloader)\n",
    "        t1.generate_victims(victim_idxs)\n",
    "        \n",
    "        t1.atk_params = PGD_Params()\n",
    "        t1.atk_params.set_params(batch_size=batch_size, iteration = 10,\n",
    "                       target = 3, x_val_min = torch.min(data_x), x_val_max = torch.max(data_x),\n",
    "                       step_size = 0.05, step_norm = \"inf\", eps = 4, eps_norm = 2)\n",
    "\n",
    "        t1.generate_advNN(adv_idx)\n",
    "        t1.generate_xadv(atk_type = \"pgd\")\n",
    "        t1.send_to_victims(victim_idxs)\n",
    "        # t1.check_empirical_metrics(orig_flag = True)\n",
    "\n",
    "        # Log Performance\n",
    "        exp_logs[j][adv_idx]['orig_acc_transfers'] = copy.deepcopy(t1.orig_acc_transfers)\n",
    "        exp_logs[j][adv_idx]['orig_similarities'] = copy.deepcopy(t1.orig_similarities)\n",
    "        exp_logs[j][adv_idx]['adv_acc_transfers'] = copy.deepcopy(t1.adv_acc_transfers)\n",
    "        exp_logs[j][adv_idx]['adv_similarities_target'] = copy.deepcopy(t1.adv_similarities)        \n",
    "        exp_logs[j][adv_idx]['adv_target'] = copy.deepcopy(t1.adv_target_hit)\n",
    "\n",
    "        # Miss attack\n",
    "        t1.atk_params.set_params(batch_size=batch_size, iteration = 10,\n",
    "                       target = -1, x_val_min = torch.min(data_x), x_val_max = torch.max(data_x),\n",
    "                       step_size = 0.05, step_norm = \"inf\", eps = 4, eps_norm = 2)\n",
    "        t1.generate_xadv(atk_type = \"pgd\")\n",
    "        t1.send_to_victims(victim_idxs)\n",
    "        exp_logs[j][adv_idx]['adv_miss'] = copy.deepcopy(t1.adv_acc_transfers)\n",
    "        exp_logs[j][adv_idx]['adv_similarities_untarget'] = copy.deepcopy(t1.adv_similarities)\n",
    "\n",
    "\n",
    "    del models_test"
   ]
  },
  {
   "cell_type": "code",
   "execution_count": 38,
   "metadata": {},
   "outputs": [],
   "source": [
    "metrics = ['orig_acc_transfers','orig_similarities','adv_acc_transfers','adv_similarities_target',\n",
    "           'adv_similarities_untarget','adv_target','adv_miss'] #,'metric_alignment']\n",
    "\n",
    "\n",
    "orig_acc = []\n",
    "orig_sim = []\n",
    "adv_acc = []\n",
    "adv_sim_target = []\n",
    "adv_sim_untarget = []\n",
    "adv_target = []\n",
    "adv_miss = []\n",
    "\n",
    "for i in range(len(exp_names)):\n",
    "    orig_acc += [np.zeros([len(victim_idxs),len(victim_idxs)])]\n",
    "    orig_sim += [np.zeros([len(victim_idxs),len(victim_idxs)])]\n",
    "    adv_acc += [np.zeros([len(victim_idxs),len(victim_idxs)]) ]\n",
    "    adv_sim_target += [np.zeros([len(victim_idxs),len(victim_idxs)]) ]\n",
    "    adv_sim_untarget += [np.zeros([len(victim_idxs),len(victim_idxs)]) ]\n",
    "    adv_target += [np.zeros([len(victim_idxs),len(victim_idxs)])]\n",
    "    adv_miss += [np.zeros([len(victim_idxs),len(victim_idxs)]) ]\n",
    "    \n",
    "    for adv_idx in range(len(victim_idxs)):\n",
    "        for victim in range(len(victim_idxs)):\n",
    "            orig_acc[i][adv_idx,victim] = exp_logs[i][victim_idxs[adv_idx]][metrics[0]][victim_idxs[victim]].data.tolist()\n",
    "            orig_sim[i][adv_idx,victim] = exp_logs[i][victim_idxs[adv_idx]][metrics[1]][victim_idxs[victim]].data.tolist()\n",
    "            adv_acc[i][adv_idx,victim] = exp_logs[i][victim_idxs[adv_idx]][metrics[2]][victim_idxs[victim]].data.tolist()\n",
    "            adv_sim_target[i][adv_idx,victim] = exp_logs[i][victim_idxs[adv_idx]][metrics[3]][victim_idxs[victim]].data.tolist()\n",
    "            adv_sim_untarget[i][adv_idx,victim] = exp_logs[i][victim_idxs[adv_idx]][metrics[4]][victim_idxs[victim]].data.tolist()\n",
    "            adv_target[i][adv_idx,victim] = exp_logs[i][victim_idxs[adv_idx]][metrics[5]][victim_idxs[victim]].data.tolist()\n",
    "            adv_miss[i][adv_idx,victim] = exp_logs[i][victim_idxs[adv_idx]][metrics[6]][victim_idxs[victim]].data.tolist()"
   ]
  },
  {
   "cell_type": "code",
   "execution_count": 39,
   "metadata": {},
   "outputs": [
    {
     "name": "stdout",
     "output_type": "stream",
     "text": [
      "FedAvg\n",
      "adv_target: 0.8724562212824821 std: 0.03579973543651294\n",
      "adv_miss: 0.007041806704364717 std: 0.0073304366005945\n",
      "orig_acc: 0.7656762793660163 std: 0.0398046106726384\n",
      "FedEM\n",
      "adv_target: 0.7012782787569822 std: 0.19173277025770158\n",
      "adv_miss: 0.037152295063387075 std: 0.05409642391653509\n",
      "orig_acc: 0.7991240739822387 std: 0.034170911025737626\n"
     ]
    }
   ],
   "source": [
    "print('FedAvg')\n",
    "\n",
    "print('adv_target:', avg_nondiag(adv_target[0]), 'std:', np.std(adv_target[0]))\n",
    "print('adv_miss:', avg_nondiag(adv_miss[0]), 'std:', np.std(adv_miss[0]))\n",
    "print('orig_acc:', np.mean(np.diagonal(orig_acc[0])), 'std:', np.std(orig_acc[0]))\n",
    "\n",
    "print('FedEM')\n",
    "print('adv_target:', avg_nondiag(adv_target[1]), 'std:', np.std(adv_target[1]))\n",
    "print('adv_miss:', avg_nondiag(adv_miss[1]), 'std:', np.std(adv_miss[1]))\n",
    "print('orig_acc:', np.mean(np.diagonal(orig_acc[1])), 'std:', np.std(orig_acc[1]))"
   ]
  },
  {
   "cell_type": "raw",
   "metadata": {},
   "source": [
    "FedAvg alpha 0.3\n",
    "adv_target: 0.5316571179777384 std: 0.10657044675998208\n",
    "adv_miss: 0.11981217246502637 std: 0.05683931027212858\n",
    "orig_acc: 0.7247609600424767 std: 0.07900809668534027\n",
    "\n",
    "FedEM alpha 0.3\n",
    "adv_target: 0.16850441759392523 std: 0.136867387605551\n",
    "adv_miss: 0.38979805434743564 std: 0.14420480270797625\n",
    "orig_acc: 0.7978155151009559 std: 0.19108580804592074\n",
    "\n",
    "\n",
    "# FedAvg-Adv alpha 0.4\n",
    "adv_target: 0.5430550843477249\n",
    "adv_miss: 0.09458083282224834\n",
    "orig_acc: 0.7466991424560547\n",
    "\n",
    "# FedEM-Adv  alpha 0.4\n",
    "adv_target: 0.1534333505406558\n",
    "adv_miss: 0.4020468255504966\n",
    "orig_acc: 0.7735754914581776\n",
    "\n",
    "\n",
    "\n",
    "# FedAvg-Adv alpha 0.8\n",
    "adv_target: 0.5938739329576492\n",
    "adv_miss: 0.07339839516207576\n",
    "orig_acc: 0.7010599702596665\n",
    "\n",
    "# FedEM-Adv  alpha 0.8\n",
    "adv_target: 0.20819682601290063\n",
    "adv_miss: 0.3786698496637818\n",
    "orig_acc: 0.7637230187654496\n",
    "\n",
    "\n",
    "\n",
    "# FedAvg-Adv alpha 2.0\n",
    "adv_target: 0.5817788578569889\n",
    "adv_miss: 0.08315178174525499\n",
    "orig_acc: 0.7333782404661179\n",
    "\n",
    "# FedEM-Adv  alpha 2.0\n",
    "adv_target: 0.1819088190782051\n",
    "adv_miss: 0.42157587496898113\n",
    "orig_acc: 0.7528680577874184\n",
    "\n",
    "FedAvg - 2.0 on 0.3 data\n",
    "adv_target: 0.5628091752529144 std: 0.09043334076515437\n",
    "adv_miss: 0.09541837330907584 std: 0.05715783845561477\n",
    "orig_acc: 0.7748728945851326 std: 0.08297373064819095\n",
    "FedEM\n",
    "adv_target: 0.17114145062290706 std: 0.16101574128395787\n",
    "adv_miss: 0.456793385794243 std: 0.20648898671099244\n",
    "orig_acc: 0.7510415032505989 std: 0.12495012373113988\n",
    "\n",
    "\n",
    "# FedAvg-Adv alpha 4.0\n",
    "adv_target: 0.6123089909553527\n",
    "adv_miss: 0.06908544534817337\n",
    "orig_acc: 0.7225247219204902\n",
    "\n",
    "# FedEM-Adv  alpha 4.0\n",
    "adv_target: 0.1867147811360132\n",
    "adv_miss: 0.42812133371018063\n",
    "orig_acc: 0.7376918777823448\n",
    "\n",
    "\n",
    "FedAvg 100\n",
    "adv_target: 0.5768649078905582\n",
    "adv_miss: 0.10636540781706572\n",
    "orig_acc: 0.642998968064785\n",
    "FedEM 100\n",
    "adv_target: 0.1775005243957425\n",
    "adv_miss: 0.4587957423037061\n",
    "orig_acc: 0.6728284642100334"
   ]
  },
  {
   "cell_type": "raw",
   "metadata": {},
   "source": [
    "# benign\n",
    "\n",
    "0.3\n",
    "FedAvg\n",
    "adv_target: 0.8482893109321594 std: 0.05460206805168148\n",
    "adv_miss: 0.0015232320060022176 std: 0.0035766083294083055\n",
    "orig_acc: 0.7592637583613395 std: 0.0815098888878239\n",
    "FedEM\n",
    "adv_target: 0.5200512574197581 std: 0.30416306615748584\n",
    "adv_miss: 0.10201904140203857 std: 0.10630284044692002\n",
    "orig_acc: 0.8251390188932419 std: 0.16988769899135506\n",
    "\n",
    "2.0\n",
    "FedAvg\n",
    "adv_target: 0.8724562212824821 std: 0.03579973543651294\n",
    "adv_miss: 0.007041806704364717 std: 0.0073304366005945\n",
    "orig_acc: 0.7656762793660163 std: 0.0398046106726384\n",
    "FedEM\n",
    "adv_target: 0.7012782787569822 std: 0.19173277025770158\n",
    "adv_miss: 0.037152295063387075 std: 0.05409642391653509\n",
    "orig_acc: 0.7991240739822387 std: 0.034170911025737626\n"
   ]
  },
  {
   "cell_type": "code",
   "execution_count": 21,
   "metadata": {},
   "outputs": [
    {
     "data": {
      "text/plain": [
       "Text(0.5, 1.0, 'CIFAR-10 Dataset Distribution Effect')"
      ]
     },
     "execution_count": 21,
     "metadata": {},
     "output_type": "execute_result"
    },
    {
     "name": "stderr",
     "output_type": "stream",
     "text": [
      "findfont: Font family ['normal'] not found. Falling back to DejaVu Sans.\n"
     ]
    },
    {
     "data": {
      "image/png": "[encoded data removed]",
      "text/plain": [
       "<Figure size 432x288 with 1 Axes>"
      ]
     },
     "metadata": {
      "needs_background": "light"
     },
     "output_type": "display_data"
    }
   ],
   "source": [
    "x = [0.3,0.4,0.8,2,4]\n",
    "\n",
    "orig_acc_fedavg_adv = [0.7251609608530998, 0.7466991424560547, 0.7010599702596665, 0.7333782404661179, 0.7225247219204902]\n",
    "adv_acc_fedavg_adv = [0.1200259300880134, 0.09458083282224834, 0.07339839516207576, 0.08315178174525499, 0.06908544534817337]\n",
    "\n",
    "orig_acc_fedem_adv = [0.7978655159473419, 0.7735754914581776, 0.7637230187654496, 0.7528680577874184, 0.7376918777823448]\n",
    "adv_acc_fedem_adv = [0.38947889905613964, 0.4020468255504966, 0.3786698496637818, 0.42157587496898113, 0.42812133371018063]\n",
    "\n",
    "y2 = [orig_acc_fedavg_adv, adv_acc_fedavg_adv]\n",
    "y1 = [orig_acc_fedem_adv, adv_acc_fedem_adv]\n",
    "\n",
    "font = {'family' : 'normal',\n",
    "        'weight' : 'normal',\n",
    "        'size'   : 15}\n",
    "\n",
    "plt.rc('font', **font)\n",
    "\n",
    "\n",
    "names1 = ['FedEM Test Acc.', 'FedEM Adv. Acc.']\n",
    "names2 = ['FedAvg Test Acc.', 'FedAvg Adv. Acc.']\n",
    "colors = ['b','r']\n",
    "types = ['-', '--']\n",
    "\n",
    "\n",
    "for i in range(len(names1)):\n",
    "    plt.plot(x,y1[i],label= names1[i], linestyle = types[i], color = colors[0])\n",
    "for i in range(len(names1)):\n",
    "    plt.plot(x,y2[i],label= names2[i], linestyle = types[i], color = colors[1])\n",
    "#     plt.plot(x,y2[i], linestyle = types[i], color = colors[1])\n",
    "\n",
    "plt.legend(frameon=True)\n",
    "plt.xlim(0.1,4.2);\n",
    "plt.ylim(0.3, 0.85);\n",
    "plt.xlabel('Data distribution parameter: '+r'$\\alpha$')\n",
    "plt.ylabel('Accuracy')\n",
    "plt.title(\"CIFAR-10 Dataset Distribution Effect\")\n"
   ]
  },
  {
   "cell_type": "code",
   "execution_count": 50,
   "metadata": {
    "scrolled": true
   },
   "outputs": [
    {
     "data": {
      "image/png": "[encoded data removed]",
      "text/plain": [
       "<Figure size 440x320 with 1 Axes>"
      ]
     },
     "metadata": {
      "needs_background": "light"
     },
     "output_type": "display_data"
    }
   ],
   "source": [
    "\n",
    "# Old\n",
    "# alpha_03 = [0.7978655159473419, 0.7251609608530998, 0.3947889905613964, 0.1200259300880134]\n",
    "# alpha_2 = [0.7376918777823448, 0.7225247219204902, 0.41812133371018063, 0.06908544534817337]\n",
    "\n",
    "# fedem_orig_acc = [0.7978655159473419, 0.7376918777823448]\n",
    "# fedadg_orig_acc = [0.7251609608530998, 0.7225247219204902]\n",
    "# fedem_adv_acc = [0.38947889905613964, 0.42812133371018063]\n",
    "# fedavg_adv_acc = [0.1200259300880134, 0.06908544534817337]\n",
    "\n",
    "# new\n",
    "alpha_03_b = [0.825, 0.759, 0.102, 0.00]\n",
    "alpha_2_b = [0.799, 0.765, 0.037, 0.00]\n",
    "\n",
    "alpha_03_a = [0.797, 0.724, 0.389, 0.119]\n",
    "alpha_2_a = [0.751, 0.774, 0.4567, 0.0954]\n",
    "\n",
    "alpha_03_b_std = [0.169, 0.0815, 0.106, 0.00]\n",
    "alpha_2_b_std = [0.034, 0.039, 0.054, 0.007]\n",
    "\n",
    "alpha_03_a_std = [0.191,0.079, 0.144, 0.056]\n",
    "alpha_2_a_std = [0.124, 0.082, 0.206, 0.057]\n",
    "\n",
    "# Set Labels\n",
    "labels = ['FedEM \\nTest Acc.', 'FedAvg \\nTest Acc.', 'FedEM \\nAdv. Acc', 'FedAvg \\nAdv. Acc']\n",
    "\n",
    "# plt.figure()\n",
    "\n",
    "x = np.arange(len(labels))  # the label locations\n",
    "width = 0.7  # the width of the bars\n",
    "\n",
    "\n",
    "fig, ax = plt.subplots(figsize=(5.5, 4), dpi=80)\n",
    "\n",
    "\n",
    "\n",
    "rects1 = ax.bar(x = x - width/8 + width/16, height =  alpha_03_b,\n",
    "                capsize = 3, width = width/8, label=r'$\\beta$:'+ \" 0.3\", color='orange')\n",
    "rects2 = ax.bar(x = x-width/4 + width/16, height = alpha_2_b, \n",
    "                capsize = 3, width = width/8, label=r'$\\beta$:'+ \" 2.0\", color = 'green')\n",
    "rects3 = ax.bar(x = x + width/4 - width/16, height =  alpha_03_a,\n",
    "                capsize = 3, width = width/8, label=r'$\\beta$:'+ \" 0.3\", color='orange')\n",
    "rects4 = ax.bar(x = x+width/8 - width/16, height = alpha_2_a, \n",
    "                capsize = 3, width = width/8, label=r'$\\beta$:'+ \" 2.0\", color = 'green')\n",
    "\n",
    "\n",
    "\n",
    "# Add some text for labels, title and custom x-axis tick labels, etc.\n",
    "ax.set_ylabel('Accuracy')\n",
    "ax.set_title('CIFAR-10 Dataset Distribution Effect')\n",
    "ax.set_xticks(x)\n",
    "# ax.set_xlabel('Plan Method')\n",
    "ax.set_xticklabels(labels)\n",
    "ax.legend()\n",
    "\n",
    "# Set Y axis to zero\n",
    "# plt.ylim(0,)\n",
    "\n",
    "fig.tight_layout()\n",
    "\n",
    "plt.show()"
   ]
  },
  {
   "cell_type": "code",
   "execution_count": 14,
   "metadata": {},
   "outputs": [
    {
     "data": {
      "text/plain": [
       "array([0, 1, 2, 3])"
      ]
     },
     "execution_count": 14,
     "metadata": {},
     "output_type": "execute_result"
    }
   ],
   "source": [
    "x"
   ]
  },
  {
   "cell_type": "raw",
   "metadata": {},
   "source": [
    "# Latency Cost Plot\n",
    "val = 3\n",
    "p_n_3 = [Batch_n_3[val], SG_n_3[val], Cloud_n_3[val], Myopic_n_3[val], Naive_n_3[val]]\n",
    "p_n = [Batch_n[val], SG_n[val], Cloud_n[val], Myopic_n[val], Naive_n[val]]\n",
    "p_n3 = [Batch_3n[val], SG_3n[val], Cloud_3n[val], Myopic_3n[val], Naive_3n[val]]\n",
    "\n",
    "# Set Font Size Limitations\n",
    "font = {'family' : 'normal',\n",
    "        'weight' : 'normal',\n",
    "        'size'   : 17}\n",
    "\n",
    "matplotlib.rc('font', **font)\n",
    "\n",
    "# Set Labels\n",
    "labels = ['Batch', 'SG', 'Cloud', 'Myopic', 'Naive']\n",
    "\n",
    "\n",
    "x = np.arange(len(labels))  # the label locations\n",
    "width = 0.6  # the width of the bars\n",
    "\n",
    "fig, ax = plt.subplots()\n",
    "rects1 = ax.bar(x = x - width/4, height =  p_n_3,\n",
    "                capsize = 3, width = width/4, label=\"Latency\", color='orange')\n",
    "rects2 = ax.bar(x = x, height = p_n, \n",
    "                capsize = 3, width = width/4, label=\"Normal\", color = 'green')\n",
    "rects5 = ax.bar(x = x+width/4, height = p_n3, \n",
    "                capsize = 3, width = width/4, label=\"Placement\", color = 'blue')\n",
    "\n",
    "# Add some text for labels, title and custom x-axis tick labels, etc.\n",
    "ax.set_ylabel('Monetary Cost (Dollars)')\n",
    "ax.set_title('Latency Costs Comparison')\n",
    "ax.set_xticks(x)\n",
    "ax.set_xlabel('Plan Method')\n",
    "ax.set_xticklabels(labels)\n",
    "ax.legend()\n",
    "\n",
    "# Set Y axis to zero\n",
    "plt.ylim(0,)\n",
    "\n",
    "fig.tight_layout()\n",
    "\n",
    "plt.show()"
   ]
  }
 ],
 "metadata": {
  "kernelspec": {
   "display_name": "FedEM_env",
   "language": "python",
   "name": "fedem_env"
  },
  "language_info": {
   "codemirror_mode": {
    "name": "ipython",
    "version": 3
   },
   "file_extension": ".py",
   "mimetype": "text/x-python",
   "name": "python",
   "nbconvert_exporter": "python",
   "pygments_lexer": "ipython3",
   "version": "3.9.6"
  }
 },
 "nbformat": 4,
 "nbformat_minor": 4
}
