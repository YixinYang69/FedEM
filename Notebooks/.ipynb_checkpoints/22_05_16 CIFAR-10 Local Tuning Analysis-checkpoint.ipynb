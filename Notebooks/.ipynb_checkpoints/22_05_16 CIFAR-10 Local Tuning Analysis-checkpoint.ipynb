{
 "cells": [
  {
   "cell_type": "code",
   "execution_count": 1,
   "metadata": {},
   "outputs": [
    {
     "name": "stdout",
     "output_type": "stream",
     "text": [
      "/home/ubuntu/FedEM\n"
     ]
    }
   ],
   "source": [
    "cd /home/ubuntu/FedEM/"
   ]
  },
  {
   "cell_type": "code",
   "execution_count": 2,
   "metadata": {},
   "outputs": [],
   "source": [
    "# Import General Libraries\n",
    "import os\n",
    "import argparse\n",
    "import torch\n",
    "import copy\n",
    "import pickle\n",
    "import random\n",
    "import numpy as np\n",
    "import pandas as pd\n",
    "\n",
    "# Import FedEM based Libraries\n",
    "from utils.utils import *\n",
    "from utils.constants import *\n",
    "from utils.args import *\n",
    "from run_experiment import *\n",
    "from models import *\n",
    "\n",
    "# Import Transfer Attack\n",
    "from transfer_attacks.Personalized_NN import *\n",
    "from transfer_attacks.Params import *\n",
    "from transfer_attacks.Transferer import *\n",
    "from transfer_attacks.Args import *\n",
    "from transfer_attacks.TA_utils import *\n",
    "from transfer_attacks.Boundary_Transferer import *"
   ]
  },
  {
   "cell_type": "code",
   "execution_count": 3,
   "metadata": {},
   "outputs": [
    {
     "name": "stdout",
     "output_type": "stream",
     "text": [
      "==> Clients initialization..\n",
      "===> Building data iterators..\n"
     ]
    },
    {
     "name": "stderr",
     "output_type": "stream",
     "text": [
      "100%|█████████████████████████████████████████████████████████████████████████████████████████████████████████████████████████████████████████████████████████████████████████████| 80/80 [00:00<00:00, 269.44it/s]\n"
     ]
    },
    {
     "name": "stdout",
     "output_type": "stream",
     "text": [
      "===> Initializing clients..\n"
     ]
    },
    {
     "name": "stderr",
     "output_type": "stream",
     "text": [
      "100%|██████████████████████████████████████████████████████████████████████████████████████████████████████████████████████████████████████████████████████████████████████████████| 80/80 [00:53<00:00,  1.49it/s]\n"
     ]
    },
    {
     "name": "stdout",
     "output_type": "stream",
     "text": [
      "==> Test Clients initialization..\n",
      "===> Building data iterators..\n"
     ]
    },
    {
     "name": "stderr",
     "output_type": "stream",
     "text": [
      "0it [00:00, ?it/s]\n"
     ]
    },
    {
     "name": "stdout",
     "output_type": "stream",
     "text": [
      "===> Initializing clients..\n"
     ]
    },
    {
     "name": "stderr",
     "output_type": "stream",
     "text": [
      "0it [00:00, ?it/s]\n"
     ]
    },
    {
     "name": "stdout",
     "output_type": "stream",
     "text": [
      "++++++++++++++++++++++++++++++\n",
      "Global..\n",
      "Train Loss: 2.292 | Train Acc: 12.195% |Test Loss: 2.292 | Test Acc: 12.291% |\n",
      "++++++++++++++++++++++++++++++++++++++++++++++++++\n",
      "################################################################################\n"
     ]
    }
   ],
   "source": [
    "# Manually set argument parameters\n",
    "args_ = Args()\n",
    "args_.experiment = \"cifar10\"\n",
    "args_.method = \"FedEM_adv\"\n",
    "args_.decentralized = False\n",
    "args_.sampling_rate = 1.0\n",
    "args_.input_dimension = None\n",
    "args_.output_dimension = None\n",
    "args_.n_learners= 3\n",
    "args_.n_rounds = 10\n",
    "args_.bz = 128\n",
    "args_.local_steps = 1\n",
    "args_.lr_lambda = 0\n",
    "args_.lr =0.03\n",
    "args_.lr_scheduler = 'multi_step'\n",
    "args_.log_freq = 10\n",
    "args_.device = 'cuda'\n",
    "args_.optimizer = 'sgd'\n",
    "args_.mu = 0\n",
    "args_.communication_probability = 0.1\n",
    "args_.q = 1\n",
    "args_.locally_tune_clients = False\n",
    "args_.seed = 1234\n",
    "args_.verbose = 1\n",
    "args_.save_path = 'weights/cifar/22_01_09_fedavg_n80_benign/'\n",
    "args_.validation = False\n",
    "args_.num_user = 40\n",
    "\n",
    "# Generate the dummy values here\n",
    "aggregator, clients = dummy_aggregator(args_, num_user=40)"
   ]
  },
  {
   "cell_type": "code",
   "execution_count": 4,
   "metadata": {},
   "outputs": [],
   "source": [
    "# Combine Validation Data across all clients as test\n",
    "data_x = []\n",
    "data_y = []\n",
    "\n",
    "for i in range(len(clients)):\n",
    "    daniloader = clients[i].val_iterator\n",
    "    for (x,y,idx) in daniloader.dataset:\n",
    "        data_x.append(x)\n",
    "        data_y.append(y)\n",
    "\n",
    "data_x = torch.stack(data_x)\n",
    "data_y = torch.stack(data_y)\n",
    "\n",
    "# Create dataloader from validation dataset that allows for diverse batch size\n",
    "dataloader = Custom_Dataloader(data_x, data_y)"
   ]
  },
  {
   "cell_type": "code",
   "execution_count": 58,
   "metadata": {},
   "outputs": [],
   "source": [
    "selection = 0\n",
    "name = ['fedavg', 'fedavg_adv', 'fedEM','fedEM_adv']\n",
    "exp_names = ['weights/neurips/cifar/local_tuning_03/' + name[selection]+'/']\n",
    "exp_modes = ['FedAvg','FedAvg','FedEM','FedEM']\n",
    "\n",
    "tunes= [0,5,10,20,30,40]\n",
    "\n",
    "train_item = 'train_client_weights.npy'"
   ]
  },
  {
   "cell_type": "code",
   "execution_count": 59,
   "metadata": {},
   "outputs": [],
   "source": [
    "num_victims = 25\n",
    "num_exp = len(tunes) + 1\n",
    "# Set Up Dictionaries -- list holds the adversary idx\n",
    "exp_logs = {}\n",
    "\n",
    "for j in range(num_exp):\n",
    "    logs_adv = []\n",
    "\n",
    "    for i in range(num_victims):\n",
    "        adv_dict = {}\n",
    "        adv_dict['orig_acc_transfers'] = None\n",
    "        adv_dict['orig_similarities'] = None\n",
    "        adv_dict['adv_acc_transfers'] = None\n",
    "        adv_dict['adv_similarities_target'] = None\n",
    "        adv_dict['adv_similarities_untarget'] = None\n",
    "        adv_dict['adv_target'] = None\n",
    "        adv_dict['adv_miss'] = None\n",
    "        adv_dict['metric_alignment'] = None\n",
    "        adv_dict['ib_distance_legit'] = None\n",
    "        adv_dict['ib_distance_adv'] = None\n",
    "        \n",
    "        logs_adv += [adv_dict]\n",
    "    \n",
    "    exp_logs[j] = copy.deepcopy(logs_adv)\n"
   ]
  },
  {
   "cell_type": "code",
   "execution_count": null,
   "metadata": {},
   "outputs": [
    {
     "name": "stdout",
     "output_type": "stream",
     "text": [
      "processing file weights/neurips/cifar/local_tuning_03/fedavg/ ...\n",
      "==> Clients initialization..\n",
      "===> Building data iterators..\n"
     ]
    },
    {
     "name": "stderr",
     "output_type": "stream",
     "text": [
      "100%|█████████████████████████████████████████████████████████████████████████████████████████████████████████████████████████████████████████████████████████████████████████████| 80/80 [00:00<00:00, 345.16it/s]\n"
     ]
    },
    {
     "name": "stdout",
     "output_type": "stream",
     "text": [
      "===> Initializing clients..\n"
     ]
    },
    {
     "name": "stderr",
     "output_type": "stream",
     "text": [
      "100%|██████████████████████████████████████████████████████████████████████████████████████████████████████████████████████████████████████████████████████████████████████████████| 80/80 [00:12<00:00,  6.49it/s]\n"
     ]
    },
    {
     "name": "stdout",
     "output_type": "stream",
     "text": [
      "==> Test Clients initialization..\n",
      "===> Building data iterators..\n"
     ]
    },
    {
     "name": "stderr",
     "output_type": "stream",
     "text": [
      "0it [00:00, ?it/s]\n"
     ]
    },
    {
     "name": "stdout",
     "output_type": "stream",
     "text": [
      "===> Initializing clients..\n"
     ]
    },
    {
     "name": "stderr",
     "output_type": "stream",
     "text": [
      "0it [00:00, ?it/s]\n"
     ]
    },
    {
     "name": "stdout",
     "output_type": "stream",
     "text": [
      "++++++++++++++++++++++++++++++\n",
      "Global..\n",
      "Train Loss: 2.297 | Train Acc: 10.823% |Test Loss: 2.298 | Test Acc: 10.893% |\n",
      "++++++++++++++++++++++++++++++++++++++++++++++++++\n",
      "################################################################################\n",
      "\t Adv idx: 0\n"
     ]
    }
   ],
   "source": [
    "j = 0\n",
    "# Inter Boundary Distance Metric\n",
    "custom_batch_size = 500\n",
    "\n",
    "print('processing file', exp_names[j], '...')\n",
    "setting = exp_modes[selection]\n",
    "\n",
    "if setting == 'FedAvg':\n",
    "\n",
    "    args_.method = 'FedAvg'\n",
    "    args_.n_learners= 1\n",
    "\n",
    "    aggregator, clients = dummy_aggregator(args_, num_user=40)\n",
    "\n",
    "    args_.save_path = exp_names[j]\n",
    "    aggregator.load_state(args_.save_path)\n",
    "\n",
    "    # This is where the models are stored -- one for each mixture --> learner.model for nn\n",
    "    hypotheses = aggregator.global_learners_ensemble.learners\n",
    "\n",
    "    # obtain the state dict for each of the weights \n",
    "    weights_h = []\n",
    "\n",
    "    for h in hypotheses:\n",
    "        weights_h += [h.model.state_dict()]\n",
    "\n",
    "    weight_name = args_.save_path + train_item\n",
    "    weights = np.load(weight_name)\n",
    "\n",
    "    # Set model weights\n",
    "    model_weights = []\n",
    "    num_models = num_victims\n",
    "\n",
    "    for i in range(num_models):\n",
    "        model_weights += [weights[i]]\n",
    "\n",
    "    # Generate the weights to test on as linear combinations of the model_weights\n",
    "    models_test = []\n",
    "\n",
    "    for (w0) in model_weights:\n",
    "        # first make the model with empty weights\n",
    "        new_model = copy.deepcopy(hypotheses[0].model)\n",
    "        new_model.eval()\n",
    "        new_weight_dict = copy.deepcopy(weights_h[0])\n",
    "        for key in weights_h[0]:\n",
    "            new_weight_dict[key] = w0[0]*weights_h[0][key]\n",
    "        new_model.load_state_dict(new_weight_dict)\n",
    "        models_test += [new_model]\n",
    "\n",
    "\n",
    "elif setting == 'FedEM':\n",
    "\n",
    "    args_.method = 'FedEM'\n",
    "    args_.n_learners= 3\n",
    "\n",
    "    aggregator, clients = dummy_aggregator(args_, num_user=40)\n",
    "\n",
    "    args_.save_path = exp_names[j]\n",
    "\n",
    "    aggregator.load_state(args_.save_path)\n",
    "\n",
    "    # This is where the models are stored -- one for each mixture --> learner.model for nn\n",
    "    hypotheses = aggregator.global_learners_ensemble.learners\n",
    "\n",
    "    # obtain the state dict for each of the weights \n",
    "    weights_h = []\n",
    "\n",
    "    for h in hypotheses:\n",
    "        weights_h += [h.model.state_dict()]\n",
    "\n",
    "    weight_name = args_.save_path + train_item\n",
    "    weights = np.load(weight_name)\n",
    "\n",
    "    # Set model weights\n",
    "    model_weights = []\n",
    "    num_models = num_victims\n",
    "\n",
    "    for i in range(num_models):\n",
    "        model_weights += [weights[i]]\n",
    "\n",
    "    # Generate the weights to test on as linear combinations of the model_weights\n",
    "    models_test = []\n",
    "\n",
    "    for (w0,w1,w2) in model_weights:\n",
    "        # first make the model with empty weights\n",
    "        new_model = copy.deepcopy(hypotheses[0].model)\n",
    "        new_model.eval()\n",
    "        new_weight_dict = copy.deepcopy(weights_h[0])\n",
    "        for key in weights_h[0]:\n",
    "            new_weight_dict[key] = w0*weights_h[0][key] + w1*weights_h[1][key] + w2*weights_h[2][key]\n",
    "        new_model.load_state_dict(new_weight_dict)\n",
    "        models_test += [new_model]    \n",
    "\n",
    "victim_idxs = range(num_victims)\n",
    "\n",
    "for adv_idx in victim_idxs:\n",
    "    print(\"\\t Adv idx:\", adv_idx)\n",
    "    # Perform Attacks\n",
    "    dataloader = load_client_data(clients = clients, c_id = adv_idx, mode = 'test') # or test/train\n",
    "    batch_size = min(custom_batch_size, dataloader.y_data.shape[0])\n",
    "\n",
    "    t1 = Transferer(models_list=models_test, dataloader=dataloader)\n",
    "    t1.generate_victims(victim_idxs)\n",
    "\n",
    "    t1.atk_params = PGD_Params()\n",
    "    t1.atk_params.set_params(batch_size=batch_size, iteration = 10,\n",
    "                   target = 3, x_val_min = torch.min(data_x), x_val_max = torch.max(data_x),\n",
    "                   step_size = 0.05, step_norm = \"inf\", eps = 4, eps_norm = 2)\n",
    "\n",
    "    t1.generate_advNN(adv_idx)\n",
    "    t1.generate_xadv(atk_type = \"pgd\")\n",
    "    t1.send_to_victims(victim_idxs)\n",
    "    # t1.check_empirical_metrics(orig_flag = True)\n",
    "\n",
    "    # Log Performance\n",
    "    exp_logs[j][adv_idx]['orig_acc_transfers'] = copy.deepcopy(t1.orig_acc_transfers)\n",
    "    exp_logs[j][adv_idx]['orig_similarities'] = copy.deepcopy(t1.orig_similarities)\n",
    "    exp_logs[j][adv_idx]['adv_acc_transfers'] = copy.deepcopy(t1.adv_acc_transfers)\n",
    "    exp_logs[j][adv_idx]['adv_similarities_target'] = copy.deepcopy(t1.adv_similarities)        \n",
    "    exp_logs[j][adv_idx]['adv_target'] = copy.deepcopy(t1.adv_target_hit)\n",
    "\n",
    "    # Miss attack\n",
    "    t1.atk_params.set_params(batch_size=batch_size, iteration = 10,\n",
    "                   target = -1, x_val_min = torch.min(data_x), x_val_max = torch.max(data_x),\n",
    "                   step_size = 0.05, step_norm = \"inf\", eps = 4, eps_norm = 2)\n",
    "    t1.generate_xadv(atk_type = \"pgd\")\n",
    "    t1.send_to_victims(victim_idxs)\n",
    "    exp_logs[j][adv_idx]['adv_miss'] = copy.deepcopy(t1.adv_acc_transfers)\n",
    "    exp_logs[j][adv_idx]['adv_similarities_untarget'] = copy.deepcopy(t1.adv_similarities)\n",
    "\n",
    "\n",
    "del models_test"
   ]
  },
  {
   "cell_type": "code",
   "execution_count": null,
   "metadata": {},
   "outputs": [],
   "source": [
    "for j in range(1, len(tunes)):\n",
    "    \n",
    "    print(\"\\nRunning Exp Tunes:\", j, \"out of\", len(tunes)-1)\n",
    "    \n",
    "    # load local model\n",
    "    aggregator.load_state_local(exp_names[0],tunes[j])\n",
    "    \n",
    "    # model_weights - this now exists from prior \n",
    "\n",
    "    # Generate the weights to test on as linear combinations of the model_weights\n",
    "    models_test = []\n",
    "\n",
    "    if setting == 'FedEM':\n",
    "        \n",
    "        client_idx = 0    \n",
    "        for (w0,w1,w2) in model_weights:\n",
    "            # first make the model with empty weights\n",
    "            hypotheses = aggregator.clients[client_idx].learners_ensemble.learners\n",
    "            \n",
    "             # obtain the state dict for each of the weights \n",
    "            weights_h = []\n",
    "\n",
    "            for h in hypotheses:\n",
    "                weights_h += [h.model.state_dict()]\n",
    "            \n",
    "            new_model = copy.deepcopy(hypotheses[0].model)\n",
    "            new_model.eval()\n",
    "            new_weight_dict = copy.deepcopy(weights_h[0])\n",
    "            for key in weights_h[0]:\n",
    "                new_weight_dict[key] = w0*weights_h[0][key] + w1*weights_h[1][key] + w2*weights_h[2][key]\n",
    "            new_model.load_state_dict(new_weight_dict)\n",
    "            models_test += [new_model] \n",
    "\n",
    "            client_idx += 1\n",
    "    \n",
    "    elif setting == 'FedAvg':\n",
    "        \n",
    "        client_idx = 0 \n",
    "        for (w0) in model_weights:\n",
    "            hypotheses = aggregator.clients[client_idx].learners_ensemble.learners\n",
    "            \n",
    "             # obtain the state dict for each of the weights \n",
    "            weights_h = []\n",
    "\n",
    "            for h in hypotheses:\n",
    "                weights_h += [h.model.state_dict()]\n",
    "            \n",
    "            # first make the model with empty weights\n",
    "            new_model = copy.deepcopy(hypotheses[0].model)\n",
    "            new_model.eval()\n",
    "            new_weight_dict = copy.deepcopy(weights_h[0])\n",
    "            for key in weights_h[0]:\n",
    "                new_weight_dict[key] = w0[0]*weights_h[0][key]\n",
    "            new_model.load_state_dict(new_weight_dict)\n",
    "            models_test += [new_model]\n",
    "            \n",
    "            client_idx += 1\n",
    "            \n",
    "    victim_idxs = range(num_victims)\n",
    "\n",
    "    for adv_idx in victim_idxs:\n",
    "        print(\"\\t Adv idx:\", adv_idx)\n",
    "        # Perform Attacks\n",
    "        dataloader = load_client_data(clients = clients, c_id = adv_idx, mode = 'test') # or test/train\n",
    "        batch_size = min(custom_batch_size, dataloader.y_data.shape[0])\n",
    "\n",
    "        t1 = Transferer(models_list=models_test, dataloader=dataloader)\n",
    "        t1.generate_victims(victim_idxs)\n",
    "\n",
    "        t1.atk_params = PGD_Params()\n",
    "        t1.atk_params.set_params(batch_size=batch_size, iteration = 10,\n",
    "                       target = 3, x_val_min = torch.min(data_x), x_val_max = torch.max(data_x),\n",
    "                       step_size = 0.05, step_norm = \"inf\", eps = 4, eps_norm = 2)\n",
    "\n",
    "        t1.generate_advNN(adv_idx)\n",
    "        t1.generate_xadv(atk_type = \"pgd\")\n",
    "        t1.send_to_victims(victim_idxs)\n",
    "        # t1.check_empirical_metrics(orig_flag = True)\n",
    "\n",
    "        # Log Performance\n",
    "        exp_logs[j][adv_idx]['orig_acc_transfers'] = copy.deepcopy(t1.orig_acc_transfers)\n",
    "        exp_logs[j][adv_idx]['orig_similarities'] = copy.deepcopy(t1.orig_similarities)\n",
    "        exp_logs[j][adv_idx]['adv_acc_transfers'] = copy.deepcopy(t1.adv_acc_transfers)\n",
    "        exp_logs[j][adv_idx]['adv_similarities_target'] = copy.deepcopy(t1.adv_similarities)        \n",
    "        exp_logs[j][adv_idx]['adv_target'] = copy.deepcopy(t1.adv_target_hit)\n",
    "\n",
    "        # Miss attack\n",
    "        t1.atk_params.set_params(batch_size=batch_size, iteration = 10,\n",
    "                       target = -1, x_val_min = torch.min(data_x), x_val_max = torch.max(data_x),\n",
    "                       step_size = 0.05, step_norm = \"inf\", eps = 4, eps_norm = 2)\n",
    "        t1.generate_xadv(atk_type = \"pgd\")\n",
    "        t1.send_to_victims(victim_idxs)\n",
    "        exp_logs[j][adv_idx]['adv_miss'] = copy.deepcopy(t1.adv_acc_transfers)\n",
    "        exp_logs[j][adv_idx]['adv_similarities_untarget'] = copy.deepcopy(t1.adv_similarities)\n",
    "\n",
    "\n",
    "    del models_test"
   ]
  },
  {
   "cell_type": "code",
   "execution_count": null,
   "metadata": {},
   "outputs": [],
   "source": [
    "metrics = ['orig_acc_transfers','orig_similarities','adv_acc_transfers','adv_similarities_target',\n",
    "           'adv_similarities_untarget','adv_target','adv_miss'] #,'metric_alignment']\n",
    "\n",
    "\n",
    "orig_acc = []\n",
    "orig_sim = []\n",
    "adv_acc = []\n",
    "adv_sim_target = []\n",
    "adv_sim_untarget = []\n",
    "adv_target = []\n",
    "adv_miss = []\n",
    "\n",
    "for i in range(len(tunes)):\n",
    "    victim_idxs = range(num_victims)\n",
    "    \n",
    "    orig_acc += [np.zeros([len(victim_idxs),len(victim_idxs)])]\n",
    "    orig_sim += [np.zeros([len(victim_idxs),len(victim_idxs)])]\n",
    "    adv_acc += [np.zeros([len(victim_idxs),len(victim_idxs)]) ]\n",
    "    adv_sim_target += [np.zeros([len(victim_idxs),len(victim_idxs)]) ]\n",
    "    adv_sim_untarget += [np.zeros([len(victim_idxs),len(victim_idxs)]) ]\n",
    "    adv_target += [np.zeros([len(victim_idxs),len(victim_idxs)])]\n",
    "    adv_miss += [np.zeros([len(victim_idxs),len(victim_idxs)]) ]\n",
    "    \n",
    "    for adv_idx in range(len(victim_idxs)):\n",
    "        for victim in range(len(victim_idxs)):\n",
    "            orig_acc[i][adv_idx,victim] = exp_logs[i][victim_idxs[adv_idx]][metrics[0]][victim_idxs[victim]].data.tolist()\n",
    "            orig_sim[i][adv_idx,victim] = exp_logs[i][victim_idxs[adv_idx]][metrics[1]][victim_idxs[victim]].data.tolist()\n",
    "            adv_acc[i][adv_idx,victim] = exp_logs[i][victim_idxs[adv_idx]][metrics[2]][victim_idxs[victim]].data.tolist()\n",
    "            adv_sim_target[i][adv_idx,victim] = exp_logs[i][victim_idxs[adv_idx]][metrics[3]][victim_idxs[victim]].data.tolist()\n",
    "            adv_sim_untarget[i][adv_idx,victim] = exp_logs[i][victim_idxs[adv_idx]][metrics[4]][victim_idxs[victim]].data.tolist()\n",
    "            adv_target[i][adv_idx,victim] = exp_logs[i][victim_idxs[adv_idx]][metrics[5]][victim_idxs[victim]].data.tolist()\n",
    "            adv_miss[i][adv_idx,victim] = exp_logs[i][victim_idxs[adv_idx]][metrics[6]][victim_idxs[victim]].data.tolist()"
   ]
  },
  {
   "cell_type": "code",
   "execution_count": null,
   "metadata": {},
   "outputs": [],
   "source": [
    "# Edit desired data\n",
    "x = tunes\n",
    "# Acc\n",
    "y_acc = []\n",
    "y_robust = []\n",
    "y_target = []\n",
    "\n",
    "y_acc_std = []\n",
    "y_robust_std = []\n",
    "y_target_std = []\n",
    "\n",
    "for i in range(len(tunes)):\n",
    "    y_acc += [np.mean(np.diagonal(orig_acc[i]))]\n",
    "    y_robust += [avg_nondiag(adv_miss[i])]\n",
    "    y_target += [avg_nondiag(adv_target[i])]\n",
    "    \n",
    "    y_acc_std += [np.std(orig_acc[i])]\n",
    "    y_robust_std += [np.std(adv_miss[i])]\n",
    "    y_target_std += [np.std(adv_target[i])]\n",
    "    \n",
    "print('y_acc', y_acc)\n",
    "print('y_robust', y_robust)\n",
    "print('y_target', y_target)\n",
    "\n",
    "print('y_accstd', y_acc_std)\n",
    "print('y_robuststd', y_robust_std)\n",
    "print('y_targetstd', y_target_std)\n",
    "\n",
    "y = [y_acc, y_robust, y_target]"
   ]
  },
  {
   "cell_type": "code",
   "execution_count": 55,
   "metadata": {},
   "outputs": [],
   "source": [
    "# Bad learning rate alpha = 0.01\n",
    "# FedAvg\n",
    "y_acc_fedavg = [0.7759524305661519, 0.7291629274686178, 0.7039053002993266, 0.7122286359469095, 0.7104225118954977]\n",
    "y_robust_fedavg = [0.00367321710412701, 0.08055228201583738, 0.19223911974667793, 0.23761653060625706, 0.24973058150637717]\n",
    "y_target_fedavg = [0.75438867410024, 0.3948804363253571, 0.24475289206020534, 0.19235339586489966, 0.17711720772841502]\n",
    "\n",
    "# std_acc_fedavg = [0.046451901353091414, 0.06770970711489004, 0.0729392457997499, 0.07788053655777073, 0.08240618793934032, 0.08543947125423353]\n",
    "# std_robust_fedavg = [0.0027679625569241666, 0.002845565597024808, 0.016305328089403295, 0.010137072819426425, 0.0051716226894147005, 0.008578576738116583]\n",
    "# std_target_fedavg = [0.06219245113237429, 0.07138078673537758, 0.07368986421834675, 0.13965118980369712, 0.14663591888779498, 0.1186909613610819]\n",
    "std_acc_fedavg = [0.046451901353091414, 0.06770970711489004, 0.0729392457997499, 0.07788053655777073, 0.08543947125423353]\n",
    "std_robust_fedavg = [0.0027679625569241666, 0.002845565597024808, 0.016305328089403295, 0.010137072819426425, 0.008578576738116583]\n",
    "std_target_fedavg = [0.06219245113237429, 0.07138078673537758, 0.07368986421834675, 0.13965118980369712, 0.1186909613610819]\n",
    "\n",
    "\n",
    "# FedAvg- Adv\n",
    "# y_acc_fedavg_adv = [0.7515561739603679, 0.7952017744382223, 0.7938427130381266, 0.7929713209470113, 0.7065970281759898]\n",
    "# y_robust_fedavg_adv = [0.1726070836186409, 0.2053508875625474, 0.22123815138779934, 0.23938029557466506, 0.389599847084]\n",
    "# y_target_fedavg_adv = [0.4110386868317922, 0.35708707925819216, 0.3233843540151914, 0.2935645662957714, 0.09727491667006342]\n",
    "\n",
    "y_acc_fedavg_adv = [0.7575816202163697, 0.8110862970352173, 0.8279608607292175, 0.8280265736579895, 0.8317008996009827, 0.8291340661048889]\n",
    "y_robust_fedavg_adv = [0.2621356379985809, 0.28919790356109537, 0.3041558703190337, 0.315389868405958, 0.32036962704733013, 0.32484849395851295]\n",
    "y_target_fedavg_adv = [0.324968678355217, 0.29481395214485623, 0.27213243586942554, 0.25433389875184126, 0.23405591753389066, 0.23022493643841396]\n",
    "\n",
    "# std_acc_fedavg_adv = [0.05230822717911711, 0.12320461366314994, 0.14228104791579646, 0.15762042255846784, 0.17587982055974818]\n",
    "# std_robust_fedavg_adv = [0.06128776966173811, 0.08964471028547051, 0.1045532479537106, 0.11273024725062078, 0.1235560151381172]\n",
    "# std_target_fedavg_adv = [0.10075187395799172, 0.15142756573668778, 0.16448876535333615, 0.1736551684420754, 0.17538980205916233]\n",
    "\n",
    "std_acc_fedavg_adv = [0.05230822717911711, 0.12320461366314994, 0.14228104791579646, 0.15762042255846784, 0.17117533966611473, 0.17587982055974818]\n",
    "std_robust_fedavg_adv = [0.06128776966173811, 0.08964471028547051, 0.1045532479537106, 0.11273024725062078, 0.1238070963330395, 0.1235560151381172]\n",
    "std_target_fedavg_adv = [0.10075187395799172, 0.15142756573668778, 0.16448876535333615, 0.1736551684420754, 0.1757227803438526, 0.17538980205916233]\n",
    "\n",
    "\n",
    "# FedEM\n",
    "y_acc_fedem = [0.7722717265288035, 0.7562055726846059, 0.762859332561493, 0.761041259765625, 0.7655805905659994]\n",
    "y_robust_fedem = [0.0522492538077821, 0.18729588588721108, 0.2313245390573966, 0.24343840520529225, 0.2451879919228283]\n",
    "y_target_fedem = [0.49059560970756516, 0.25791059803758243, 0.21236735042639548, 0.19793031866656852, 0.18422645021781284]\n",
    "\n",
    "# std_acc_fedem = [0.11018969788595015, 0.10284149687593828, 0.10180973748586113, 0.10161786227897071, 0.10242251456855184, 0.10525150205994076]\n",
    "# std_robust_fedem = [0.05120292442782499, 0.05619442311940309, 0.058010975711868945, 0.057189999130470424, 0.05613639136420067, 0.055865062891412555]\n",
    "# std_target_fedem = [0.26467385659713644, 0.25986771585834506, 0.26516827319593617, 0.2599362451330682, 0.2644602474018424, 0.2597012177488558]\n",
    "\n",
    "std_acc_fedem = [0.11018969788595015, 0.10284149687593828, 0.10180973748586113, 0.10161786227897071, 0.10525150205994076]\n",
    "std_robust_fedem = [0.05120292442782499, 0.05619442311940309, 0.058010975711868945, 0.057189999130470424, 0.055865062891412555]\n",
    "std_target_fedem = [0.26467385659713644, 0.25986771585834506, 0.26516827319593617, 0.2599362451330682, 0.2597012177488558]\n",
    "\n",
    "\n",
    "# FedEM - Adv\n",
    "# y_acc_fedem_adv = [0.7667379101117452, 0.7582960565884908, 0.7554788966973622, 0.7609592616558075, 0.7551505009333292]\n",
    "# y_robust_fedem_adv = [0.3074547937161278, 0.3337518439842281, 0.3375404459651795, 0.3410442241962635, 0.3462552427927075]\n",
    "# y_target_fedem_adv = [0.2127153437964661, 0.18047826879968246, 0.17367599169621994, 0.17415346957277505, 0.1681970478153263]\n",
    "\n",
    "y_acc_fedem_adv  =[0.784814202785492, 0.7907055473327637, 0.7931161999702454, 0.7957576513290405, 0.793544955253601, 0.7933079218864441]\n",
    "y_robust_fedem_adv =[0.3950925918047627, 0.41131138041615484, 0.4145790681367119, 0.41169829399635394, 0.40672679007053375, 0.4043341669688622]\n",
    "y_target_fedem_adv = [0.15312378746379787, 0.15353283130098133, 0.1487095224314059, 0.14598273868284498, 0.14785126963475098, 0.14734372293421377]\n",
    "\n",
    "# std_acc_fedem_adv = [0.14821825315264997, 0.14089471483233845, 0.14443493500086302, 0.15000199971610273, 0.16102799945263943]\n",
    "# std_robust_fedem_adv = [0.12200977990004429, 0.12422707671927304, 0.12780524417590905, 0.12937081975620476, 0.13370668154749651]\n",
    "# std_target_fedem_adv = [0.13522812788162256, 0.13549781533760588, 0.13479026895705132, 0.13669298459177945, 0.14223876956435982]\n",
    "\n",
    "std_acc_fedem_adv = [0.14821825315264997, 0.14089471483233845, 0.14443493500086302, 0.15000199971610273, 0.15728735446046585, 0.16102799945263943]\n",
    "std_robust_fedem_adv = [0.12200977990004429, 0.12422707671927304, 0.12780524417590905, 0.12937081975620476, 0.13135140139612853, 0.13370668154749651]\n",
    "std_target_fedem_adv = [0.13522812788162256, 0.13549781533760588, 0.13479026895705132, 0.13669298459177945, 0.14140704499877998, 0.14223876956435982]\n",
    "# "
   ]
  },
  {
   "cell_type": "raw",
   "metadata": {},
   "source": [
    "# good learning rate alpha = 0.03\n",
    "\n",
    "# FedAvg\n",
    "y_acc_adv = [0.8024801278114319, 0.8186887025833129, 0.8210506749153137, 0.823288996219635, 0.8198965668678284, 0.8216733336448669]\n",
    "y_robust_adv = [0.0007950695697218179, 0.0012871248670853674, 0.0017793513640450935, 0.001922127897463118, 0.0075089659898852305, 0.0033644884021487085]\n",
    "y_target_adv = [0.8632267022132873, 0.8430816975235939, 0.8194405988852183, 0.8014004723727703, 0.7917651545256377, 0.7954804705580075]\n",
    "\n",
    "std_acc_fedavg = [0.046451901353091414, 0.06770970711489004, 0.0729392457997499, 0.07788053655777073, 0.08240618793934032, 0.08543947125423353]\n",
    "std_robust_fedavg = [0.0027679625569241666, 0.002845565597024808, 0.016305328089403295, 0.010137072819426425, 0.0051716226894147005, 0.008578576738116583]\n",
    "std_target_fedavg = [0.06219245113237429, 0.07138078673537758, 0.07368986421834675, 0.13965118980369712, 0.14663591888779498, 0.1186909613610819]\n",
    "\n",
    "# FedAvg- Adv\n",
    "y_acc_fedavg_adv = [0.7575816202163697, 0.8110862970352173, 0.8279608607292175, 0.8280265736579895, 0.8317008996009827, 0.8291340661048889]\n",
    "y_robust_fedavg_adv = [0.2572894126176834, 0.2895713091051827, 0.30541275096746784, 0.3168506278221806, 0.3224578735853235, 0.32128035123149556]\n",
    "y_target_fedavg_adv = [0.32211459159851075, 0.29768765604744357, 0.2722936458311354, 0.2556447248952463, 0.23632479379031188, 0.2294849988538772]\n",
    "\n",
    "std_acc_fedavg_adv = [0.05230822717911711, 0.12320461366314994, 0.14228104791579646, 0.15762042255846784, 0.17117533966611473, 0.17587982055974818]\n",
    "std_robust_fedavg_adv = [0.06128776966173811, 0.08964471028547051, 0.1045532479537106, 0.11273024725062078, 0.1238070963330395, 0.1235560151381172]\n",
    "std_target_fedavg_adv = [0.10075187395799172, 0.15142756573668778, 0.16448876535333615, 0.1736551684420754, 0.1757227803438526, 0.17538980205916233]\n",
    "\n",
    "# FedEM\n",
    "y_acc_fedem = [0.8148318457603455, 0.7954144525527954, 0.7961630511283875, 0.795313184261322, 0.8019865679740906, 0.8023530721664429]\n",
    "y_robust_fedem = [0.050492657617433, 0.05100422718251745, 0.04902885494171642, 0.05150877342869838, 0.05182585363703159, 0.0536684966525839]\n",
    "y_target_fedem = [0.5113615378395965, 0.504413314483439, 0.49324169794097544, 0.4844644169261058, 0.48248182304203513, 0.48205477752412357]\n",
    "\n",
    "std_acc_fedem = [0.11018969788595015, 0.10284149687593828, 0.10180973748586113, 0.10161786227897071, 0.10242251456855184, 0.10525150205994076]\n",
    "std_robust_fedem = [0.05120292442782499, 0.05619442311940309, 0.058010975711868945, 0.057189999130470424, 0.05613639136420067, 0.055865062891412555]\n",
    "std_target_fedem = [0.26467385659713644, 0.25986771585834506, 0.26516827319593617, 0.2599362451330682, 0.2644602474018424, 0.2597012177488558]\n",
    "\n",
    "# FedEM - Adv\n",
    "y_acc_fedem_adv = [0.784814202785492, 0.7907055473327637, 0.7931161999702454, 0.7957576513290405, 0.793544955253601, 0.7933079218864441]\n",
    "y_robust_fedem_adv = [0.3953572372471293, 0.4109788759301106, 0.414312808526059, 0.41200502317398785, 0.4062586727490028, 0.4036345978081226]\n",
    "y_target_fedem_adv = [0.15368942537422603, 0.1531958175636828, 0.14770582878186056, 0.14684070435430233, 0.1481891633865113, 0.14700081620365382]\n",
    "\n",
    "std_acc_fedem_adv = [0.14821825315264997, 0.14089471483233845, 0.14443493500086302, 0.15000199971610273, 0.15728735446046585, 0.16102799945263943]\n",
    "std_robust_fedem_adv = [0.12200977990004429, 0.12422707671927304, 0.12780524417590905, 0.12937081975620476, 0.13135140139612853, 0.13370668154749651]\n",
    "std_target_fedem_adv = [0.13522812788162256, 0.13549781533760588, 0.13479026895705132, 0.13669298459177945, 0.14140704499877998, 0.14223876956435982]\n"
   ]
  },
  {
   "cell_type": "code",
   "execution_count": 57,
   "metadata": {},
   "outputs": [
    {
     "data": {
      "text/plain": [
       "Text(0.5, 1.0, 'CIFAR-10 Local Tuning Effect (Benign)')"
      ]
     },
     "execution_count": 57,
     "metadata": {},
     "output_type": "execute_result"
    },
    {
     "data": {
      "image/png": "[encoded data removed]",
      "text/plain": [
       "<Figure size 480x320 with 1 Axes>"
      ]
     },
     "metadata": {
      "needs_background": "light"
     },
     "output_type": "display_data"
    }
   ],
   "source": [
    "x = [0,5,10,20, 30, 40]\n",
    "\n",
    "y2 = [y_acc_fedavg_adv, y_robust_fedavg_adv]\n",
    "y1 = [y_acc_fedem_adv, y_robust_fedem_adv]\n",
    "\n",
    "y2_std = [std_acc_fedavg_adv, std_robust_fedavg_adv]\n",
    "y1_std = [std_acc_fedem_adv, std_robust_fedem_adv]\n",
    "\n",
    "font = {'family' : 'normal',\n",
    "        'weight' : 'normal',\n",
    "        'size'   : 14.5}\n",
    "\n",
    "plt.rc('font', **font)\n",
    "\n",
    "\n",
    "names1 = ['FedEM Test Acc.', 'FedEM Adv. Acc.']\n",
    "names2 = ['FedAvg Test Acc.', 'FedAvg Adv. Acc.']\n",
    "colors = ['b','r']\n",
    "types = ['-', '--']\n",
    "\n",
    "plt.figure(figsize=(6, 4), dpi=80)\n",
    "\n",
    "for i in range(len(names1)):\n",
    "    plt.errorbar(x,y1[i],y1_std[i], label= names1[i], linestyle = types[i], color = colors[0])\n",
    "for i in range(len(names1)):\n",
    "    plt.errorbar(x,y2[i],y2_std[i],label= names2[i], linestyle = types[i], color = colors[1])\n",
    "#     plt.plot(x,y2[i], linestyle = types[i], color = colors[1])\n",
    "\n",
    "plt.legend(frameon=True, loc = 'best', prop={'size':11})\n",
    "plt.xlim();\n",
    "# plt.ylim(0, 1.0);\n",
    "plt.xlabel('Number of Local Tuning Steps')\n",
    "plt.ylabel('Accuracy')\n",
    "plt.title(\"CIFAR-10 Local Tuning Effect (Benign)\")\n"
   ]
  },
  {
   "cell_type": "code",
   "execution_count": 8,
   "metadata": {},
   "outputs": [
    {
     "data": {
      "text/plain": [
       "Text(0.5, 1.0, 'CIFAR-10 Local Tuning Effect (Benign)')"
      ]
     },
     "execution_count": 8,
     "metadata": {},
     "output_type": "execute_result"
    },
    {
     "data": {
      "image/png": "[encoded data removed]",
      "text/plain": [
       "<Figure size 480x320 with 1 Axes>"
      ]
     },
     "metadata": {
      "needs_background": "light"
     },
     "output_type": "display_data"
    }
   ],
   "source": [
    "x = [0,5,10,20,40]\n",
    "\n",
    "y2 = [y_acc_fedavg, y_robust_fedavg]\n",
    "y1 = [y_acc_fedem, y_robust_fedem]\n",
    "\n",
    "font = {'family' : 'normal',\n",
    "        'weight' : 'normal',\n",
    "        'size'   : 14.5}\n",
    "\n",
    "plt.rc('font', **font)\n",
    "\n",
    "\n",
    "names1 = ['FedEM Test Acc.', 'FedEM Adv. Acc.']\n",
    "names2 = ['FedAvg Test Acc.', 'FedAvg Adv. Acc.']\n",
    "colors = ['b','r']\n",
    "types = ['-', '--']\n",
    "\n",
    "plt.figure(figsize=(6, 4), dpi=80)\n",
    "\n",
    "for i in range(len(names1)):\n",
    "    plt.plot(x,y1[i],label= names1[i], linestyle = types[i], color = colors[0])\n",
    "for i in range(len(names1)):\n",
    "    plt.plot(x,y2[i],label= names2[i], linestyle = types[i], color = colors[1])\n",
    "#     plt.plot(x,y2[i], linestyle = types[i], color = colors[1])\n",
    "\n",
    "plt.legend(frameon=True, loc = (0.05, 0.36))\n",
    "plt.xlim();\n",
    "# plt.ylim(0, 1.0);\n",
    "plt.xlabel('Number of Local Tuning Steps')\n",
    "plt.ylabel('Accuracy')\n",
    "plt.title(\"CIFAR-10 Local Tuning Effect (Benign)\")\n"
   ]
  },
  {
   "cell_type": "code",
   "execution_count": null,
   "metadata": {},
   "outputs": [],
   "source": []
  }
 ],
 "metadata": {
  "kernelspec": {
   "display_name": "FedEM_env",
   "language": "python",
   "name": "fedem_env"
  },
  "language_info": {
   "codemirror_mode": {
    "name": "ipython",
    "version": 3
   },
   "file_extension": ".py",
   "mimetype": "text/x-python",
   "name": "python",
   "nbconvert_exporter": "python",
   "pygments_lexer": "ipython3",
   "version": "3.9.6"
  }
 },
 "nbformat": 4,
 "nbformat_minor": 4
}
