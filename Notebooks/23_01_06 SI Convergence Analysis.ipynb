{
 "cells": [
  {
   "cell_type": "code",
   "execution_count": 1,
   "metadata": {},
   "outputs": [
    {
     "name": "stdout",
     "output_type": "stream",
     "text": [
      "/home/ubuntu/FedEM\n"
     ]
    }
   ],
   "source": [
    "cd /home/ubuntu/FedEM/"
   ]
  },
  {
   "cell_type": "code",
   "execution_count": 2,
   "metadata": {},
   "outputs": [],
   "source": [
    "# Import General Libraries\n",
    "import os\n",
    "import argparse\n",
    "import torch\n",
    "import copy\n",
    "import pickle\n",
    "import random\n",
    "import numpy as np\n",
    "import pandas as pd\n",
    "\n",
    "# Import FedEM based Libraries\n",
    "from utils.utils import *\n",
    "from utils.constants import *\n",
    "from utils.args import *\n",
    "from run_experiment import *\n",
    "from models import *\n",
    "\n",
    "# Import Transfer Attack\n",
    "from transfer_attacks.Personalized_NN import *\n",
    "from transfer_attacks.Params import *\n",
    "from transfer_attacks.Transferer import *\n",
    "from transfer_attacks.Args import *\n",
    "from transfer_attacks.TA_utils import *\n",
    "from transfer_attacks.Boundary_Transferer import *\n",
    "\n",
    "np.set_printoptions(formatter={'float': lambda x: \"{0:0.2f}\".format(x)})\n"
   ]
  },
  {
   "cell_type": "code",
   "execution_count": 3,
   "metadata": {},
   "outputs": [
    {
     "name": "stdout",
     "output_type": "stream",
     "text": [
      "==> Clients initialization..\n",
      "===> Building data iterators..\n"
     ]
    },
    {
     "name": "stderr",
     "output_type": "stream",
     "text": [
      "100%|██████████████████████████████████████████████████████████████████████████████████████████████████████████████████████████████████████| 80/80 [00:00<00:00, 160.21it/s]\n"
     ]
    },
    {
     "name": "stdout",
     "output_type": "stream",
     "text": [
      "===> Initializing clients..\n"
     ]
    },
    {
     "name": "stderr",
     "output_type": "stream",
     "text": [
      "100%|███████████████████████████████████████████████████████████████████████████████████████████████████████████████████████████████████████| 80/80 [00:40<00:00,  1.97it/s]\n"
     ]
    },
    {
     "name": "stdout",
     "output_type": "stream",
     "text": [
      "==> Test Clients initialization..\n",
      "===> Building data iterators..\n"
     ]
    },
    {
     "name": "stderr",
     "output_type": "stream",
     "text": [
      "0it [00:00, ?it/s]\n"
     ]
    },
    {
     "name": "stdout",
     "output_type": "stream",
     "text": [
      "===> Initializing clients..\n"
     ]
    },
    {
     "name": "stderr",
     "output_type": "stream",
     "text": [
      "0it [00:00, ?it/s]\n"
     ]
    },
    {
     "name": "stdout",
     "output_type": "stream",
     "text": [
      "++++++++++++++++++++++++++++++\n",
      "Global..\n",
      "Train Loss: 2.292 | Train Acc: 12.195% |Test Loss: 2.292 | Test Acc: 12.291% |\n",
      "++++++++++++++++++++++++++++++++++++++++++++++++++\n",
      "################################################################################\n"
     ]
    }
   ],
   "source": [
    "# Generating Empty Aggregator to be loaded \n",
    "\n",
    "setting = 'FedEM'\n",
    "\n",
    "if setting == 'FedEM':\n",
    "    nL = 3\n",
    "else:\n",
    "    nL = 1\n",
    "    \n",
    "# Manually set argument parameters\n",
    "args_ = Args()\n",
    "args_.experiment = \"cifar10\"\n",
    "args_.method = setting\n",
    "args_.decentralized = False\n",
    "args_.sampling_rate = 1.0\n",
    "args_.input_dimension = None\n",
    "args_.output_dimension = None\n",
    "args_.n_learners= nL\n",
    "args_.n_rounds = 10\n",
    "args_.bz = 128\n",
    "args_.local_steps = 1\n",
    "args_.lr_lambda = 0\n",
    "args_.lr =0.03\n",
    "args_.lr_scheduler = 'multi_step'\n",
    "args_.log_freq = 10\n",
    "args_.device = 'cuda'\n",
    "args_.optimizer = 'sgd'\n",
    "args_.mu = 0\n",
    "args_.communication_probability = 0.1\n",
    "args_.q = 1\n",
    "args_.locally_tune_clients = False\n",
    "args_.seed = 1234\n",
    "args_.verbose = 1\n",
    "args_.save_path = 'weights/cifar/dummy/'\n",
    "args_.validation = False\n",
    "\n",
    "# Generate the dummy values here\n",
    "try:\n",
    "    aggregator\n",
    "except:\n",
    "    aggregator, clients = dummy_aggregator(args_, num_user=40)\n",
    "\n",
    "try:\n",
    "    dataloader\n",
    "except:\n",
    "    # Compiling Dataset from Clients\n",
    "    # Combine Validation Data across all clients as test\n",
    "    data_x = []\n",
    "    data_y = []\n",
    "\n",
    "    for i in range(len(clients)):\n",
    "        daniloader = clients[i].test_iterator\n",
    "        for (x,y,idx) in daniloader.dataset:\n",
    "            data_x.append(x)\n",
    "            data_y.append(y)\n",
    "\n",
    "    data_x = torch.stack(data_x)\n",
    "    try:\n",
    "        data_y = torch.stack(data_y)        \n",
    "    except:\n",
    "        data_y = torch.FloatTensor(data_y) \n",
    "\n",
    "    dataloader = Custom_Dataloader(data_x, data_y)\n",
    "    global_dataloader = copy.deepcopy(dataloader)\n",
    "    \n",
    "# del aggregator, clients"
   ]
  },
  {
   "cell_type": "code",
   "execution_count": 13,
   "metadata": {},
   "outputs": [
    {
     "data": {
      "image/png": "[encoded data removed]",
      "text/plain": [
       "<Figure size 432x288 with 1 Axes>"
      ]
     },
     "metadata": {
      "needs_background": "light"
     },
     "output_type": "display_data"
    }
   ],
   "source": [
    "base_name1 = 'weights/SI/cifar10/23_01_05_SI_convergence/'\n",
    "base_name2 = 'weights/SI/cifar10/23_01_06_SI_convergence/'\n",
    "\n",
    "name_sub = ['FedEM/', 'FedEM_adv/']\n",
    "color = ['blue', 'orange']\n",
    "train_label = ['FedEM Train Acc.', 'pFedDef Train Acc.']\n",
    "test_label = ['FedEM Test Acc.', 'pFedDef Test Acc.']\n",
    "\n",
    "for i in range(len(name_sub)):\n",
    "    name = name_sub[i]\n",
    "    pickle_name = base_name1 + name + 'train_log.p'\n",
    "    with open(pickle_name,'rb') as handle:\n",
    "        b = pickle.load(handle)\n",
    "    \n",
    "    x = b['rounds']\n",
    "    y1 = b['train_acc']\n",
    "    y2 = b['test_acc']\n",
    "    \n",
    "    pickle_name = base_name2 + name + 'train_log.p'\n",
    "    with open(pickle_name,'rb') as handle:\n",
    "        b = pickle.load(handle)\n",
    "    \n",
    "    x = [x[0]] + b['rounds'][1:3] + x[1:]\n",
    "    y1 = [y1[0]] + b['train_acc'][1:3] + y1[1:]\n",
    "    y2 = [y2[0]] + b['test_acc'][1:3] + y2[1:]\n",
    "    \n",
    "    font = {'family' : 'normal',\n",
    "        'weight' : 'normal',\n",
    "        'size'   : 15}\n",
    "\n",
    "    plt.rc('font', **font)\n",
    "\n",
    "\n",
    "    plt.plot(x,y1, marker = 'o', color = color[i], label = train_label[i])\n",
    "    plt.plot(x,y2, marker = 'x', linestyle = '--', color = color[i], label = test_label[i])\n",
    "\n",
    "\n",
    "    plt.legend(frameon=True)\n",
    "    plt.xlabel('Round')\n",
    "    plt.ylabel('Acc.')\n",
    "    plt.title(\"CIFAR-10 Federated Convergence\")"
   ]
  }
 ],
 "metadata": {
  "kernelspec": {
   "display_name": "FedEM_env",
   "language": "python",
   "name": "fedem_env"
  },
  "language_info": {
   "codemirror_mode": {
    "name": "ipython",
    "version": 3
   },
   "file_extension": ".py",
   "mimetype": "text/x-python",
   "name": "python",
   "nbconvert_exporter": "python",
   "pygments_lexer": "ipython3",
   "version": "3.9.6"
  }
 },
 "nbformat": 4,
 "nbformat_minor": 4
}
