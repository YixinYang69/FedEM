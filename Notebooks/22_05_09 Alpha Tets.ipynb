{
 "cells": [
  {
   "cell_type": "code",
   "execution_count": 1,
   "metadata": {},
   "outputs": [],
   "source": [
    "import numpy as np"
   ]
  },
  {
   "cell_type": "code",
   "execution_count": 30,
   "metadata": {},
   "outputs": [
    {
     "data": {
      "text/plain": [
       "array([3, 2, 1, 0, 0, 0, 0, 1, 3, 0, 0, 0, 2, 3, 0, 2, 2, 0, 0, 4, 1, 1,\n",
       "       2, 1, 0, 2, 0, 6, 1, 4, 3, 1, 1, 1, 0, 2, 1, 1, 0, 0, 1, 0, 2, 1,\n",
       "       0, 1, 1, 2, 2, 0, 0, 0, 1, 3, 1, 4, 1, 1, 0, 3, 1, 0, 1, 1, 4, 1,\n",
       "       0, 5, 0, 0, 2, 0, 1, 2, 1, 0, 1, 2, 3, 0])"
      ]
     },
     "execution_count": 30,
     "metadata": {},
     "output_type": "execute_result"
    }
   ],
   "source": [
    "alpha = 2\n",
    "n_clients = 80\n",
    "weights = np.random.dirichlet(alpha=alpha * np.ones(n_clients))\n",
    "np.random.multinomial(100, weights)"
   ]
  },
  {
   "cell_type": "code",
   "execution_count": 7,
   "metadata": {},
   "outputs": [
    {
     "data": {
      "text/plain": [
       "0.9999999999999999"
      ]
     },
     "execution_count": 7,
     "metadata": {},
     "output_type": "execute_result"
    }
   ],
   "source": [
    "np.sum(weights)"
   ]
  },
  {
   "cell_type": "code",
   "execution_count": null,
   "metadata": {},
   "outputs": [],
   "source": []
  }
 ],
 "metadata": {
  "kernelspec": {
   "display_name": "Python 3",
   "language": "python",
   "name": "python3"
  },
  "language_info": {
   "codemirror_mode": {
    "name": "ipython",
    "version": 3
   },
   "file_extension": ".py",
   "mimetype": "text/x-python",
   "name": "python",
   "nbconvert_exporter": "python",
   "pygments_lexer": "ipython3",
   "version": "3.8.5"
  }
 },
 "nbformat": 4,
 "nbformat_minor": 4
}
