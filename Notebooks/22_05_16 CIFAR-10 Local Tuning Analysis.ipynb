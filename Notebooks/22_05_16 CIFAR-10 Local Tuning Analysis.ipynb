{
 "cells": [
  {
   "cell_type": "code",
   "execution_count": 5,
   "metadata": {},
   "outputs": [
    {
     "name": "stdout",
     "output_type": "stream",
     "text": [
      "/home/ubuntu/FedEM\n"
     ]
    }
   ],
   "source": [
    "cd /home/ubuntu/FedEM/"
   ]
  },
  {
   "cell_type": "code",
   "execution_count": 6,
   "metadata": {},
   "outputs": [],
   "source": [
    "# Import General Libraries\n",
    "import os\n",
    "import argparse\n",
    "import torch\n",
    "import copy\n",
    "import pickle\n",
    "import random\n",
    "import numpy as np\n",
    "import pandas as pd\n",
    "\n",
    "# Import FedEM based Libraries\n",
    "from utils.utils import *\n",
    "from utils.constants import *\n",
    "from utils.args import *\n",
    "from run_experiment import *\n",
    "from models import *\n",
    "\n",
    "# Import Transfer Attack\n",
    "from transfer_attacks.Personalized_NN import *\n",
    "from transfer_attacks.Params import *\n",
    "from transfer_attacks.Transferer import *\n",
    "from transfer_attacks.Args import *\n",
    "from transfer_attacks.TA_utils import *\n",
    "from transfer_attacks.Boundary_Transferer import *"
   ]
  },
  {
   "cell_type": "code",
   "execution_count": 3,
   "metadata": {},
   "outputs": [
    {
     "name": "stdout",
     "output_type": "stream",
     "text": [
      "==> Clients initialization..\n",
      "===> Building data iterators..\n"
     ]
    },
    {
     "name": "stderr",
     "output_type": "stream",
     "text": [
      "100%|██████████████████████████████████████████| 80/80 [00:00<00:00, 269.46it/s]\n"
     ]
    },
    {
     "name": "stdout",
     "output_type": "stream",
     "text": [
      "===> Initializing clients..\n"
     ]
    },
    {
     "name": "stderr",
     "output_type": "stream",
     "text": [
      "100%|███████████████████████████████████████████| 80/80 [00:54<00:00,  1.48it/s]\n"
     ]
    },
    {
     "name": "stdout",
     "output_type": "stream",
     "text": [
      "==> Test Clients initialization..\n",
      "===> Building data iterators..\n"
     ]
    },
    {
     "name": "stderr",
     "output_type": "stream",
     "text": [
      "0it [00:00, ?it/s]\n"
     ]
    },
    {
     "name": "stdout",
     "output_type": "stream",
     "text": [
      "===> Initializing clients..\n"
     ]
    },
    {
     "name": "stderr",
     "output_type": "stream",
     "text": [
      "0it [00:00, ?it/s]\n"
     ]
    },
    {
     "name": "stdout",
     "output_type": "stream",
     "text": [
      "++++++++++++++++++++++++++++++\n",
      "Global..\n",
      "Train Loss: 2.292 | Train Acc: 12.195% |Test Loss: 2.292 | Test Acc: 12.291% |\n",
      "++++++++++++++++++++++++++++++++++++++++++++++++++\n",
      "################################################################################\n"
     ]
    }
   ],
   "source": [
    "# Manually set argument parameters\n",
    "args_ = Args()\n",
    "args_.experiment = \"cifar10\"\n",
    "args_.method = \"FedEM_adv\"\n",
    "args_.decentralized = False\n",
    "args_.sampling_rate = 1.0\n",
    "args_.input_dimension = None\n",
    "args_.output_dimension = None\n",
    "args_.n_learners= 3\n",
    "args_.n_rounds = 10\n",
    "args_.bz = 128\n",
    "args_.local_steps = 1\n",
    "args_.lr_lambda = 0\n",
    "args_.lr =0.03\n",
    "args_.lr_scheduler = 'multi_step'\n",
    "args_.log_freq = 10\n",
    "args_.device = 'cuda'\n",
    "args_.optimizer = 'sgd'\n",
    "args_.mu = 0\n",
    "args_.communication_probability = 0.1\n",
    "args_.q = 1\n",
    "args_.locally_tune_clients = False\n",
    "args_.seed = 1234\n",
    "args_.verbose = 1\n",
    "args_.save_path = 'weights/cifar/22_01_09_fedavg_n80_benign/'\n",
    "args_.validation = False\n",
    "args_.num_user = 40\n",
    "\n",
    "# Generate the dummy values here\n",
    "aggregator, clients = dummy_aggregator(args_, num_user=40)"
   ]
  },
  {
   "cell_type": "code",
   "execution_count": 4,
   "metadata": {},
   "outputs": [],
   "source": [
    "# Combine Validation Data across all clients as test\n",
    "data_x = []\n",
    "data_y = []\n",
    "\n",
    "for i in range(len(clients)):\n",
    "    daniloader = clients[i].val_iterator\n",
    "    for (x,y,idx) in daniloader.dataset:\n",
    "        data_x.append(x)\n",
    "        data_y.append(y)\n",
    "\n",
    "data_x = torch.stack(data_x)\n",
    "data_y = torch.stack(data_y)\n",
    "\n",
    "# Create dataloader from validation dataset that allows for diverse batch size\n",
    "dataloader = Custom_Dataloader(data_x, data_y)"
   ]
  },
  {
   "cell_type": "code",
   "execution_count": 61,
   "metadata": {},
   "outputs": [],
   "source": [
    "selection = 3\n",
    "name = ['fedavg', 'fedavg_adv', 'fedEM','fedEM_adv']\n",
    "exp_names = ['weights/neurips/cifar/local_tuning/' + name[selection]+'/']\n",
    "exp_modes = ['FedAvg','FedAvg','FedEM','FedEM']\n",
    "\n",
    "tunes= [0,5,10,20,40]\n",
    "\n",
    "train_item = 'train_client_weights.npy'"
   ]
  },
  {
   "cell_type": "code",
   "execution_count": 62,
   "metadata": {},
   "outputs": [],
   "source": [
    "num_victims = 30\n",
    "num_exp = len(tunes) + 1\n",
    "# Set Up Dictionaries -- list holds the adversary idx\n",
    "exp_logs = {}\n",
    "\n",
    "for j in range(num_exp):\n",
    "    logs_adv = []\n",
    "\n",
    "    for i in range(num_victims):\n",
    "        adv_dict = {}\n",
    "        adv_dict['orig_acc_transfers'] = None\n",
    "        adv_dict['orig_similarities'] = None\n",
    "        adv_dict['adv_acc_transfers'] = None\n",
    "        adv_dict['adv_similarities_target'] = None\n",
    "        adv_dict['adv_similarities_untarget'] = None\n",
    "        adv_dict['adv_target'] = None\n",
    "        adv_dict['adv_miss'] = None\n",
    "        adv_dict['metric_alignment'] = None\n",
    "        adv_dict['ib_distance_legit'] = None\n",
    "        adv_dict['ib_distance_adv'] = None\n",
    "        \n",
    "        logs_adv += [adv_dict]\n",
    "    \n",
    "    exp_logs[j] = copy.deepcopy(logs_adv)\n"
   ]
  },
  {
   "cell_type": "code",
   "execution_count": 63,
   "metadata": {},
   "outputs": [
    {
     "name": "stdout",
     "output_type": "stream",
     "text": [
      "processing file weights/neurips/cifar/local_tuning/fedEM_adv/ ...\n",
      "==> Clients initialization..\n",
      "===> Building data iterators..\n"
     ]
    },
    {
     "name": "stderr",
     "output_type": "stream",
     "text": [
      "100%|██████████████████████████████████████████| 80/80 [00:00<00:00, 344.64it/s]\n"
     ]
    },
    {
     "name": "stdout",
     "output_type": "stream",
     "text": [
      "===> Initializing clients..\n"
     ]
    },
    {
     "name": "stderr",
     "output_type": "stream",
     "text": [
      "100%|███████████████████████████████████████████| 80/80 [00:36<00:00,  2.21it/s]\n"
     ]
    },
    {
     "name": "stdout",
     "output_type": "stream",
     "text": [
      "==> Test Clients initialization..\n",
      "===> Building data iterators..\n"
     ]
    },
    {
     "name": "stderr",
     "output_type": "stream",
     "text": [
      "0it [00:00, ?it/s]\n"
     ]
    },
    {
     "name": "stdout",
     "output_type": "stream",
     "text": [
      "===> Initializing clients..\n"
     ]
    },
    {
     "name": "stderr",
     "output_type": "stream",
     "text": [
      "0it [00:00, ?it/s]\n"
     ]
    },
    {
     "name": "stdout",
     "output_type": "stream",
     "text": [
      "++++++++++++++++++++++++++++++\n",
      "Global..\n",
      "Train Loss: 2.292 | Train Acc: 12.195% |Test Loss: 2.292 | Test Acc: 12.291% |\n",
      "++++++++++++++++++++++++++++++++++++++++++++++++++\n",
      "################################################################################\n",
      "\t Adv idx: 0\n",
      "\t Adv idx: 1\n",
      "\t Adv idx: 2\n",
      "\t Adv idx: 3\n",
      "\t Adv idx: 4\n",
      "\t Adv idx: 5\n",
      "\t Adv idx: 6\n",
      "\t Adv idx: 7\n",
      "\t Adv idx: 8\n",
      "\t Adv idx: 9\n",
      "\t Adv idx: 10\n",
      "\t Adv idx: 11\n",
      "\t Adv idx: 12\n",
      "\t Adv idx: 13\n",
      "\t Adv idx: 14\n",
      "\t Adv idx: 15\n",
      "\t Adv idx: 16\n",
      "\t Adv idx: 17\n",
      "\t Adv idx: 18\n",
      "\t Adv idx: 19\n",
      "\t Adv idx: 20\n",
      "\t Adv idx: 21\n",
      "\t Adv idx: 22\n",
      "\t Adv idx: 23\n",
      "\t Adv idx: 24\n",
      "\t Adv idx: 25\n",
      "\t Adv idx: 26\n",
      "\t Adv idx: 27\n",
      "\t Adv idx: 28\n",
      "\t Adv idx: 29\n"
     ]
    }
   ],
   "source": [
    "j = 0\n",
    "# Inter Boundary Distance Metric\n",
    "custom_batch_size = 500\n",
    "\n",
    "print('processing file', exp_names[j], '...')\n",
    "setting = exp_modes[selection]\n",
    "\n",
    "if setting == 'FedAvg':\n",
    "\n",
    "    args_.method = 'FedAvg'\n",
    "    args_.n_learners= 1\n",
    "\n",
    "    aggregator, clients = dummy_aggregator(args_, num_user=40)\n",
    "\n",
    "    args_.save_path = exp_names[j]\n",
    "    aggregator.load_state(args_.save_path)\n",
    "\n",
    "    # This is where the models are stored -- one for each mixture --> learner.model for nn\n",
    "    hypotheses = aggregator.global_learners_ensemble.learners\n",
    "\n",
    "    # obtain the state dict for each of the weights \n",
    "    weights_h = []\n",
    "\n",
    "    for h in hypotheses:\n",
    "        weights_h += [h.model.state_dict()]\n",
    "\n",
    "    weight_name = args_.save_path + train_item\n",
    "    weights = np.load(weight_name)\n",
    "\n",
    "    # Set model weights\n",
    "    model_weights = []\n",
    "    num_models = num_victims\n",
    "\n",
    "    for i in range(num_models):\n",
    "        model_weights += [weights[i]]\n",
    "\n",
    "    # Generate the weights to test on as linear combinations of the model_weights\n",
    "    models_test = []\n",
    "\n",
    "    for (w0) in model_weights:\n",
    "        # first make the model with empty weights\n",
    "        new_model = copy.deepcopy(hypotheses[0].model)\n",
    "        new_model.eval()\n",
    "        new_weight_dict = copy.deepcopy(weights_h[0])\n",
    "        for key in weights_h[0]:\n",
    "            new_weight_dict[key] = w0[0]*weights_h[0][key]\n",
    "        new_model.load_state_dict(new_weight_dict)\n",
    "        models_test += [new_model]\n",
    "\n",
    "\n",
    "elif setting == 'FedEM':\n",
    "\n",
    "    args_.method = 'FedEM'\n",
    "    args_.n_learners= 3\n",
    "\n",
    "    aggregator, clients = dummy_aggregator(args_, num_user=40)\n",
    "\n",
    "    args_.save_path = exp_names[j]\n",
    "\n",
    "    aggregator.load_state(args_.save_path)\n",
    "\n",
    "    # This is where the models are stored -- one for each mixture --> learner.model for nn\n",
    "    hypotheses = aggregator.global_learners_ensemble.learners\n",
    "\n",
    "    # obtain the state dict for each of the weights \n",
    "    weights_h = []\n",
    "\n",
    "    for h in hypotheses:\n",
    "        weights_h += [h.model.state_dict()]\n",
    "\n",
    "    weight_name = args_.save_path + train_item\n",
    "    weights = np.load(weight_name)\n",
    "\n",
    "    # Set model weights\n",
    "    model_weights = []\n",
    "    num_models = num_victims\n",
    "\n",
    "    for i in range(num_models):\n",
    "        model_weights += [weights[i]]\n",
    "\n",
    "    # Generate the weights to test on as linear combinations of the model_weights\n",
    "    models_test = []\n",
    "\n",
    "    for (w0,w1,w2) in model_weights:\n",
    "        # first make the model with empty weights\n",
    "        new_model = copy.deepcopy(hypotheses[0].model)\n",
    "        new_model.eval()\n",
    "        new_weight_dict = copy.deepcopy(weights_h[0])\n",
    "        for key in weights_h[0]:\n",
    "            new_weight_dict[key] = w0*weights_h[0][key] + w1*weights_h[1][key] + w2*weights_h[2][key]\n",
    "        new_model.load_state_dict(new_weight_dict)\n",
    "        models_test += [new_model]    \n",
    "\n",
    "victim_idxs = range(num_victims)\n",
    "\n",
    "for adv_idx in victim_idxs:\n",
    "    print(\"\\t Adv idx:\", adv_idx)\n",
    "    # Perform Attacks\n",
    "    dataloader = load_client_data(clients = clients, c_id = adv_idx, mode = 'test') # or test/train\n",
    "    batch_size = min(custom_batch_size, dataloader.y_data.shape[0])\n",
    "\n",
    "    t1 = Transferer(models_list=models_test, dataloader=dataloader)\n",
    "    t1.generate_victims(victim_idxs)\n",
    "\n",
    "    t1.atk_params = PGD_Params()\n",
    "    t1.atk_params.set_params(batch_size=batch_size, iteration = 10,\n",
    "                   target = 3, x_val_min = torch.min(data_x), x_val_max = torch.max(data_x),\n",
    "                   step_size = 0.05, step_norm = \"inf\", eps = 4, eps_norm = 2)\n",
    "\n",
    "    t1.generate_advNN(adv_idx)\n",
    "    t1.generate_xadv(atk_type = \"pgd\")\n",
    "    t1.send_to_victims(victim_idxs)\n",
    "    # t1.check_empirical_metrics(orig_flag = True)\n",
    "\n",
    "    # Log Performance\n",
    "    exp_logs[j][adv_idx]['orig_acc_transfers'] = copy.deepcopy(t1.orig_acc_transfers)\n",
    "    exp_logs[j][adv_idx]['orig_similarities'] = copy.deepcopy(t1.orig_similarities)\n",
    "    exp_logs[j][adv_idx]['adv_acc_transfers'] = copy.deepcopy(t1.adv_acc_transfers)\n",
    "    exp_logs[j][adv_idx]['adv_similarities_target'] = copy.deepcopy(t1.adv_similarities)        \n",
    "    exp_logs[j][adv_idx]['adv_target'] = copy.deepcopy(t1.adv_target_hit)\n",
    "\n",
    "    # Miss attack\n",
    "    t1.atk_params.set_params(batch_size=batch_size, iteration = 10,\n",
    "                   target = -1, x_val_min = torch.min(data_x), x_val_max = torch.max(data_x),\n",
    "                   step_size = 0.05, step_norm = \"inf\", eps = 4, eps_norm = 2)\n",
    "    t1.generate_xadv(atk_type = \"pgd\")\n",
    "    t1.send_to_victims(victim_idxs)\n",
    "    exp_logs[j][adv_idx]['adv_miss'] = copy.deepcopy(t1.adv_acc_transfers)\n",
    "    exp_logs[j][adv_idx]['adv_similarities_untarget'] = copy.deepcopy(t1.adv_similarities)\n",
    "\n",
    "\n",
    "del models_test"
   ]
  },
  {
   "cell_type": "code",
   "execution_count": 64,
   "metadata": {},
   "outputs": [
    {
     "name": "stdout",
     "output_type": "stream",
     "text": [
      "\n",
      "Running Exp Tunes: 1 out of 4\n",
      "\t Adv idx: 0\n",
      "\t Adv idx: 1\n",
      "\t Adv idx: 2\n",
      "\t Adv idx: 3\n",
      "\t Adv idx: 4\n",
      "\t Adv idx: 5\n",
      "\t Adv idx: 6\n",
      "\t Adv idx: 7\n",
      "\t Adv idx: 8\n",
      "\t Adv idx: 9\n",
      "\t Adv idx: 10\n",
      "\t Adv idx: 11\n",
      "\t Adv idx: 12\n",
      "\t Adv idx: 13\n",
      "\t Adv idx: 14\n",
      "\t Adv idx: 15\n",
      "\t Adv idx: 16\n",
      "\t Adv idx: 17\n",
      "\t Adv idx: 18\n",
      "\t Adv idx: 19\n",
      "\t Adv idx: 20\n",
      "\t Adv idx: 21\n",
      "\t Adv idx: 22\n",
      "\t Adv idx: 23\n",
      "\t Adv idx: 24\n",
      "\t Adv idx: 25\n",
      "\t Adv idx: 26\n",
      "\t Adv idx: 27\n",
      "\t Adv idx: 28\n",
      "\t Adv idx: 29\n",
      "\n",
      "Running Exp Tunes: 2 out of 4\n",
      "\t Adv idx: 0\n",
      "\t Adv idx: 1\n",
      "\t Adv idx: 2\n",
      "\t Adv idx: 3\n",
      "\t Adv idx: 4\n",
      "\t Adv idx: 5\n",
      "\t Adv idx: 6\n",
      "\t Adv idx: 7\n",
      "\t Adv idx: 8\n",
      "\t Adv idx: 9\n",
      "\t Adv idx: 10\n",
      "\t Adv idx: 11\n",
      "\t Adv idx: 12\n",
      "\t Adv idx: 13\n",
      "\t Adv idx: 14\n",
      "\t Adv idx: 15\n",
      "\t Adv idx: 16\n",
      "\t Adv idx: 17\n",
      "\t Adv idx: 18\n",
      "\t Adv idx: 19\n",
      "\t Adv idx: 20\n",
      "\t Adv idx: 21\n",
      "\t Adv idx: 22\n",
      "\t Adv idx: 23\n",
      "\t Adv idx: 24\n",
      "\t Adv idx: 25\n",
      "\t Adv idx: 26\n",
      "\t Adv idx: 27\n",
      "\t Adv idx: 28\n",
      "\t Adv idx: 29\n",
      "\n",
      "Running Exp Tunes: 3 out of 4\n",
      "\t Adv idx: 0\n",
      "\t Adv idx: 1\n",
      "\t Adv idx: 2\n",
      "\t Adv idx: 3\n",
      "\t Adv idx: 4\n",
      "\t Adv idx: 5\n",
      "\t Adv idx: 6\n",
      "\t Adv idx: 7\n",
      "\t Adv idx: 8\n",
      "\t Adv idx: 9\n",
      "\t Adv idx: 10\n",
      "\t Adv idx: 11\n",
      "\t Adv idx: 12\n",
      "\t Adv idx: 13\n",
      "\t Adv idx: 14\n",
      "\t Adv idx: 15\n",
      "\t Adv idx: 16\n",
      "\t Adv idx: 17\n",
      "\t Adv idx: 18\n",
      "\t Adv idx: 19\n",
      "\t Adv idx: 20\n",
      "\t Adv idx: 21\n",
      "\t Adv idx: 22\n",
      "\t Adv idx: 23\n",
      "\t Adv idx: 24\n",
      "\t Adv idx: 25\n",
      "\t Adv idx: 26\n",
      "\t Adv idx: 27\n",
      "\t Adv idx: 28\n",
      "\t Adv idx: 29\n",
      "\n",
      "Running Exp Tunes: 4 out of 4\n",
      "\t Adv idx: 0\n",
      "\t Adv idx: 1\n",
      "\t Adv idx: 2\n",
      "\t Adv idx: 3\n",
      "\t Adv idx: 4\n",
      "\t Adv idx: 5\n",
      "\t Adv idx: 6\n",
      "\t Adv idx: 7\n",
      "\t Adv idx: 8\n",
      "\t Adv idx: 9\n",
      "\t Adv idx: 10\n",
      "\t Adv idx: 11\n",
      "\t Adv idx: 12\n",
      "\t Adv idx: 13\n",
      "\t Adv idx: 14\n",
      "\t Adv idx: 15\n",
      "\t Adv idx: 16\n",
      "\t Adv idx: 17\n",
      "\t Adv idx: 18\n",
      "\t Adv idx: 19\n",
      "\t Adv idx: 20\n",
      "\t Adv idx: 21\n",
      "\t Adv idx: 22\n",
      "\t Adv idx: 23\n",
      "\t Adv idx: 24\n",
      "\t Adv idx: 25\n",
      "\t Adv idx: 26\n",
      "\t Adv idx: 27\n",
      "\t Adv idx: 28\n",
      "\t Adv idx: 29\n"
     ]
    }
   ],
   "source": [
    "for j in range(1, len(tunes)):\n",
    "    \n",
    "    print(\"\\nRunning Exp Tunes:\", j, \"out of\", len(tunes)-1)\n",
    "    \n",
    "    # load local model\n",
    "    aggregator.load_state_local(exp_names[0],tunes[j])\n",
    "    \n",
    "    # model_weights - this now exists from prior \n",
    "\n",
    "    # Generate the weights to test on as linear combinations of the model_weights\n",
    "    models_test = []\n",
    "\n",
    "    if setting == 'FedEM':\n",
    "        \n",
    "        client_idx = 0    \n",
    "        for (w0,w1,w2) in model_weights:\n",
    "            # first make the model with empty weights\n",
    "            hypotheses = aggregator.clients[client_idx].learners_ensemble.learners\n",
    "            \n",
    "             # obtain the state dict for each of the weights \n",
    "            weights_h = []\n",
    "\n",
    "            for h in hypotheses:\n",
    "                weights_h += [h.model.state_dict()]\n",
    "            \n",
    "            new_model = copy.deepcopy(hypotheses[0].model)\n",
    "            new_model.eval()\n",
    "            new_weight_dict = copy.deepcopy(weights_h[0])\n",
    "            for key in weights_h[0]:\n",
    "                new_weight_dict[key] = w0*weights_h[0][key] + w1*weights_h[1][key] + w2*weights_h[2][key]\n",
    "            new_model.load_state_dict(new_weight_dict)\n",
    "            models_test += [new_model] \n",
    "\n",
    "            client_idx += 1\n",
    "    \n",
    "    elif setting == 'FedAvg':\n",
    "        \n",
    "        client_idx = 0 \n",
    "        for (w0) in model_weights:\n",
    "            hypotheses = aggregator.clients[client_idx].learners_ensemble.learners\n",
    "            \n",
    "             # obtain the state dict for each of the weights \n",
    "            weights_h = []\n",
    "\n",
    "            for h in hypotheses:\n",
    "                weights_h += [h.model.state_dict()]\n",
    "            \n",
    "            # first make the model with empty weights\n",
    "            new_model = copy.deepcopy(hypotheses[0].model)\n",
    "            new_model.eval()\n",
    "            new_weight_dict = copy.deepcopy(weights_h[0])\n",
    "            for key in weights_h[0]:\n",
    "                new_weight_dict[key] = w0[0]*weights_h[0][key]\n",
    "            new_model.load_state_dict(new_weight_dict)\n",
    "            models_test += [new_model]\n",
    "            \n",
    "            client_idx += 1\n",
    "            \n",
    "    victim_idxs = range(num_victims)\n",
    "\n",
    "    for adv_idx in victim_idxs:\n",
    "        print(\"\\t Adv idx:\", adv_idx)\n",
    "        # Perform Attacks\n",
    "        dataloader = load_client_data(clients = clients, c_id = adv_idx, mode = 'test') # or test/train\n",
    "        batch_size = min(custom_batch_size, dataloader.y_data.shape[0])\n",
    "\n",
    "        t1 = Transferer(models_list=models_test, dataloader=dataloader)\n",
    "        t1.generate_victims(victim_idxs)\n",
    "\n",
    "        t1.atk_params = PGD_Params()\n",
    "        t1.atk_params.set_params(batch_size=batch_size, iteration = 10,\n",
    "                       target = 3, x_val_min = torch.min(data_x), x_val_max = torch.max(data_x),\n",
    "                       step_size = 0.05, step_norm = \"inf\", eps = 4, eps_norm = 2)\n",
    "\n",
    "        t1.generate_advNN(adv_idx)\n",
    "        t1.generate_xadv(atk_type = \"pgd\")\n",
    "        t1.send_to_victims(victim_idxs)\n",
    "        # t1.check_empirical_metrics(orig_flag = True)\n",
    "\n",
    "        # Log Performance\n",
    "        exp_logs[j][adv_idx]['orig_acc_transfers'] = copy.deepcopy(t1.orig_acc_transfers)\n",
    "        exp_logs[j][adv_idx]['orig_similarities'] = copy.deepcopy(t1.orig_similarities)\n",
    "        exp_logs[j][adv_idx]['adv_acc_transfers'] = copy.deepcopy(t1.adv_acc_transfers)\n",
    "        exp_logs[j][adv_idx]['adv_similarities_target'] = copy.deepcopy(t1.adv_similarities)        \n",
    "        exp_logs[j][adv_idx]['adv_target'] = copy.deepcopy(t1.adv_target_hit)\n",
    "\n",
    "        # Miss attack\n",
    "        t1.atk_params.set_params(batch_size=batch_size, iteration = 10,\n",
    "                       target = -1, x_val_min = torch.min(data_x), x_val_max = torch.max(data_x),\n",
    "                       step_size = 0.05, step_norm = \"inf\", eps = 4, eps_norm = 2)\n",
    "        t1.generate_xadv(atk_type = \"pgd\")\n",
    "        t1.send_to_victims(victim_idxs)\n",
    "        exp_logs[j][adv_idx]['adv_miss'] = copy.deepcopy(t1.adv_acc_transfers)\n",
    "        exp_logs[j][adv_idx]['adv_similarities_untarget'] = copy.deepcopy(t1.adv_similarities)\n",
    "\n",
    "\n",
    "    del models_test"
   ]
  },
  {
   "cell_type": "code",
   "execution_count": 65,
   "metadata": {},
   "outputs": [],
   "source": [
    "metrics = ['orig_acc_transfers','orig_similarities','adv_acc_transfers','adv_similarities_target',\n",
    "           'adv_similarities_untarget','adv_target','adv_miss'] #,'metric_alignment']\n",
    "\n",
    "\n",
    "orig_acc = []\n",
    "orig_sim = []\n",
    "adv_acc = []\n",
    "adv_sim_target = []\n",
    "adv_sim_untarget = []\n",
    "adv_target = []\n",
    "adv_miss = []\n",
    "\n",
    "for i in range(len(tunes)):\n",
    "    victim_idxs = range(num_victims)\n",
    "    \n",
    "    orig_acc += [np.zeros([len(victim_idxs),len(victim_idxs)])]\n",
    "    orig_sim += [np.zeros([len(victim_idxs),len(victim_idxs)])]\n",
    "    adv_acc += [np.zeros([len(victim_idxs),len(victim_idxs)]) ]\n",
    "    adv_sim_target += [np.zeros([len(victim_idxs),len(victim_idxs)]) ]\n",
    "    adv_sim_untarget += [np.zeros([len(victim_idxs),len(victim_idxs)]) ]\n",
    "    adv_target += [np.zeros([len(victim_idxs),len(victim_idxs)])]\n",
    "    adv_miss += [np.zeros([len(victim_idxs),len(victim_idxs)]) ]\n",
    "    \n",
    "    for adv_idx in range(len(victim_idxs)):\n",
    "        for victim in range(len(victim_idxs)):\n",
    "            orig_acc[i][adv_idx,victim] = exp_logs[i][victim_idxs[adv_idx]][metrics[0]][victim_idxs[victim]].data.tolist()\n",
    "            orig_sim[i][adv_idx,victim] = exp_logs[i][victim_idxs[adv_idx]][metrics[1]][victim_idxs[victim]].data.tolist()\n",
    "            adv_acc[i][adv_idx,victim] = exp_logs[i][victim_idxs[adv_idx]][metrics[2]][victim_idxs[victim]].data.tolist()\n",
    "            adv_sim_target[i][adv_idx,victim] = exp_logs[i][victim_idxs[adv_idx]][metrics[3]][victim_idxs[victim]].data.tolist()\n",
    "            adv_sim_untarget[i][adv_idx,victim] = exp_logs[i][victim_idxs[adv_idx]][metrics[4]][victim_idxs[victim]].data.tolist()\n",
    "            adv_target[i][adv_idx,victim] = exp_logs[i][victim_idxs[adv_idx]][metrics[5]][victim_idxs[victim]].data.tolist()\n",
    "            adv_miss[i][adv_idx,victim] = exp_logs[i][victim_idxs[adv_idx]][metrics[6]][victim_idxs[victim]].data.tolist()"
   ]
  },
  {
   "cell_type": "code",
   "execution_count": 7,
   "metadata": {},
   "outputs": [
    {
     "ename": "NameError",
     "evalue": "name 'tunes' is not defined",
     "output_type": "error",
     "traceback": [
      "\u001b[0;31m---------------------------------------------------------------------------\u001b[0m",
      "\u001b[0;31mNameError\u001b[0m                                 Traceback (most recent call last)",
      "\u001b[0;32m/tmp/ipykernel_22543/2765555456.py\u001b[0m in \u001b[0;36m<module>\u001b[0;34m\u001b[0m\n\u001b[1;32m      1\u001b[0m \u001b[0;31m# Edit desired data\u001b[0m\u001b[0;34m\u001b[0m\u001b[0;34m\u001b[0m\u001b[0;34m\u001b[0m\u001b[0m\n\u001b[0;32m----> 2\u001b[0;31m \u001b[0mx\u001b[0m \u001b[0;34m=\u001b[0m \u001b[0mtunes\u001b[0m\u001b[0;34m\u001b[0m\u001b[0;34m\u001b[0m\u001b[0m\n\u001b[0m\u001b[1;32m      3\u001b[0m \u001b[0;31m# Acc\u001b[0m\u001b[0;34m\u001b[0m\u001b[0;34m\u001b[0m\u001b[0;34m\u001b[0m\u001b[0m\n\u001b[1;32m      4\u001b[0m \u001b[0my_acc\u001b[0m \u001b[0;34m=\u001b[0m \u001b[0;34m[\u001b[0m\u001b[0;34m]\u001b[0m\u001b[0;34m\u001b[0m\u001b[0;34m\u001b[0m\u001b[0m\n\u001b[1;32m      5\u001b[0m \u001b[0my_robust\u001b[0m \u001b[0;34m=\u001b[0m \u001b[0;34m[\u001b[0m\u001b[0;34m]\u001b[0m\u001b[0;34m\u001b[0m\u001b[0;34m\u001b[0m\u001b[0m\n",
      "\u001b[0;31mNameError\u001b[0m: name 'tunes' is not defined"
     ]
    }
   ],
   "source": [
    "# Edit desired data\n",
    "x = tunes\n",
    "# Acc\n",
    "y_acc = []\n",
    "y_robust = []\n",
    "y_target = []\n",
    "for i in range(len(tunes)):\n",
    "    y_acc += [np.mean(np.diagonal(orig_acc[i]))]\n",
    "    y_robust += [avg_nondiag(adv_miss[i])]\n",
    "    y_target += [avg_nondiag(adv_target[i])]\n",
    "    \n",
    "print('y_acc', y_acc)\n",
    "print('y_robust', y_robust)\n",
    "print('y_target', y_target)\n",
    "\n",
    "y = [y_acc, y_robust, y_target]"
   ]
  },
  {
   "cell_type": "code",
   "execution_count": 8,
   "metadata": {},
   "outputs": [],
   "source": [
    "# FedAvg\n",
    "y_acc_fedavg = [0.7759524305661519, 0.7291629274686178, 0.7039053002993266, 0.7122286359469095, 0.7104225118954977]\n",
    "y_robust_fedavg = [0.00367321710412701, 0.08055228201583738, 0.19223911974667793, 0.23761653060625706, 0.24973058150637717]\n",
    "y_target_fedavg = [0.75438867410024, 0.3948804363253571, 0.24475289206020534, 0.19235339586489966, 0.17711720772841502]\n",
    "\n",
    "# FedAvg- Adv\n",
    "y_acc_fedavg_adv = [0.7515561739603679, 0.7952017744382223, 0.7938427130381266, 0.7929713209470113, 0.7065970281759898]\n",
    "y_robust_fedavg_adv = [0.1726070836186409, 0.2053508875625474, 0.22123815138779934, 0.23938029557466506, 0.389599847084]\n",
    "y_target_fedavg_adv = [0.4110386868317922, 0.35708707925819216, 0.3233843540151914, 0.2935645662957714, 0.09727491667006342]\n",
    "\n",
    "# FedEM\n",
    "y_acc_fedem = [0.7722717265288035, 0.7562055726846059, 0.762859332561493, 0.761041259765625, 0.7655805905659994]\n",
    "y_robust_fedem = [0.0522492538077821, 0.18729588588721108, 0.2313245390573966, 0.24343840520529225, 0.2451879919228283]\n",
    "y_target_fedem = [0.49059560970756516, 0.25791059803758243, 0.21236735042639548, 0.19793031866656852, 0.18422645021781284]\n",
    "\n",
    "# FedEM - Adv\n",
    "y_acc_fedem_adv = [0.7667379101117452, 0.7582960565884908, 0.7554788966973622, 0.7609592616558075, 0.7551505009333292]\n",
    "y_robust_fedem_adv = [0.3074547937161278, 0.3337518439842281, 0.3375404459651795, 0.3410442241962635, 0.3462552427927075]\n",
    "y_target_fedem_adv = [0.2127153437964661, 0.18047826879968246, 0.17367599169621994, 0.17415346957277505, 0.1681970478153263]"
   ]
  },
  {
   "cell_type": "code",
   "execution_count": 12,
   "metadata": {},
   "outputs": [
    {
     "data": {
      "text/plain": [
       "Text(0.5, 1.0, 'CIFAR-10 Local Tuning Effect (Adv.)')"
      ]
     },
     "execution_count": 12,
     "metadata": {},
     "output_type": "execute_result"
    },
    {
     "data": {
      "image/png": "[encoded data removed]",
      "text/plain": [
       "<Figure size 432x288 with 1 Axes>"
      ]
     },
     "metadata": {
      "needs_background": "light"
     },
     "output_type": "display_data"
    }
   ],
   "source": [
    "x = [0,5,10,20,40]\n",
    "\n",
    "y2 = [y_acc_fedavg_adv, y_robust_fedavg_adv]\n",
    "y1 = [y_acc_fedem_adv, y_robust_fedem_adv]\n",
    "\n",
    "font = {'family' : 'normal',\n",
    "        'weight' : 'normal',\n",
    "        'size'   : 14}\n",
    "\n",
    "plt.rc('font', **font)\n",
    "\n",
    "\n",
    "names1 = ['FedEM Test Acc.', 'FedEM Adv. Acc.']\n",
    "names2 = ['FedAvg Test Acc.', 'FedAvg Adv. Acc.']\n",
    "colors = ['b','r']\n",
    "types = ['-', '--']\n",
    "\n",
    "\n",
    "for i in range(len(names1)):\n",
    "    plt.plot(x,y1[i],label= names1[i], linestyle = types[i], color = colors[0])\n",
    "for i in range(len(names1)):\n",
    "    plt.plot(x,y2[i],label= names2[i], linestyle = types[i], color = colors[1])\n",
    "#     plt.plot(x,y2[i], linestyle = types[i], color = colors[1])\n",
    "\n",
    "plt.legend(frameon=True, loc = (0.05, 0.35))\n",
    "plt.xlim();\n",
    "# plt.ylim(0, 1.0);\n",
    "plt.xlabel('Number of Local Tuning Steps')\n",
    "plt.ylabel('Accuracy')\n",
    "plt.title(\"CIFAR-10 Local Tuning Effect (Adv.)\")\n"
   ]
  },
  {
   "cell_type": "code",
   "execution_count": 15,
   "metadata": {},
   "outputs": [
    {
     "data": {
      "text/plain": [
       "Text(0.5, 1.0, 'CIFAR-10 Local Tuning Effect (Benign)')"
      ]
     },
     "execution_count": 15,
     "metadata": {},
     "output_type": "execute_result"
    },
    {
     "data": {
      "image/png": "[encoded data removed]",
      "text/plain": [
       "<Figure size 432x288 with 1 Axes>"
      ]
     },
     "metadata": {
      "needs_background": "light"
     },
     "output_type": "display_data"
    }
   ],
   "source": [
    "x = [0,5,10,20,40]\n",
    "\n",
    "y2 = [y_acc_fedavg, y_robust_fedavg]\n",
    "y1 = [y_acc_fedem, y_robust_fedem]\n",
    "\n",
    "font = {'family' : 'normal',\n",
    "        'weight' : 'normal',\n",
    "        'size'   : 14}\n",
    "\n",
    "plt.rc('font', **font)\n",
    "\n",
    "\n",
    "names1 = ['FedEM Test Acc.', 'FedEM Adv. Acc.']\n",
    "names2 = ['FedAvg Test Acc.', 'FedAvg Adv. Acc.']\n",
    "colors = ['b','r']\n",
    "types = ['-', '--']\n",
    "\n",
    "\n",
    "for i in range(len(names1)):\n",
    "    plt.plot(x,y1[i],label= names1[i], linestyle = types[i], color = colors[0])\n",
    "for i in range(len(names1)):\n",
    "    plt.plot(x,y2[i],label= names2[i], linestyle = types[i], color = colors[1])\n",
    "#     plt.plot(x,y2[i], linestyle = types[i], color = colors[1])\n",
    "\n",
    "plt.legend(frameon=True, loc = (0.05, 0.36))\n",
    "plt.xlim();\n",
    "# plt.ylim(0, 1.0);\n",
    "plt.xlabel('Number of Local Tuning Steps')\n",
    "plt.ylabel('Accuracy')\n",
    "plt.title(\"CIFAR-10 Local Tuning Effect (Benign)\")\n"
   ]
  },
  {
   "cell_type": "code",
   "execution_count": null,
   "metadata": {},
   "outputs": [],
   "source": []
  }
 ],
 "metadata": {
  "kernelspec": {
   "display_name": "FedEM_env",
   "language": "python",
   "name": "fedem_env"
  },
  "language_info": {
   "codemirror_mode": {
    "name": "ipython",
    "version": 3
   },
   "file_extension": ".py",
   "mimetype": "text/x-python",
   "name": "python",
   "nbconvert_exporter": "python",
   "pygments_lexer": "ipython3",
   "version": "3.9.6"
  }
 },
 "nbformat": 4,
 "nbformat_minor": 4
}
